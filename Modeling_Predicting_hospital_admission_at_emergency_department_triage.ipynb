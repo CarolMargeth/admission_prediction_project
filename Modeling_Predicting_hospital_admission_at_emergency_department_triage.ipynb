{
 "cells": [
  {
   "cell_type": "markdown",
   "id": "0e02bba8",
   "metadata": {
    "id": "0e02bba8"
   },
   "source": [
    "# Predicting hospital admission at emergency department triage"
   ]
  },
  {
   "cell_type": "markdown",
   "id": "49c14632",
   "metadata": {
    "id": "49c14632"
   },
   "source": [
    "**Main statement**\n",
    "Using machine learning, how might we predict the patient admission into the hospital in the emergency department to provide better information that helps the different stakeholders make better decisions.\n"
   ]
  },
  {
   "cell_type": "markdown",
   "id": "26aff65c",
   "metadata": {},
   "source": [
    "### Notebook Content"
   ]
  },
  {
   "cell_type": "markdown",
   "id": "f48c4c07",
   "metadata": {},
   "source": [
    "- Baseline Model\n",
    "    - Logistic Regression\n",
    "- Class imabalance\n",
    "    - Downsampling / Imbalance learn\n",
    "- Feature selection\n",
    "    - Variance Threshold\n",
    "    - K-best\n",
    "    - PCA\n",
    "- Hiperparameter Optimization and Cross validation\n",
    "    - Logistic Regression\n",
    "    - Decision Trees\n",
    "    - Random forest\n",
    "    - XGBoost\n",
    "- Pipelines\n",
    "    - Logistic Regression\n",
    "    - Random forest\n",
    "    - XGBoost\n"
   ]
  },
  {
   "cell_type": "markdown",
   "id": "14c097ec",
   "metadata": {},
   "source": [
    "This notebook builds upon the previous one, which documented the entire process of data exploration and preprocessing. It will be using the 'processed_df' dataframe in this notebook."
   ]
  },
  {
   "cell_type": "code",
   "execution_count": 1,
   "id": "57bd5b71",
   "metadata": {},
   "outputs": [],
   "source": [
    "import pandas as pd\n",
    "import numpy as np\n",
    "import matplotlib.pyplot as plt\n",
    "import seaborn as sns\n",
    "import plotly as px\n",
    "from scipy import stats"
   ]
  },
  {
   "cell_type": "code",
   "execution_count": 2,
   "id": "8383996b",
   "metadata": {},
   "outputs": [],
   "source": [
    "# Load the data\n",
    "df_processed_original = pd.read_csv('/Users/ccalderon/Documents/Repositories/df_processed.csv')\n"
   ]
  },
  {
   "cell_type": "code",
   "execution_count": 3,
   "id": "19078d1a",
   "metadata": {},
   "outputs": [
    {
     "name": "stdout",
     "output_type": "stream",
     "text": [
      "The dataframe has 534730 rows and 602 columns.\n"
     ]
    }
   ],
   "source": [
    "# Shape\n",
    "print(f'The dataframe has {df_processed_original.shape[0]} rows and {df_processed_original.shape[1]} columns.')\n"
   ]
  },
  {
   "cell_type": "markdown",
   "id": "7ec35f36",
   "metadata": {},
   "source": [
    "**Take only 10% of the data to make faster run the models, once the notebook will be completed run everything in SageMaker using the whole dataframe**\n",
    "Remember change the name of the original df_processed when will be the moment to run the notebook with the whole quantity of data."
   ]
  },
  {
   "cell_type": "code",
   "execution_count": 4,
   "id": "1c6dc4f4",
   "metadata": {},
   "outputs": [],
   "source": [
    "from sklearn.model_selection import train_test_split\n",
    "\n",
    "# Split the dataset into sample and remainder sets, with stratification based on the class labels\n",
    "df_processed, remainder_df = train_test_split(df_processed_original, test_size=0.9, stratify=df_processed_original['disposition'], random_state=1)\n",
    "\n"
   ]
  },
  {
   "cell_type": "code",
   "execution_count": 5,
   "id": "64e0a2ef",
   "metadata": {},
   "outputs": [
    {
     "data": {
      "text/plain": [
       "(53473, 602)"
      ]
     },
     "execution_count": 5,
     "metadata": {},
     "output_type": "execute_result"
    }
   ],
   "source": [
    "df_processed.shape"
   ]
  },
  {
   "cell_type": "markdown",
   "id": "87bc8229-a469-4880-83bf-251f87bf05e2",
   "metadata": {},
   "source": [
    "# Modeling"
   ]
  },
  {
   "cell_type": "markdown",
   "id": "8dda3b4c-3852-4d47-b421-7581f45ebf86",
   "metadata": {},
   "source": [
    "The task of predicting whether a patient will be admitted or discharged is a binary classification problem, which involves making one of two possible predictions.\n",
    "\n",
    "There are several machine learning models that can be used to solve binary classification problems like predicting whether a patient will be admitted or discharged. Some popular ones are:\n",
    "\n",
    "- Logistic Regression\n",
    "- Decision Trees\n",
    "- Random Forests\n",
    "- Support Vector Machines (SVM)\n",
    "- Naive Bayes\n",
    "- Neural Networks (e.g., Multi-layer Perceptron)\n",
    "\n",
    "The choice of model depends on various factors such as the size of the dataset, the complexity of the problem, the interpretability of the model, and the desired level of accuracy. \n",
    "\n",
    "It is usually a good practice to try out multiple models and compare their performance to select the best one for the problem at hand.\n",
    "\n",
    "The df_processed contains more than 500000 rows and more than 600 features (good mix between categorical and numerical columns) , it is a large dataset that could be computationally expensive to train and test depending the model chose. Based on this, to this case it will be explored the following models:\n",
    "\n",
    "- Logistic Regression: commonly used model for binary classification problems. With a high number of columns there may be many potential interactions and non-linearities among the features. That being said, it's always worth trying logistic regression as a baseline model for comparison purposes, especially if the dataset has a small number of informative features. This model is simple, interpretable, and computationally efficient, and it can serve as a good starting point for model selection.\n",
    "\n",
    "- Decision Trees: partitioning the data into multiple subsets based on specified cutoff values in the features this model predicts the outcome for each leaf node by using the average outcome of the training data within that particular node.\n",
    "\n",
    "- Random Forest: This model is known to perform well with large datasets and high-dimensional feature spaces. It can handle a mix of categorical and numerical features, and it's relatively easy to interpret.\n",
    "\n",
    "- Gradient Boosting (XGBoost): This model is also known to perform well with large datasets and can handle a mix of categorical and numerical features. It's more complex than Random Forests, but it can achieve better performance with careful tuning because is more likely to over-fitting.\n"
   ]
  },
  {
   "cell_type": "markdown",
   "id": "b924fbc6-8bfb-42ea-969a-ea65c96c560c",
   "metadata": {
    "tags": []
   },
   "source": [
    "## Logistic Regression Model"
   ]
  },
  {
   "cell_type": "markdown",
   "id": "6854104a-4aaa-46a1-ab8f-68e32383787c",
   "metadata": {},
   "source": [
    "Previous Assumptions:\n",
    "- Observations are independent of each other.\n",
    "- The relationship between the independent variables and the log odds of the binary outcome is linear.\n",
    "- There is no perfect multicollinearity between the independent variables.\n",
    "- There is a large enough sample size to provide reliable estimates of the coefficients.\n",
    "- Should not be outliers in the data.\n",
    "- The errors (residuals) are independent of each other.\n"
   ]
  },
  {
   "cell_type": "code",
   "execution_count": 6,
   "id": "ab8d4fdb",
   "metadata": {},
   "outputs": [
    {
     "name": "stdout",
     "output_type": "stream",
     "text": [
      "<class 'pandas.core.frame.DataFrame'>\n",
      "Int64Index: 53473 entries, 399260 to 378058\n",
      "Columns: 602 entries, disposition to whtblooddx\n",
      "dtypes: float64(202), int64(400)\n",
      "memory usage: 246.0 MB\n"
     ]
    }
   ],
   "source": [
    "# Data\n",
    "df_processed.info()"
   ]
  },
  {
   "cell_type": "code",
   "execution_count": 7,
   "id": "fbad3796",
   "metadata": {},
   "outputs": [],
   "source": [
    "# Define the predictor variables\n",
    "X = df_processed.drop(columns=['disposition'],axis=1).copy()\n",
    "\n",
    "# Define the target variable\n",
    "y = df_processed['disposition']"
   ]
  },
  {
   "cell_type": "code",
   "execution_count": 8,
   "id": "d39cb269",
   "metadata": {},
   "outputs": [],
   "source": [
    "# Import the library\n",
    "from sklearn.model_selection import train_test_split\n",
    "\n",
    "# Create the train and test sets\n",
    "X_train, X_test, y_train, y_test = train_test_split(X, y, \n",
    "                                                 test_size=0.3, \n",
    "                                                 random_state=3, \n",
    "                                                 stratify=y)"
   ]
  },
  {
   "cell_type": "code",
   "execution_count": 9,
   "id": "1fa60f7b",
   "metadata": {},
   "outputs": [
    {
     "name": "stdout",
     "output_type": "stream",
     "text": [
      "Baseline_logred train accuracy: 0.8599022200849563\n",
      "Baseline_logreg test accuracy: 0.8488966463034534\n"
     ]
    }
   ],
   "source": [
    "# Logistic regression baseline model\n",
    "from sklearn.linear_model import LogisticRegression\n",
    "\n",
    "baseline_logreg = LogisticRegression(solver='lbfgs', max_iter=10000, random_state=1)\n",
    "baseline_logreg.fit(X_train, y_train)\n",
    "predictions_train = baseline_logreg.predict(X_train)\n",
    "predictions_test = baseline_logreg.predict(X_test)\n",
    "blg_train_accuracy = baseline_logreg.score(X_train, y_train)\n",
    "blr_test_accuracy = baseline_logreg.score(X_test, y_test)\n",
    "\n",
    "# Print the accuracy of the model\n",
    "print(f\"Baseline_logred train accuracy: {blg_train_accuracy}\")\n",
    "print(f\"Baseline_logreg test accuracy: {blr_test_accuracy}\")"
   ]
  },
  {
   "cell_type": "markdown",
   "id": "18b14d37-6531-4886-8957-bf125d291e29",
   "metadata": {},
   "source": [
    "It looks like the model is performing really well, 85% accuracy. However, imbalanced data forces us to rely on other evaluation metrics than accuracy: precision, recall, F1 score, and area under the ROC curve to evaluate our model."
   ]
  },
  {
   "cell_type": "markdown",
   "id": "6f706c48-8ce4-4810-9d68-2756e232ed32",
   "metadata": {},
   "source": [
    "**Predictors**"
   ]
  },
  {
   "cell_type": "code",
   "execution_count": 10,
   "id": "3e4ee579",
   "metadata": {},
   "outputs": [],
   "source": [
    "# Logistic Regression Coeficients (remove # too se the coeficients)\n",
    "# baseline_logreg.coef_"
   ]
  },
  {
   "cell_type": "code",
   "execution_count": 11,
   "id": "b332463b",
   "metadata": {},
   "outputs": [],
   "source": [
    "# Define the feature_label and its coefficient\n",
    "column_labels = X_train.columns.tolist()\n",
    "\n",
    "# Squeeze function to convert the numpy array into a 1-dimensional array\n",
    "coef = baseline_logreg.coef_.squeeze().tolist()"
   ]
  },
  {
   "cell_type": "code",
   "execution_count": 12,
   "id": "70034d7a",
   "metadata": {},
   "outputs": [],
   "source": [
    "# Create a dictionary with column_labels as key and coeficients as values (remove '#' to visualize all the predictors)\n",
    "\n",
    "lg_predictors = dict(zip(column_labels, coef))\n",
    "# lg_predictors "
   ]
  },
  {
   "cell_type": "code",
   "execution_count": 13,
   "id": "9ec2ad15",
   "metadata": {},
   "outputs": [
    {
     "data": {
      "text/plain": [
       "[('esi_1', 2.5015479570387558),\n",
       " ('cc_respiratorydistress', 2.120106595338743),\n",
       " ('cc_strokealert', 1.7590132637562228),\n",
       " ('cc_feverimmunocompromised', 1.6717565166696045),\n",
       " ('cc_psychoticsymptoms', 1.5651823362114734),\n",
       " ('cc_cellulitis', 1.5223396234124298),\n",
       " ('cc_fever-75yearsorolder', 1.4687432323025962),\n",
       " ('cc_extremityweakness', 1.3511830202982338),\n",
       " ('cc_fulltrauma', 1.2288736124728168),\n",
       " ('meds_contraceptives', 1.2007503038402996),\n",
       " ('meds_biologicals', 1.1770320591898082),\n",
       " ('acutphanm', 1.171997032406671),\n",
       " ('cc_neurologicproblem', 1.1379631730781556),\n",
       " ('cc_follow-upcellulitis', 1.0858908817427098),\n",
       " ('cc_fever-9weeksto74years', 1.0397121718028273),\n",
       " ('cc_abdominaldistention', 1.0171489531928646),\n",
       " ('cc_woundinfection', 1.008627503610258),\n",
       " ('cc_pain', 0.9785301439769255),\n",
       " ('cc_multiplefalls', 0.944382800131184),\n",
       " ('nervcongan', 0.919203045407405)]"
      ]
     },
     "execution_count": 13,
     "metadata": {},
     "output_type": "execute_result"
    }
   ],
   "source": [
    "# Top 20 most predictive features by coefficient\n",
    "\n",
    "sorted_predictors = sorted(lg_predictors.items(), key=lambda x: x[1], reverse=True)\n",
    "sorted_predictors[:20]"
   ]
  },
  {
   "cell_type": "markdown",
   "id": "ffbe99c5-0c99-465f-ab32-a99177455aca",
   "metadata": {},
   "source": [
    "The best predictor is esi_1 (emergency severity index 1) which is expected because this index is refering to the patients that the professional considers require attention immediately when the patient is in the triage stage. It is interesting that predictors with higher coefficients are mainly chief complains and some medications groups.  "
   ]
  },
  {
   "cell_type": "markdown",
   "id": "e21ce0e9",
   "metadata": {},
   "source": [
    "**Model evaluation**\n",
    "\n",
    "As was said, class imbalance can cause an issue when training models. Consider the cost function when the model is fitting on the training data. The cost function is going to be biased towards the majority class and will result in a model that doesn't learn enough about the minority class.\n",
    "\n",
    "Lets see the confusion matrix to evaluate other scores:"
   ]
  },
  {
   "cell_type": "code",
   "execution_count": 14,
   "id": "e19c08cc",
   "metadata": {},
   "outputs": [
    {
     "data": {
      "text/html": [
       "<div>\n",
       "<style scoped>\n",
       "    .dataframe tbody tr th:only-of-type {\n",
       "        vertical-align: middle;\n",
       "    }\n",
       "\n",
       "    .dataframe tbody tr th {\n",
       "        vertical-align: top;\n",
       "    }\n",
       "\n",
       "    .dataframe thead th {\n",
       "        text-align: right;\n",
       "    }\n",
       "</style>\n",
       "<table border=\"1\" class=\"dataframe\">\n",
       "  <thead>\n",
       "    <tr style=\"text-align: right;\">\n",
       "      <th></th>\n",
       "      <th>Predicted Discharge</th>\n",
       "      <th>Predicted Admitted</th>\n",
       "    </tr>\n",
       "  </thead>\n",
       "  <tbody>\n",
       "    <tr>\n",
       "      <th>True Discharge</th>\n",
       "      <td>10370</td>\n",
       "      <td>730</td>\n",
       "    </tr>\n",
       "    <tr>\n",
       "      <th>True Admitted</th>\n",
       "      <td>1694</td>\n",
       "      <td>3248</td>\n",
       "    </tr>\n",
       "  </tbody>\n",
       "</table>\n",
       "</div>"
      ],
      "text/plain": [
       "                Predicted Discharge  Predicted Admitted\n",
       "True Discharge                10370                 730\n",
       "True Admitted                  1694                3248"
      ]
     },
     "metadata": {},
     "output_type": "display_data"
    }
   ],
   "source": [
    "# Import the confusion matrix module\n",
    "from sklearn.metrics import confusion_matrix\n",
    "\n",
    "# Generate confusion matrix\n",
    "cf_matrix = confusion_matrix(y_test, predictions_test)\n",
    "\n",
    "# label rows and columns\n",
    "cf_df = pd.DataFrame(\n",
    "    cf_matrix, \n",
    "    columns=[\"Predicted Discharge\", \"Predicted Admitted\"],\n",
    "    index=[\"True Discharge\", \"True Admitted\"]\n",
    ")\n",
    "\n",
    "display(cf_df)"
   ]
  },
  {
   "cell_type": "markdown",
   "id": "38fc1cd8",
   "metadata": {},
   "source": [
    "**Results running the whole dataframe:**\n",
    "\n",
    "- True Discharge: 104,335 patients were actually discharged and the model correctly predicted that they would be discharged.\n",
    "- False Admitted: 6,667 patients were actually discharged but the model incorrectly predicted that they would be admitted.\n",
    "- False Discharge: 16,558 patients were actually admitted but the model incorrectly predicted that they would be discharged.\n",
    "- True Admitted: 32,859 patients were actually admitted and the model correctly predicted that they would be admitted.\n",
    "\n",
    "In summary, the model correctly classified 137,194 patients (104,335 true discharge and 32,859 true admitted) and incorrectly classified 23,225 patients (6,667 false admitted and 16,558 false discharge)."
   ]
  },
  {
   "cell_type": "code",
   "execution_count": 15,
   "id": "2358b15b",
   "metadata": {},
   "outputs": [
    {
     "name": "stdout",
     "output_type": "stream",
     "text": [
      "              precision    recall  f1-score   support\n",
      "\n",
      "           0       0.86      0.93      0.90     11100\n",
      "           1       0.82      0.66      0.73      4942\n",
      "\n",
      "    accuracy                           0.85     16042\n",
      "   macro avg       0.84      0.80      0.81     16042\n",
      "weighted avg       0.85      0.85      0.84     16042\n",
      "\n"
     ]
    }
   ],
   "source": [
    "# Import the classification_report module\n",
    "from sklearn.metrics import classification_report\n",
    "\n",
    "report = classification_report(y_test, predictions_test)\n",
    "print(report)"
   ]
  },
  {
   "cell_type": "markdown",
   "id": "c3831f0f",
   "metadata": {},
   "source": [
    "Precision: the precision for class 0.0 is 0.86, which means that 86% of the instances that the model predicted as 0.0 were actually 0.0. Similarly, the precision for class 1.0 is 0.83, indicating that 83% of the instances that the model predicted as 1.0 were actually 1.0.\n",
    "\n",
    "Recall: the recall for class 0.0 is 0.94, which means that 94% of the actual instances that were 0.0 were correctly predicted by the model. **The recall for class 1.0 is 0.66, indicating that 66% of the actual instances that were 1.0 were correctly predicted by the model**.\n",
    "\n",
    "F1-score: F1-score for class 0.0 is 0.90, and the F1-score for class 1.0 is 0.74. The weighted average F1-score is 0.85, indicating that the model performed reasonably well overall."
   ]
  },
  {
   "cell_type": "markdown",
   "id": "e61fbed2",
   "metadata": {},
   "source": [
    "## Class imbalance"
   ]
  },
  {
   "cell_type": "markdown",
   "id": "b17d8b7c",
   "metadata": {},
   "source": [
    "To correct the imbalance in this case the approach is going to be downsampling. (A very important note here is that which ever approach will be applied should only be done to the training data, the test data should remain untouched and have class imbalance consistent with what you would expect the real world to be.)"
   ]
  },
  {
   "cell_type": "markdown",
   "id": "aa9f7dad-4ffb-43d5-90e3-c0041969f84a",
   "metadata": {},
   "source": [
    "### Downsampling"
   ]
  },
  {
   "cell_type": "markdown",
   "id": "36af5053-4598-4b63-a4cd-1e80d4405826",
   "metadata": {},
   "source": [
    "Downsampling is a method for reducing the size of a dataset by randomly removing observations from the majority class, which can help to balance the class distribution in a binary classification problem. This can be useful when the dataset is imbalanced and the minority class is underrepresented."
   ]
  },
  {
   "cell_type": "code",
   "execution_count": 16,
   "id": "ff86ab99",
   "metadata": {},
   "outputs": [
    {
     "name": "stdout",
     "output_type": "stream",
     "text": [
      "Number of class 0 examples before: 25901\n",
      "Number of class 0 examples after: 11530\n"
     ]
    }
   ],
   "source": [
    "from sklearn.utils import resample\n",
    "\n",
    "print('Number of class 0 examples before:', X_train[y_train == 0].shape[0])\n",
    "\n",
    "X_downsampled, y_downsampled = resample(X_train[y_train == 0], \n",
    "                                        y_train[y_train == 0], \n",
    "                                        replace=True, \n",
    "                                        n_samples=X_train[y_train == 1].shape[0], \n",
    "                                        random_state=123)\n",
    "\n",
    "print('Number of class 0 examples after:', X_downsampled.shape[0])\n",
    "\n",
    "# Combine downsample with original data\n",
    "X_train_bal2 = np.vstack((X_train[y_train == 1], X_downsampled))\n",
    "y_train_bal2 = np.hstack((y_train[y_train == 1], y_downsampled))\n",
    "\n",
    "# Convert the X variable numpy array into a dataframe\n",
    "X_train_bal2 = pd.DataFrame(X_train_bal2, columns=X.columns)"
   ]
  },
  {
   "cell_type": "markdown",
   "id": "bd3a7d40",
   "metadata": {},
   "source": [
    "Let's try again the logistic regression model using the downsampled data:"
   ]
  },
  {
   "cell_type": "code",
   "execution_count": 17,
   "id": "7a4d7732",
   "metadata": {},
   "outputs": [
    {
     "name": "stdout",
     "output_type": "stream",
     "text": [
      "Baseline_logred train accuracy: 0.8346053772766695\n",
      "Baseline_logreg test accuracy: 0.8300710634584216\n"
     ]
    }
   ],
   "source": [
    "# Logistic regression after downsampling\n",
    "\n",
    "resample_logreg = LogisticRegression(solver='lbfgs', max_iter=10000, random_state=1)\n",
    "resample_logreg.fit(X_train_bal2, y_train_bal2)\n",
    "predictions_train = resample_logreg.predict(X_train_bal2)\n",
    "predictions_test_ds = resample_logreg.predict(X_test)\n",
    "resample_train_accuracy = resample_logreg.score(X_train_bal2, y_train_bal2)\n",
    "test_accuracy = resample_logreg.score(X_test, y_test)\n",
    "\n",
    "# Print the accuracy of the model\n",
    "print(f\"Baseline_logred train accuracy: {resample_train_accuracy}\")\n",
    "print(f\"Baseline_logreg test accuracy: {test_accuracy}\")"
   ]
  },
  {
   "cell_type": "markdown",
   "id": "341b4ed8-e836-4ff0-9aeb-21b911f6d0bc",
   "metadata": {},
   "source": [
    "Quite similar accuracy but it is more relevant evaluate recall:"
   ]
  },
  {
   "cell_type": "code",
   "execution_count": 18,
   "id": "19bfe131",
   "metadata": {},
   "outputs": [
    {
     "data": {
      "text/html": [
       "<div>\n",
       "<style scoped>\n",
       "    .dataframe tbody tr th:only-of-type {\n",
       "        vertical-align: middle;\n",
       "    }\n",
       "\n",
       "    .dataframe tbody tr th {\n",
       "        vertical-align: top;\n",
       "    }\n",
       "\n",
       "    .dataframe thead th {\n",
       "        text-align: right;\n",
       "    }\n",
       "</style>\n",
       "<table border=\"1\" class=\"dataframe\">\n",
       "  <thead>\n",
       "    <tr style=\"text-align: right;\">\n",
       "      <th></th>\n",
       "      <th>Predicted Discharge</th>\n",
       "      <th>Predicted Admitted</th>\n",
       "    </tr>\n",
       "  </thead>\n",
       "  <tbody>\n",
       "    <tr>\n",
       "      <th>True Discharge</th>\n",
       "      <td>9383</td>\n",
       "      <td>1717</td>\n",
       "    </tr>\n",
       "    <tr>\n",
       "      <th>True Admitted</th>\n",
       "      <td>1009</td>\n",
       "      <td>3933</td>\n",
       "    </tr>\n",
       "  </tbody>\n",
       "</table>\n",
       "</div>"
      ],
      "text/plain": [
       "                Predicted Discharge  Predicted Admitted\n",
       "True Discharge                 9383                1717\n",
       "True Admitted                  1009                3933"
      ]
     },
     "metadata": {},
     "output_type": "display_data"
    }
   ],
   "source": [
    "# Generate confusion matrix\n",
    "cf_matrix = confusion_matrix(y_test, predictions_test_ds)\n",
    "\n",
    "# label rows and columns\n",
    "cf_df = pd.DataFrame(\n",
    "    cf_matrix, \n",
    "    columns=[\"Predicted Discharge\", \"Predicted Admitted\"],\n",
    "    index=[\"True Discharge\", \"True Admitted\"]\n",
    ")\n",
    "\n",
    "display(cf_df)"
   ]
  },
  {
   "cell_type": "code",
   "execution_count": 19,
   "id": "d8bcf2a5",
   "metadata": {},
   "outputs": [
    {
     "name": "stdout",
     "output_type": "stream",
     "text": [
      "              precision    recall  f1-score   support\n",
      "\n",
      "           0       0.90      0.85      0.87     11100\n",
      "           1       0.70      0.80      0.74      4942\n",
      "\n",
      "    accuracy                           0.83     16042\n",
      "   macro avg       0.80      0.82      0.81     16042\n",
      "weighted avg       0.84      0.83      0.83     16042\n",
      "\n"
     ]
    }
   ],
   "source": [
    "# Logistic Regression Report with downsampling\n",
    "report_ds = classification_report(y_test, predictions_test_ds)\n",
    "print(report_ds)"
   ]
  },
  {
   "cell_type": "markdown",
   "id": "b9058b24",
   "metadata": {},
   "source": [
    "Remember Logistic Regression Report without downsampling"
   ]
  },
  {
   "cell_type": "code",
   "execution_count": 20,
   "id": "af442f20",
   "metadata": {},
   "outputs": [
    {
     "name": "stdout",
     "output_type": "stream",
     "text": [
      "              precision    recall  f1-score   support\n",
      "\n",
      "           0       0.86      0.93      0.90     11100\n",
      "           1       0.82      0.66      0.73      4942\n",
      "\n",
      "    accuracy                           0.85     16042\n",
      "   macro avg       0.84      0.80      0.81     16042\n",
      "weighted avg       0.85      0.85      0.84     16042\n",
      "\n"
     ]
    }
   ],
   "source": [
    "# Logistic Regression Report without downsampling\n",
    "report = classification_report(y_test, predictions_test)\n",
    "print(report)"
   ]
  },
  {
   "cell_type": "markdown",
   "id": "0ef7345b",
   "metadata": {},
   "source": [
    "Now the model is generating more false positives (Type I error) and less false negatives (Type II error), the recall improved but the precision went down. Gladly the overal performance is quite similar ~84%."
   ]
  },
  {
   "cell_type": "markdown",
   "id": "74a44b20-b2d8-4fb1-960f-9ca3a60d7b08",
   "metadata": {},
   "source": [
    "### Imbalaced-learn "
   ]
  },
  {
   "cell_type": "markdown",
   "id": "58f679d7",
   "metadata": {},
   "source": [
    "Imbalanced-learn (imported as imblearn) is an open source, MIT-licensed library relying on scikit-learn (imported as sklearn) and provides tools when dealing with classification with imbalanced classes. This class does the same that 'resample' but it is easier to implement."
   ]
  },
  {
   "cell_type": "code",
   "execution_count": 21,
   "id": "72775228-f09b-4c4d-af1a-c868deb86876",
   "metadata": {},
   "outputs": [
    {
     "name": "stdout",
     "output_type": "stream",
     "text": [
      "[(0, 11530), (1, 11530)]\n"
     ]
    }
   ],
   "source": [
    "from collections import Counter\n",
    "from imblearn.under_sampling import RandomUnderSampler\n",
    "\n",
    "rus = RandomUnderSampler(random_state=0)\n",
    "\n",
    "X_resampled, y_resampled = rus.fit_resample(X_train, y_train)\n",
    "\n",
    "print(sorted(Counter(y_resampled).items()))"
   ]
  },
  {
   "cell_type": "markdown",
   "id": "2eedbb87-86a6-4b87-bed9-5815e40596a8",
   "metadata": {},
   "source": [
    "This method was very much easier to fit, now confirm if it is equally performing:"
   ]
  },
  {
   "cell_type": "code",
   "execution_count": 22,
   "id": "4d95c8df-6cd1-473f-bec0-55795ef3cd6d",
   "metadata": {},
   "outputs": [
    {
     "name": "stdout",
     "output_type": "stream",
     "text": [
      "Baseline_logred train accuracy: 0.8363399826539463\n",
      "Baseline_logreg test accuracy: 0.8300710634584216\n"
     ]
    }
   ],
   "source": [
    "# Logistic regression after downsampling with imbalance learn\n",
    "\n",
    "resample2_logreg = LogisticRegression(solver='lbfgs', max_iter=10000, random_state=1)\n",
    "resample2_logreg.fit(X_resampled, y_resampled)\n",
    "predictions_train = resample2_logreg.predict(X_resampled)\n",
    "predictions_test_imb = resample2_logreg.predict(X_test)\n",
    "resample2_train_accuracy = resample2_logreg.score(X_resampled, y_resampled)\n",
    "test_accuracy = resample_logreg.score(X_test, y_test)\n",
    "\n",
    "# Print the accuracy of the model\n",
    "print(f\"Baseline_logred train accuracy: {resample2_train_accuracy}\")\n",
    "print(f\"Baseline_logreg test accuracy: {test_accuracy}\")"
   ]
  },
  {
   "cell_type": "code",
   "execution_count": 23,
   "id": "bd8e0474-10ed-40d5-80d7-f1c644032ad2",
   "metadata": {},
   "outputs": [
    {
     "name": "stdout",
     "output_type": "stream",
     "text": [
      "              precision    recall  f1-score   support\n",
      "\n",
      "           0       0.91      0.84      0.87     11100\n",
      "           1       0.70      0.80      0.75      4942\n",
      "\n",
      "    accuracy                           0.83     16042\n",
      "   macro avg       0.80      0.82      0.81     16042\n",
      "weighted avg       0.84      0.83      0.83     16042\n",
      "\n"
     ]
    }
   ],
   "source": [
    "# Logistic Regression Report after using imbalance learn\n",
    "\n",
    "report_imb = classification_report(y_test, predictions_test_imb)\n",
    "print(report_imb)"
   ]
  },
  {
   "cell_type": "markdown",
   "id": "ca6f886c",
   "metadata": {},
   "source": [
    "Compare with downsampling results"
   ]
  },
  {
   "cell_type": "code",
   "execution_count": 24,
   "id": "63a0ffe4",
   "metadata": {},
   "outputs": [
    {
     "name": "stdout",
     "output_type": "stream",
     "text": [
      "              precision    recall  f1-score   support\n",
      "\n",
      "           0       0.90      0.85      0.87     11100\n",
      "           1       0.70      0.80      0.74      4942\n",
      "\n",
      "    accuracy                           0.83     16042\n",
      "   macro avg       0.80      0.82      0.81     16042\n",
      "weighted avg       0.84      0.83      0.83     16042\n",
      "\n"
     ]
    }
   ],
   "source": [
    "# Logistic Regression Report with downsampling\n",
    "report_ds = classification_report(y_test, predictions_test_ds)\n",
    "print(report_ds)"
   ]
  },
  {
   "cell_type": "markdown",
   "id": "ec21bbc8-38bf-41c0-bae9-054301ac6dc3",
   "metadata": {},
   "source": [
    "Downsampling or RandomUnderSampler could be used to improve the recall of the model.\n",
    "\n",
    "**At this point the data to keep working with will be the data downsampled:**\n",
    "\n",
    "- X_resampled (original X_train after downsampling)\n",
    "- y_resampled (original y_train after downsampling)\n",
    "- X_test\n",
    "- y_test\n"
   ]
  },
  {
   "cell_type": "markdown",
   "id": "e1bca5b2",
   "metadata": {},
   "source": [
    "## Feature selection"
   ]
  },
  {
   "cell_type": "markdown",
   "id": "c4717371-41fa-48d3-bd6c-46dfd43e84ca",
   "metadata": {},
   "source": [
    "Feature selection is the process of selecting a subset of the most important features (variables) from a larger set of available features in a dataset. \n",
    "\n",
    "Goal: the most simple model possible with the most predictive power.\n",
    "\n",
    "There are several approaches to feature selection, regarding this case will be applied:\n",
    "\n",
    "- Filter methods \n",
    "\n",
    "    - Variance Threshold: evaluates the variance of each feature in the dataset and removes those that have a variance below a certain threshold. \n",
    "    - K-best: using statistical tests to evaluate the relationship between each feature and the target variable, and then select the top k features based on their scores.\n",
    "\n",
    "- Dimensionality reduction\n",
    "\n",
    "    - PCA: reducing the number of features by transforming the original features into a lower-dimensional space while retaining most of the relevant information.\n",
    "\n",
    "**It is important to carefully evaluate the performance of the selected features on a validation set or through cross-validation to ensure that the final model is robust and generalizable.**"
   ]
  },
  {
   "cell_type": "markdown",
   "id": "ee0d34e5-e924-4e24-9288-f3117b94f55f",
   "metadata": {},
   "source": [
    "### Variance threshold"
   ]
  },
  {
   "cell_type": "markdown",
   "id": "662d16c0-f6a1-48a8-b367-82641ce857ab",
   "metadata": {},
   "source": [
    "Variance threshold (VT) is a simple baseline approach to feature selection. It removes all features whose variance doesn’t meet some threshold. VT is quite useful to eliminate additional features that don’t provide much value to the model and introduce unnecessary complexity.\n",
    "\n",
    "The first step is scale the data:"
   ]
  },
  {
   "cell_type": "code",
   "execution_count": 25,
   "id": "d63bbdc3",
   "metadata": {},
   "outputs": [],
   "source": [
    "# scaling the data\n",
    "from sklearn.preprocessing import MinMaxScaler\n",
    "\n",
    "# Instantiate the scaler\n",
    "mms = MinMaxScaler()\n",
    "\n",
    "# Fit the scale the train data \n",
    "df_scaled = mms.fit_transform(X_resampled)\n",
    "\n",
    "# Convert the scaled train arrays to DataFrames\n",
    "X_resampled_ss = pd.DataFrame(data=df_scaled, columns=X_resampled.columns)\n",
    "\n",
    "# Scale the test data using the same scaler\n",
    "X_test_scaled = mms.transform(X_test)\n",
    "\n",
    "# Convert the scaled test arrays to DataFrames\n",
    "X_test_ss = pd.DataFrame(data=X_test_scaled, columns=X_test.columns)"
   ]
  },
  {
   "cell_type": "markdown",
   "id": "5b9aebe1-3671-487f-8216-529c01ca8fcb",
   "metadata": {},
   "source": [
    "Subsequently, create a loop to see how the logistic regression performs with different thresholds:"
   ]
  },
  {
   "cell_type": "code",
   "execution_count": 26,
   "id": "d3b8b86d",
   "metadata": {},
   "outputs": [],
   "source": [
    "from sklearn.feature_selection import VarianceThreshold\n",
    "\n",
    "# Define a list of different variance thresholds to loop over\n",
    "thresholds = [0.00004, 0.0004, 0.004, 0.04]\n",
    "\n",
    "# Create empty lists to store the training and test accuracies for each threshold\n",
    "train_accuracies_th = []\n",
    "test_accuracies_th = []\n",
    "\n",
    "# Loop over each threshold value\n",
    "for th in thresholds:\n",
    "\n",
    "    # Create a VarianceThreshold object with the current threshold value\n",
    "    my_vt = VarianceThreshold(threshold=th)\n",
    "\n",
    "    # Fit the VarianceThreshold object to the training data and calculate the variances per column\n",
    "    my_vt.fit(X_resampled_ss)\n",
    "    \n",
    "    # Use the VarianceThreshold object to drop columns below the given variance threshold\n",
    "    X_resampled_th = pd.DataFrame(my_vt.transform(X_resampled_ss), columns = X_resampled_ss.columns[my_vt.get_support()])\n",
    "    \n",
    "     # Define the predictor variables for the training and test sets\n",
    "    X_train_th = X_resampled_th\n",
    "    X_test_th = pd.DataFrame(my_vt.transform(X_test_ss), columns = X_test_ss.columns[my_vt.get_support()])\n",
    "    \n",
    "    # Define the target variable for the training and test sets\n",
    "    y_train_th = y_resampled\n",
    "    y_test_th = y_test\n",
    "    \n",
    "    # Run the model\n",
    "    \n",
    "    # Create a logistic regression model and fit it to the training data\n",
    "    logreg = LogisticRegression(solver='lbfgs', max_iter=10000, random_state=1)\n",
    "    logreg.fit(X_train_th, y_train_th)\n",
    "\n",
    "    # Use the trained model to make predictions on the training and test sets\n",
    "    train_predictions = logreg.predict(X_train_th)\n",
    "    test_predictions = logreg.predict(X_test_th)\n",
    "\n",
    "    # Calculate the accuracy of the model on the training and test sets\n",
    "    train_accuracy_th = logreg.score(X_train_th, y_train_th)\n",
    "    test_accuracy_th = logreg.score(X_test_th, y_test_th)\n",
    "\n",
    "    # Append the training and test accuracies to their respective lists\n",
    "    train_accuracies_th.append(train_accuracy_th)\n",
    "    test_accuracies_th.append(test_accuracy_th)\n",
    "    "
   ]
  },
  {
   "cell_type": "markdown",
   "id": "22bdbe1d-4957-4d84-84cc-586555ae3b08",
   "metadata": {},
   "source": [
    "Explore the results with the 4 different thresholds:"
   ]
  },
  {
   "cell_type": "code",
   "execution_count": 27,
   "id": "42bc1ea0",
   "metadata": {},
   "outputs": [
    {
     "data": {
      "text/plain": [
       "[0.8356895056374675,\n",
       " 0.8356895056374675,\n",
       " 0.8264960971379012,\n",
       " 0.7565481352992194]"
      ]
     },
     "execution_count": 27,
     "metadata": {},
     "output_type": "execute_result"
    }
   ],
   "source": [
    "# Accuracies with train set and different VTs\n",
    "train_accuracies_th"
   ]
  },
  {
   "cell_type": "code",
   "execution_count": 28,
   "id": "68bd964e",
   "metadata": {},
   "outputs": [
    {
     "data": {
      "text/plain": [
       "[0.8296970452562025, 0.8295100361550929, 0.828574990649545, 0.7454182770228152]"
      ]
     },
     "execution_count": 28,
     "metadata": {},
     "output_type": "execute_result"
    }
   ],
   "source": [
    "# Accuracies with test set and different VTs\n",
    "test_accuracies_th"
   ]
  },
  {
   "cell_type": "code",
   "execution_count": 29,
   "id": "b6a10cc5",
   "metadata": {},
   "outputs": [
    {
     "data": {
      "image/png": "[encoded data removed]",
      "text/plain": [
       "<Figure size 640x480 with 1 Axes>"
      ]
     },
     "metadata": {},
     "output_type": "display_data"
    }
   ],
   "source": [
    "# Visualize the results\n",
    "plt.plot(thresholds, train_accuracies_th, label='Train', color='red')\n",
    "plt.plot(thresholds, test_accuracies_th, label='Test', color = 'blue')\n",
    "plt.title('Performance Logistic Regresion with different Thresholds')\n",
    "plt.xlabel('Thresholds')\n",
    "plt.ylabel('Accuracy Score')\n",
    "plt.legend()\n",
    "plt.show()"
   ]
  },
  {
   "cell_type": "markdown",
   "id": "8258ccff-c7d3-4912-84d9-cf85bae4763b",
   "metadata": {},
   "source": [
    "The best variance threshold seems to be 0.004, since this information is not enough to chose the best parameter it is necessary to run cross validation to have a more reliable method of selection:"
   ]
  },
  {
   "cell_type": "markdown",
   "id": "b05dcc28-e825-4159-be89-cc7ee1764e10",
   "metadata": {},
   "source": [
    "#### **VT Cross Validation**"
   ]
  },
  {
   "cell_type": "markdown",
   "id": "c1793e8f-6ea4-49a0-9ddd-342b2ecf1658",
   "metadata": {},
   "source": [
    "It is important to carefully evaluate the performance of the selected features on a validation set or through cross-validation to ensure that the final model is robust and generalizable. Because of this, it will be applied cross validation with the different variance thresholds:"
   ]
  },
  {
   "cell_type": "code",
   "execution_count": 30,
   "id": "169dc367-7453-461b-a704-aafcf81e9d6b",
   "metadata": {},
   "outputs": [
    {
     "name": "stdout",
     "output_type": "stream",
     "text": [
      "Threshold: 4e-05, CV Score: 0.8203\n",
      "Threshold: 0.0004, CV Score: 0.8203\n",
      "Threshold: 0.004, CV Score: 0.8182\n",
      "Threshold: 0.04, CV Score: 0.7550\n"
     ]
    }
   ],
   "source": [
    "from sklearn.model_selection import cross_val_score\n",
    "\n",
    "# Define the thresholds to test\n",
    "thresholds = [0.00004, 0.0004, 0.004, 0.04]\n",
    "\n",
    "# Create empty lists to store the cv scores\n",
    "cv_scores = []\n",
    "\n",
    "# Define the logistic regression model\n",
    "logreg = LogisticRegression(solver='lbfgs', max_iter=10000, random_state=1)\n",
    "\n",
    "# Loop over the thresholds and perform cross-validation\n",
    "for th in thresholds:\n",
    "    # Instantiate the VarianceThresholder with the given threshold\n",
    "    vt = VarianceThreshold(threshold=th)\n",
    "\n",
    "    # Fit to the data and calculate the variances per column\n",
    "    vt.fit(X_resampled_ss)\n",
    "\n",
    "    # Apply the variance threshold to drop columns below the given variance\n",
    "    X_resampled_th = pd.DataFrame(vt.transform(X_resampled_ss), columns=X_resampled_ss.columns[vt.get_support()])\n",
    "\n",
    "    # Define the predictor variables\n",
    "    X_train_th = X_resampled_th\n",
    "\n",
    "    # Define the target variable\n",
    "    y_train_th = y_resampled\n",
    "\n",
    "    # Perform 5-fold cross-validation on the logistic regression model\n",
    "    cv_score = cross_val_score(logreg, X_train_th, y_train_th, cv=5)\n",
    "    \n",
    "    # Append the results\n",
    "    cv_scores.append(cv_score.mean())\n",
    "\n",
    "    # Print the average cross-validation score for the current threshold\n",
    "    print(f\"Threshold: {th}, CV Score: {cv_score.mean():.4f}\")\n"
   ]
  },
  {
   "cell_type": "code",
   "execution_count": 31,
   "id": "feb66a06-0daf-469e-9df3-0fae8c7208ab",
   "metadata": {},
   "outputs": [
    {
     "data": {
      "image/png": "[encoded data removed]",
      "text/plain": [
       "<Figure size 640x480 with 1 Axes>"
      ]
     },
     "metadata": {},
     "output_type": "display_data"
    }
   ],
   "source": [
    "# Plot the cross-validation scores\n",
    "plt.plot(thresholds, cv_scores)\n",
    "plt.xlabel('Variance Threshold')\n",
    "plt.ylabel('Cross-validation Score')\n",
    "plt.title('Logistic Regression with Variance Thresholding')\n",
    "plt.axvline(x=0.004, color='r',linestyle='--', label='0.004')\n",
    "plt.legend()\n",
    "plt.show()"
   ]
  },
  {
   "cell_type": "markdown",
   "id": "ab484af6",
   "metadata": {},
   "source": [
    "Great! Cross Validation confirm that 0.004 threshold could be a good decision to reduce the number of features and keep model performance."
   ]
  },
  {
   "cell_type": "markdown",
   "id": "b1649866-354a-4dff-9a62-fc23c8adb0a2",
   "metadata": {},
   "source": [
    "**Fit the best Variance Threshold to generate the new dataframe with the data downsampled and filter based on varianced threshold.**"
   ]
  },
  {
   "cell_type": "code",
   "execution_count": 32,
   "id": "c3f54eb0-ef8f-4b04-a064-7b7981698575",
   "metadata": {},
   "outputs": [],
   "source": [
    "# Create a VarianceThreshold object with the BEST threshold value\n",
    "my_vt = VarianceThreshold(threshold=0.004)\n",
    "\n",
    "# Fit the VarianceThreshold object to the training data and calculate the variances per column\n",
    "my_vt.fit(X_resampled_ss)\n",
    "\n",
    "# Use the VarianceThreshold object to drop columns below the given variance threshold\n",
    "X_resampled_th = pd.DataFrame(my_vt.transform(X_resampled_ss), columns = X_resampled_ss.columns[my_vt.get_support()])\n",
    "\n",
    " # Define the predictor variables for the training and test sets\n",
    "X_train_th = X_resampled_th\n",
    "X_test_th = pd.DataFrame(my_vt.transform(X_test_ss), columns = X_test_ss.columns[my_vt.get_support()])\n",
    "\n",
    "# Define the target variable for the training and test sets\n",
    "y_train_th = y_resampled\n",
    "y_test_th = y_test"
   ]
  },
  {
   "cell_type": "code",
   "execution_count": 33,
   "id": "dc51aad0",
   "metadata": {},
   "outputs": [
    {
     "data": {
      "text/plain": [
       "(23060, 297)"
      ]
     },
     "execution_count": 33,
     "metadata": {},
     "output_type": "execute_result"
    }
   ],
   "source": [
    "# Get the shape of the new dataframe post Variance Threshold\n",
    "X_train_th.shape"
   ]
  },
  {
   "cell_type": "code",
   "execution_count": 34,
   "id": "0bf8a161",
   "metadata": {},
   "outputs": [
    {
     "data": {
      "text/plain": [
       "array([0.24441072, 0.21516419, 0.09936445, 0.24810439, 0.24810439,\n",
       "       0.09754125, 0.20968716, 0.24596946, 0.10327712, 0.15945277,\n",
       "       0.19546783, 0.21924585, 0.22358318, 0.19820724, 0.23511939,\n",
       "       0.15512211, 0.24146019, 0.08920109, 0.07222038, 0.06979865,\n",
       "       0.06344793, 0.07229351, 0.06739759, 0.09148828, 0.09051996,\n",
       "       0.09393046, 0.06359774, 0.07046074, 0.07016663, 0.12472207,\n",
       "       0.13159358, 0.11594748, 0.11828703, 0.11888441, 0.12701383,\n",
       "       0.12032505, 0.05553659, 0.14483958, 0.1952651 , 0.17829403,\n",
       "       0.14455814, 0.0833052 , 0.19659612, 0.24377092, 0.20262865,\n",
       "       0.01444258, 0.23279193, 0.24517981, 0.13705037, 0.02154419,\n",
       "       0.05667998, 0.00077738, 0.00318241, 0.01453296, 0.00082326,\n",
       "       0.00190443, 0.02351339, 0.00401669, 0.00825678, 0.00483331])"
      ]
     },
     "execution_count": 34,
     "metadata": {},
     "output_type": "execute_result"
    }
   ],
   "source": [
    "# To get the variances \n",
    "my_vt.variances_[:60]"
   ]
  },
  {
   "cell_type": "code",
   "execution_count": 35,
   "id": "e8897cce",
   "metadata": {},
   "outputs": [
    {
     "data": {
      "text/plain": [
       "array([ True,  True,  True,  True,  True,  True,  True,  True,  True,\n",
       "        True,  True,  True,  True,  True,  True,  True,  True,  True,\n",
       "        True,  True,  True,  True,  True,  True,  True,  True,  True,\n",
       "        True,  True,  True,  True,  True,  True,  True,  True,  True,\n",
       "        True,  True,  True,  True,  True,  True,  True,  True,  True,\n",
       "        True,  True,  True,  True,  True,  True, False, False,  True,\n",
       "       False, False,  True,  True,  True,  True])"
      ]
     },
     "execution_count": 35,
     "metadata": {},
     "output_type": "execute_result"
    }
   ],
   "source": [
    "# To get the columns which are retained \n",
    "my_vt.get_support()[:60]"
   ]
  },
  {
   "cell_type": "code",
   "execution_count": 36,
   "id": "f84420b1",
   "metadata": {},
   "outputs": [
    {
     "data": {
      "text/plain": [
       "array(['dep_A', 'dep_B', 'dep_C', 'Female', 'Male', 'Divorced', 'Married',\n",
       "       'Single', 'Widowed', 'Full Time', 'Not Employed', 'Commercial',\n",
       "       'Medicaid', 'Medicare', 'Car', 'Walk-in', 'ambulance', 'April',\n",
       "       'August', 'December', 'February', 'January', 'July', 'June',\n",
       "       'March', 'May', 'November', 'October', 'September', 'Friday',\n",
       "       'Monday', 'Saturday', 'Sunday', 'Thursday', 'Tuesday', 'Wednesday',\n",
       "       '03-06', '07-10', '11-14', '15-18', '19-22', '23-02', 'pv_admit',\n",
       "       'pv_discharge', 'pv_none', 'esi_1', 'esi_2', 'esi_3', 'esi_4',\n",
       "       'esi_5', 'age', 'n_surgeries', 'cc_abdominalpain',\n",
       "       'cc_abdominalpainpregnant', 'cc_abnormallab', 'cc_abscess',\n",
       "       'cc_alcoholintoxication', 'cc_allergicreaction',\n",
       "       'cc_alteredmentalstatus', 'cc_anxiety'], dtype=object)"
      ]
     },
     "execution_count": 36,
     "metadata": {},
     "output_type": "execute_result"
    }
   ],
   "source": [
    "# To get the columns names \n",
    "X_train_th.columns.values[:60]"
   ]
  },
  {
   "cell_type": "code",
   "execution_count": 37,
   "id": "773114ee-44b2-4125-9620-1895b104c973",
   "metadata": {},
   "outputs": [
    {
     "name": "stdout",
     "output_type": "stream",
     "text": [
      "Applying 0.004 Threshold the final dataframe contains 297 columns\n"
     ]
    }
   ],
   "source": [
    "print(f'Applying 0.004 Threshold the final dataframe contains {X_train_th.shape[1]} columns')"
   ]
  },
  {
   "cell_type": "markdown",
   "id": "7a857d7d-9cb6-4341-8d98-4fa2bf8bb26a",
   "metadata": {},
   "source": [
    "**Let's confirm how the model perform with the new optimized dataframe**"
   ]
  },
  {
   "cell_type": "code",
   "execution_count": 38,
   "id": "b252057d-46f6-4566-b150-bae387af98f9",
   "metadata": {},
   "outputs": [
    {
     "name": "stdout",
     "output_type": "stream",
     "text": [
      " The accuracy in the VT train dataframe is 0.8264960971379012\n",
      " The accuracy in the VT test dataframe is 0.828574990649545\n"
     ]
    }
   ],
   "source": [
    "# Run the model\n",
    "    \n",
    "# Create a logistic regression model and fit it to the training data\n",
    "logreg = LogisticRegression(solver='lbfgs', max_iter=10000, random_state=1)\n",
    "logreg.fit(X_train_th, y_train_th)\n",
    "\n",
    "# Use the trained model to make predictions on the training and test sets\n",
    "train_predictions = logreg.predict(X_train_th)\n",
    "test_predictions = logreg.predict(X_test_th)\n",
    "\n",
    "# Calculate the accuracy of the model on the training and test sets\n",
    "train_accuracy_th = logreg.score(X_train_th, y_train_th)\n",
    "test_accuracy_th = logreg.score(X_test_th, y_test_th)\n",
    "\n",
    "# Append the training and test accuracies to their respective lists\n",
    "print(f' The accuracy in the VT train dataframe is {train_accuracy_th}')\n",
    "print(f' The accuracy in the VT test dataframe is {test_accuracy_th}')"
   ]
  },
  {
   "cell_type": "markdown",
   "id": "5fade1e2-6326-4d6e-915c-2942fb61cd19",
   "metadata": {},
   "source": [
    "**IMPORTANT:** \n",
    "- In comparison with the baseline model, logistic Regression after applying variance threshold reduce the accuracy in ~ 4% points.\n",
    "- In comparison with the model after downsampling, Logistic Regression after applying variance threshold reduce the accuracy in ~ 1% points.\n",
    "\n",
    "**Data post Downsampling, Scaling and 0.004 Variance Threshold:** \n",
    "\n",
    "- X_train_th\n",
    "- y_train_th\n",
    "- X_test_th\n",
    "- y_test_th"
   ]
  },
  {
   "cell_type": "markdown",
   "id": "111bcb5d-75fe-499d-b794-1dbbc3e4362e",
   "metadata": {},
   "source": [
    "### K-best"
   ]
  },
  {
   "cell_type": "markdown",
   "id": "a99a4deb",
   "metadata": {},
   "source": [
    "Selects Kbest is a module that select features based on their scores using univariate statistical tests. It takes in a scoring function and a number K as parameters, and then returns the K best features according to the given scoring function.\n",
    "\n",
    "The scoring function can be:\n",
    "\n",
    "- f_classif for ANOVA F-value\n",
    "- mutual_info_classif for mutual information score\n",
    "- chi2 for chi-squared statistic\n",
    "\n",
    "As the data in this case has a mix of categorical and numeric features, it will be applied mutual_info_classif to obtain mutual information score depending the feature."
   ]
  },
  {
   "cell_type": "markdown",
   "id": "c0b2e0a3-2113-4451-b888-dac26798eac0",
   "metadata": {},
   "source": [
    "**Remember the data after downsamplig to keep working with the second option to reduce features: K best**\n",
    "\n",
    "- X_resampled (original X_train after downsampling)\n",
    "- y_resampled (original y_train after downsampling)\n",
    "- X_test\n",
    "- y_test\n"
   ]
  },
  {
   "cell_type": "markdown",
   "id": "a7c3166f-f9a0-4cb8-80ab-0b3e625782e1",
   "metadata": {},
   "source": [
    "#### mutual_info_classif"
   ]
  },
  {
   "cell_type": "markdown",
   "id": "7ec0917a-879b-4c1c-9a7b-243d23d40c02",
   "metadata": {},
   "source": [
    "Mutual info classif takes as input the feature matrix and target variable, and returns an array of scores, one for each feature. The score represents the estimated mutual information between the feature and the target variable, and can be used to rank the features by their importance.\n",
    "\n",
    "Higher mutual_info_classif scores indicate that the feature is more informative for predicting the target variable, while lower scores indicate that the feature is less informative. \n",
    "\n",
    "The scores can be used to select a subset of the most important features for the task at hand, or to gain insights into the relationships between the features and the target variable."
   ]
  },
  {
   "cell_type": "code",
   "execution_count": 39,
   "id": "c0a4db53-5dec-465b-a4f8-04203cee7503",
   "metadata": {},
   "outputs": [
    {
     "name": "stdout",
     "output_type": "stream",
     "text": [
      "k=100, train_score=0.8151777970511709, test_score=0.8217179902755267\n",
      "k=150, train_score=0.8160450997398092, test_score=0.8208452811370154\n",
      "k=200, train_score=0.8242411101474415, test_score=0.829884054357312\n",
      "k=250, train_score=0.8251517779705118, test_score=0.8286373270165814\n",
      "k=300, train_score=0.8245880312228968, test_score=0.8280762997132527\n",
      "k=350, train_score=0.8300954032957503, test_score=0.8313801271661888\n",
      "k=400, train_score=0.8294015611448395, test_score=0.8279516269791797\n",
      "k=450, train_score=0.8296617519514311, test_score=0.828699663383618\n",
      "k=500, train_score=0.8320468343451864, test_score=0.8267672360054856\n",
      "k=550, train_score=0.8302688638334779, test_score=0.828824336117691\n",
      "k=600, train_score=0.8360797918473547, test_score=0.8313801271661888\n"
     ]
    }
   ],
   "source": [
    "# Import the library and classes\n",
    "from sklearn.feature_selection import SelectKBest, mutual_info_classif\n",
    "\n",
    "# Define the K values \n",
    "k_values = [100, 150, 200, 250, 300, 350, 400, 450, 500, 550, 600]\n",
    "\n",
    "# Create the list to store the results\n",
    "train_scores = []\n",
    "test_scores = []\n",
    "\n",
    "# Loop through each k value\n",
    "for k in k_values:\n",
    "    # Select top k features using SelectKBest with mutual information as the score function\n",
    "    selector = SelectKBest(score_func=mutual_info_classif, k=k)\n",
    "    selector.fit(X_resampled, y_resampled)\n",
    "    X_resampled_top_k = selector.transform(X_resampled)\n",
    "    X_test_top_k = selector.transform(X_test)\n",
    "    \n",
    "    # Train logistic regression model\n",
    "    clf = LogisticRegression(solver='lbfgs', max_iter=10000, random_state=1)\n",
    "    clf.fit(X_resampled_top_k, y_resampled)\n",
    "    \n",
    "    # Calculate train and test scores\n",
    "    train_score = clf.score(X_resampled_top_k, y_resampled)\n",
    "    test_score = clf.score(X_test_top_k, y_test)\n",
    "    \n",
    "    # Append scores to lists\n",
    "    train_scores.append(train_score)\n",
    "    test_scores.append(test_score)\n",
    "    \n",
    "    print(f\"k={k}, train_score={train_score}, test_score={test_score}\")\n"
   ]
  },
  {
   "cell_type": "code",
   "execution_count": 40,
   "id": "6d1300f8-86a3-4185-a2b9-854e776b8be3",
   "metadata": {},
   "outputs": [
    {
     "data": {
      "image/png": "[encoded data removed]",
      "text/plain": [
       "<Figure size 640x480 with 1 Axes>"
      ]
     },
     "metadata": {},
     "output_type": "display_data"
    }
   ],
   "source": [
    "# Visualize the results\n",
    "\n",
    "plt.plot(k_values, train_scores, label='Train', color='red')\n",
    "plt.plot(k_values, test_scores, label='Test', color = 'blue')\n",
    "plt.title('K best values vs accuracy')\n",
    "plt.xlabel('Various values for k in SelectkBest')\n",
    "plt.ylabel('mutual_info_classif scores')\n",
    "\n",
    "plt.legend()\n",
    "plt.show()"
   ]
  },
  {
   "cell_type": "markdown",
   "id": "37a0eba1-ec6d-4b06-81e9-7e84808c8f4a",
   "metadata": {},
   "source": [
    "Comparing Variance threshold and Kbest both options are performing quite similar."
   ]
  },
  {
   "cell_type": "markdown",
   "id": "78b73e8f-ffa2-445c-99d6-8cddbf109d49",
   "metadata": {},
   "source": [
    "#### Kbest Cross Validation"
   ]
  },
  {
   "cell_type": "code",
   "execution_count": 45,
   "id": "9e759241-a50b-4825-aba6-e834df82ec3d",
   "metadata": {},
   "outputs": [
    {
     "name": "stdout",
     "output_type": "stream",
     "text": [
      "k=50, mean score=0.8068516912402428\n",
      "k=100, mean score=0.8175195143104943\n",
      "k=150, mean score=0.8169124024284475\n",
      "k=200, mean score=0.8212489158716393\n",
      "k=250, mean score=0.8210320901994796\n",
      "k=300, mean score=0.8212922810060711\n",
      "k=350, mean score=0.8174761491760625\n"
     ]
    }
   ],
   "source": [
    "# Cross Validation to find best Kbest with a higher reduction of features in comparison with Variance threshold\n",
    "\n",
    "k_values = range(50,400,50)\n",
    "\n",
    "cv_scores = []\n",
    "\n",
    "for k in k_values:\n",
    "    # Select top k features using SelectKBest with mutual information as the score function\n",
    "    selector = SelectKBest(score_func=mutual_info_classif, k=k)\n",
    "    selector.fit(X_resampled, y_resampled)\n",
    "    X_resampled_top_k = selector.transform(X_resampled)\n",
    "    X_test_top_k = selector.transform(X_test)\n",
    "    \n",
    "    # Train logistic regression model using 5-fold cross-validation\n",
    "    clf = LogisticRegression(solver='lbfgs', max_iter=10000, random_state=1)\n",
    "    scores = cross_val_score(clf, X_resampled_top_k, y_resampled, cv=5)\n",
    "    \n",
    "    # Calculate mean score across all folds\n",
    "    cv_score = scores.mean()\n",
    "    \n",
    "    cv_scores.append(cv_score)\n",
    "\n",
    "    print(f\"k={k}, mean score={cv_score}\")"
   ]
  },
  {
   "cell_type": "markdown",
   "id": "94d115e9-58c0-4f9f-b215-94ba3bc8341b",
   "metadata": {},
   "source": [
    "Kbest could be another good option to reduce features, 250 seems to be a good Kbest."
   ]
  },
  {
   "cell_type": "code",
   "execution_count": 50,
   "id": "da86feeb-8b0f-422e-8749-7ce0c2abee82",
   "metadata": {},
   "outputs": [
    {
     "data": {
      "image/png": "[encoded data removed]",
      "text/plain": [
       "<Figure size 640x480 with 1 Axes>"
      ]
     },
     "metadata": {},
     "output_type": "display_data"
    }
   ],
   "source": [
    "# Visualize the results\n",
    "plt.plot(k_values, cv_scores, color='blue')\n",
    "plt.title('Logistic Reg. cross validation score vs K value')\n",
    "plt.xlabel('Various values for k in SelectkBest')\n",
    "plt.ylabel('cross validation scores')\n",
    "plt.show()\n"
   ]
  },
  {
   "cell_type": "markdown",
   "id": "1458c563-7404-454f-bd56-9a2df0bbd0d6",
   "metadata": {},
   "source": [
    "### PCA \n"
   ]
  },
  {
   "cell_type": "markdown",
   "id": "62b237b0-2b5e-4d36-aac1-5464d575f339",
   "metadata": {},
   "source": [
    "Principal Component Analysis (PCA) is a way to transform a high-dimensional dataset into a lower-dimensional representation while retaining as much information as possible.\n",
    "\n",
    "It will be applied over the data obtained after applied Variance Threshold:\n",
    "- X_train_th\n",
    "- y_train_th\n",
    "- X_test_th\n",
    "- y_test_th\n"
   ]
  },
  {
   "cell_type": "markdown",
   "id": "79496a8e-7afd-4708-b50c-539be4226ee5",
   "metadata": {},
   "source": [
    "#### PCA Cross Validation (Variance Threshold df)"
   ]
  },
  {
   "cell_type": "markdown",
   "id": "48f40b81-c33c-47f1-bacc-b860286d4a1a",
   "metadata": {},
   "source": [
    "Lets see how the model perform with number of components between 50 and 200 having in mind the dataframe after variance threshold contains ~300 columns"
   ]
  },
  {
   "cell_type": "code",
   "execution_count": null,
   "id": "784afcb9-1f5b-45e6-ad76-d559d0b16ff8",
   "metadata": {
    "scrolled": true
   },
   "outputs": [],
   "source": [
    "from sklearn.decomposition import PCA\n",
    "\n",
    "# Define range of n_components\n",
    "n_components = range(50, 200, 5)\n",
    "\n",
    "# Initialize empty lists to store results\n",
    "train_scores = []\n",
    "\n",
    "# Loop through each value of n_components\n",
    "for n in n_components:\n",
    "    \n",
    "    # Initialize PCA with the given number of components\n",
    "    pca = PCA(n_components=n)\n",
    "\n",
    "    # Fit PCA on training data and transform both training and testing data\n",
    "    X_train_pca = pca.fit_transform(X_train_th)\n",
    "\n",
    "    # Train a logistic regression model on the transformed training data using 5-fold cross validation\n",
    "    clf = LogisticRegression(solver='lbfgs', max_iter=10000, random_state=1)\n",
    "    scores = cross_val_score(clf, X_train_pca, y_train_th, cv=5)\n",
    "\n",
    "    # Append mean cross-validation score to train_scores and test score to test_scores\n",
    "    train_scores.append(np.mean(scores))\n"
   ]
  },
  {
   "cell_type": "code",
   "execution_count": null,
   "id": "e0618a9c-37dd-40af-9bad-96e64e1ee674",
   "metadata": {},
   "outputs": [],
   "source": [
    "# Plot the results\n",
    "import matplotlib.pyplot as plt\n",
    "plt.plot(n_components, train_scores, label='Train', color='red')\n",
    "plt.title('PCA n_components vs Accuracy')\n",
    "plt.xlabel('Number of components')\n",
    "plt.ylabel('Accuracy')\n",
    "plt.legend()\n",
    "plt.show()\n"
   ]
  },
  {
   "cell_type": "markdown",
   "id": "ef6ceea8-f03a-460d-b6b0-8658d66a31dc",
   "metadata": {},
   "source": [
    "Comment"
   ]
  },
  {
   "cell_type": "markdown",
   "id": "fa21f0cb-6424-4066-86e3-78085a912d2d",
   "metadata": {},
   "source": [
    "## Hiperparameter Optimization (using cross validation)"
   ]
  },
  {
   "cell_type": "markdown",
   "id": "fa0018b5-e6c0-4268-a291-c8259332804f",
   "metadata": {},
   "source": [
    "It will be applied over the data obtained after applied Variance Threshold, no PCA:\n",
    "- X_train_th\n",
    "- y_train_th\n",
    "- X_test_th\n",
    "- y_test_th"
   ]
  },
  {
   "cell_type": "markdown",
   "id": "861d65b0-c80d-4544-b88b-6646832fa0d3",
   "metadata": {},
   "source": [
    "#### Logistic Regression: C value"
   ]
  },
  {
   "cell_type": "code",
   "execution_count": 52,
   "id": "4a9d74bf-1266-425b-bb11-7779f831306f",
   "metadata": {},
   "outputs": [],
   "source": [
    "# Optimizing C value in Logistic Regression and comparing the results the cross validation with test data\n",
    "\n",
    "c_values = [.00001, .0001, .001, .1, 1, 10, 100, 1000, 10000]\n",
    "\n",
    "# initialize lists to store cross-validation and test scores\n",
    "cv_scores = []\n",
    "\n",
    "# loop over different values of C\n",
    "for c in c_values:\n",
    "    # initialize logistic regression model with the given value of C\n",
    "    lr = LogisticRegression(solver='lbfgs', max_iter=100000, random_state=1, C=c)\n",
    "    \n",
    "    # perform cross-validation on the training set\n",
    "    cv_score = cross_val_score(lr, X_train_th, y_train_th, cv=5)\n",
    "    cv_scores.append(cv_score.mean())\n",
    "    \n",
    "    # fit the logistic regression model on the training set\n",
    "    lr.fit(X_train_th, y_train_th)\n"
   ]
  },
  {
   "cell_type": "code",
   "execution_count": 53,
   "id": "7e752530-ec20-4867-9f3c-cd3f568c0982",
   "metadata": {},
   "outputs": [
    {
     "data": {
      "image/png": "[encoded data removed]",
      "text/plain": [
       "<Figure size 640x480 with 1 Axes>"
      ]
     },
     "metadata": {},
     "output_type": "display_data"
    }
   ],
   "source": [
    "# plot the results of cross-validation and testing\n",
    "plt.semilogx(c_values, cv_scores, label='Cross-validation')\n",
    "plt.xlabel('C value')\n",
    "plt.ylabel('Accuracy')\n",
    "plt.title('c value cross validation')\n",
    "plt.legend()\n",
    "plt.show()"
   ]
  },
  {
   "cell_type": "markdown",
   "id": "a8593636-3d9f-4525-9827-87826aa7b86e",
   "metadata": {},
   "source": [
    "#### Decision Trees: Max_depth"
   ]
  },
  {
   "cell_type": "code",
   "execution_count": 54,
   "id": "d97a091a-b3cf-4b0b-8be7-946c6beb128b",
   "metadata": {},
   "outputs": [
    {
     "name": "stdout",
     "output_type": "stream",
     "text": [
      "Best max depth: 9\n",
      "Test score: 0.8173544445829697\n"
     ]
    }
   ],
   "source": [
    "from sklearn.tree import DecisionTreeClassifier\n",
    "\n",
    "# Train and evaluate decision tree models with varying max depths\n",
    "max_depths = [3, 4, 5, 6, 7, 8, 9, 10, 11, 12, 13]\n",
    "cv_scores = []\n",
    "\n",
    "for depth in max_depths:\n",
    "    clf = DecisionTreeClassifier(max_depth=depth, random_state=42)\n",
    "    scores = cross_val_score(clf, X_train_th, y_train_th, cv=5)\n",
    "    cv_scores.append(scores.mean())\n",
    "\n",
    "# Find the best-performing model\n",
    "best_depth = max_depths[cv_scores.index(max(cv_scores))]\n",
    "print(\"Best max depth:\", best_depth)\n",
    "\n",
    "# Train the best-performing model on the full training set\n",
    "clf = DecisionTreeClassifier(max_depth=best_depth, random_state=42)\n",
    "clf.fit(X_train_th, y_train_th)\n",
    "\n",
    "# Evaluate the best-performing model on the test set\n",
    "test_score = clf.score(X_test_th, y_test_th)\n",
    "print(\"Test score:\", test_score)\n",
    "\n"
   ]
  },
  {
   "cell_type": "code",
   "execution_count": 55,
   "id": "e91d639d-271f-4873-95d2-866280fc0503",
   "metadata": {},
   "outputs": [
    {
     "data": {
      "image/png": "[encoded data removed]",
      "text/plain": [
       "<Figure size 640x480 with 1 Axes>"
      ]
     },
     "metadata": {},
     "output_type": "display_data"
    }
   ],
   "source": [
    "# Plot the results of cross-validation\n",
    "plt.plot(max_depths, cv_scores)\n",
    "plt.xlabel(\"Max depth\")\n",
    "plt.ylabel(\"Cross-validation score\")\n",
    "plt.title(\"Decision Tree Max depth Cross-Validation Scores\")\n",
    "plt.show()\n",
    " "
   ]
  },
  {
   "cell_type": "markdown",
   "id": "6756e359-d459-4f45-941d-8eb959ab4ef0",
   "metadata": {},
   "source": [
    "#### Random Forest: n_estimators"
   ]
  },
  {
   "cell_type": "code",
   "execution_count": 56,
   "id": "60b1d8de-61fb-4bb0-bbe3-02836b930d83",
   "metadata": {},
   "outputs": [],
   "source": [
    "from sklearn.ensemble import RandomForestClassifier\n",
    "\n",
    "# Create an empty list to store the cross validation scores for each n_estimator value\n",
    "cv_scores = []\n",
    "\n",
    "# Define n_estimators\n",
    "n_estimators = range(10, 201, 10)\n",
    "\n",
    "# Loop over the n_estimator values and calculate the cross validation score for each\n",
    "for n in n_estimators:\n",
    "    rf = RandomForestClassifier(max_depth=9, n_estimators=n, random_state=42)\n",
    "    scores = cross_val_score(rf, X_train_th, y_train_th, cv=5)\n",
    "    cv_scores.append(scores.mean())\n"
   ]
  },
  {
   "cell_type": "code",
   "execution_count": 58,
   "id": "1912eedd-d563-472b-8877-5e287db09794",
   "metadata": {},
   "outputs": [
    {
     "data": {
      "image/png": "[encoded data removed]",
      "text/plain": [
       "<Figure size 640x480 with 1 Axes>"
      ]
     },
     "metadata": {},
     "output_type": "display_data"
    }
   ],
   "source": [
    "# Plot the results\n",
    "plt.plot(n_estimators, cv_scores)\n",
    "plt.xlabel('n_estimators')\n",
    "plt.ylabel('Cross Validation Score')\n",
    "plt.title('Random Forest: n_estimators Cross Validation')\n",
    "plt.show()\n"
   ]
  },
  {
   "cell_type": "code",
   "execution_count": 59,
   "id": "983f2902-ddc8-4f02-9d97-b3247fa299cf",
   "metadata": {},
   "outputs": [
    {
     "name": "stdout",
     "output_type": "stream",
     "text": [
      "Test set score: 0.8320658272035906\n"
     ]
    }
   ],
   "source": [
    "# Find the best n_estimator value\n",
    "# Train the model with the best n_estimator value and predict on the test set\n",
    "rf = RandomForestClassifier(max_depth=9, n_estimators=125)\n",
    "rf.fit(X_train_th, y_train_th)\n",
    "test_score = rf.score(X_test_th, y_test_th)\n",
    "print(f'Test set score: {test_score}')\n"
   ]
  },
  {
   "cell_type": "markdown",
   "id": "b2ad9349-1057-4b48-ac21-0eaf57805dad",
   "metadata": {},
   "source": [
    "#### XGBoost: n_estimators, max_depth and learning rate"
   ]
  },
  {
   "cell_type": "code",
   "execution_count": 64,
   "id": "b9c905e8-79cd-4e9c-bcc8-a5ebd6e9da12",
   "metadata": {},
   "outputs": [],
   "source": [
    "import xgboost as xgb\n",
    "from sklearn.model_selection import cross_val_score\n",
    "\n",
    "# Define the model with the chosen hyperparameters\n",
    "xgb_model = xgb.XGBClassifier(max_depth=9, learning_rate=0.1)\n",
    "\n",
    "# Define the range of n_estimators to try\n",
    "n_estimators_range = range(10, 400, 10)\n",
    "\n",
    "# Perform cross-validation on the training set for each value of n_estimators\n",
    "cv_scores = []\n",
    "for n_estimators in n_estimators_range:\n",
    "    xgb_model.set_params(n_estimators=n_estimators)\n",
    "    scores = cross_val_score(xgb_model, X_train_th, y_train_th, cv=5, scoring='accuracy')\n",
    "    cv_scores.append(scores.mean())\n",
    "\n"
   ]
  },
  {
   "cell_type": "code",
   "execution_count": 65,
   "id": "2716c79e-4d0f-41b4-80d7-79d87854a47c",
   "metadata": {},
   "outputs": [
    {
     "data": {
      "image/png": "[encoded data removed]",
      "text/plain": [
       "<Figure size 640x480 with 1 Axes>"
      ]
     },
     "metadata": {},
     "output_type": "display_data"
    }
   ],
   "source": [
    "# Plot the results of cross-validation\n",
    "import matplotlib.pyplot as plt\n",
    "plt.plot(n_estimators_range, cv_scores)\n",
    "plt.xlabel('Number of Estimators')\n",
    "plt.ylabel('Cross-Validation Score')\n",
    "plt.title('XGBoost: n_estimators Cross Validation')\n",
    "plt.show()\n",
    "\n"
   ]
  },
  {
   "cell_type": "code",
   "execution_count": 66,
   "id": "471bdb3c-497d-4e32-8f37-644f5a695e11",
   "metadata": {},
   "outputs": [
    {
     "name": "stdout",
     "output_type": "stream",
     "text": [
      "The best n_estimator was: 70\n",
      "Test accuracy: 0.8327515272409924\n"
     ]
    }
   ],
   "source": [
    "# Choose the best n_estimators value based on the cross-validation results\n",
    "best_n_estimators = n_estimators_range[cv_scores.index(max(cv_scores))]\n",
    "print(f'The best n_estimator was: {best_n_estimators}')\n",
    "\n",
    "# Train the XGBoost model on the full training set with the best n_estimators value\n",
    "xgb_model.set_params(n_estimators=best_n_estimators)\n",
    "xgb_model.fit(X_train_th, y_train_th)\n",
    "\n",
    "# Evaluate the model on the test set\n",
    "test_accuracy = xgb_model.score(X_test_th, y_test_th)\n",
    "print(f\"Test accuracy: {test_accuracy}\")\n"
   ]
  },
  {
   "cell_type": "markdown",
   "id": "dda9eb17-0af5-4e9d-b1b3-13c21dc40d51",
   "metadata": {},
   "source": [
    "## Pipelines"
   ]
  },
  {
   "cell_type": "markdown",
   "id": "7263decd-70be-4d14-a2f9-11d04bdcb05b",
   "metadata": {},
   "source": [
    "### Logistic Regression Pipe"
   ]
  },
  {
   "cell_type": "code",
   "execution_count": 55,
   "id": "785bb821-e7ce-4858-8786-26752ebec6f7",
   "metadata": {},
   "outputs": [
    {
     "name": "stdout",
     "output_type": "stream",
     "text": [
      "Fitting 5 folds for each of 12 candidates, totalling 60 fits\n",
      "[CV 1/5] END logreg__C=0.1, sampling=None, variance_threshold__threshold=0.0006;, score=0.851 total time=  11.0s\n",
      "[CV 2/5] END logreg__C=0.1, sampling=None, variance_threshold__threshold=0.0006;, score=0.848 total time=  11.2s\n",
      "[CV 3/5] END logreg__C=0.1, sampling=None, variance_threshold__threshold=0.0006;, score=0.860 total time=  12.0s\n",
      "[CV 4/5] END logreg__C=0.1, sampling=None, variance_threshold__threshold=0.0006;, score=0.855 total time=  13.2s\n",
      "[CV 5/5] END logreg__C=0.1, sampling=None, variance_threshold__threshold=0.0006;, score=0.849 total time=  13.7s\n",
      "[CV 1/5] END logreg__C=0.1, sampling=None, variance_threshold__threshold=0.006;, score=0.849 total time=   7.3s\n",
      "[CV 2/5] END logreg__C=0.1, sampling=None, variance_threshold__threshold=0.006;, score=0.847 total time=   6.4s\n",
      "[CV 3/5] END logreg__C=0.1, sampling=None, variance_threshold__threshold=0.006;, score=0.859 total time=   7.1s\n",
      "[CV 4/5] END logreg__C=0.1, sampling=None, variance_threshold__threshold=0.006;, score=0.852 total time=   6.6s\n",
      "[CV 5/5] END logreg__C=0.1, sampling=None, variance_threshold__threshold=0.006;, score=0.845 total time=   7.0s\n",
      "[CV 1/5] END logreg__C=0.1, sampling=RandomUnderSampler(), variance_threshold__threshold=0.0006;, score=0.823 total time=   6.0s\n",
      "[CV 2/5] END logreg__C=0.1, sampling=RandomUnderSampler(), variance_threshold__threshold=0.0006;, score=0.832 total time=   6.4s\n",
      "[CV 3/5] END logreg__C=0.1, sampling=RandomUnderSampler(), variance_threshold__threshold=0.0006;, score=0.840 total time=   6.2s\n",
      "[CV 4/5] END logreg__C=0.1, sampling=RandomUnderSampler(), variance_threshold__threshold=0.0006;, score=0.837 total time=   6.4s\n",
      "[CV 5/5] END logreg__C=0.1, sampling=RandomUnderSampler(), variance_threshold__threshold=0.0006;, score=0.834 total time=   7.1s\n",
      "[CV 1/5] END logreg__C=0.1, sampling=RandomUnderSampler(), variance_threshold__threshold=0.006;, score=0.821 total time=   3.8s\n",
      "[CV 2/5] END logreg__C=0.1, sampling=RandomUnderSampler(), variance_threshold__threshold=0.006;, score=0.830 total time=   4.0s\n",
      "[CV 3/5] END logreg__C=0.1, sampling=RandomUnderSampler(), variance_threshold__threshold=0.006;, score=0.843 total time=   3.4s\n",
      "[CV 4/5] END logreg__C=0.1, sampling=RandomUnderSampler(), variance_threshold__threshold=0.006;, score=0.837 total time=   4.1s\n",
      "[CV 5/5] END logreg__C=0.1, sampling=RandomUnderSampler(), variance_threshold__threshold=0.006;, score=0.833 total time=   4.0s\n",
      "[CV 1/5] END logreg__C=1, sampling=None, variance_threshold__threshold=0.0006;, score=0.849 total time=  17.6s\n",
      "[CV 2/5] END logreg__C=1, sampling=None, variance_threshold__threshold=0.0006;, score=0.849 total time=  19.4s\n",
      "[CV 3/5] END logreg__C=1, sampling=None, variance_threshold__threshold=0.0006;, score=0.858 total time=  21.3s\n",
      "[CV 4/5] END logreg__C=1, sampling=None, variance_threshold__threshold=0.0006;, score=0.855 total time=  17.0s\n",
      "[CV 5/5] END logreg__C=1, sampling=None, variance_threshold__threshold=0.0006;, score=0.849 total time=  17.6s\n",
      "[CV 1/5] END logreg__C=1, sampling=None, variance_threshold__threshold=0.006;, score=0.846 total time=   7.7s\n",
      "[CV 2/5] END logreg__C=1, sampling=None, variance_threshold__threshold=0.006;, score=0.846 total time=   7.5s\n",
      "[CV 3/5] END logreg__C=1, sampling=None, variance_threshold__threshold=0.006;, score=0.860 total time=   8.4s\n",
      "[CV 4/5] END logreg__C=1, sampling=None, variance_threshold__threshold=0.006;, score=0.852 total time=   9.1s\n",
      "[CV 5/5] END logreg__C=1, sampling=None, variance_threshold__threshold=0.006;, score=0.848 total time=   8.2s\n",
      "[CV 1/5] END logreg__C=1, sampling=RandomUnderSampler(), variance_threshold__threshold=0.0006;, score=0.826 total time=  10.6s\n",
      "[CV 2/5] END logreg__C=1, sampling=RandomUnderSampler(), variance_threshold__threshold=0.0006;, score=0.829 total time=   9.4s\n",
      "[CV 3/5] END logreg__C=1, sampling=RandomUnderSampler(), variance_threshold__threshold=0.0006;, score=0.836 total time=  11.2s\n",
      "[CV 4/5] END logreg__C=1, sampling=RandomUnderSampler(), variance_threshold__threshold=0.0006;, score=0.836 total time=  13.2s\n",
      "[CV 5/5] END logreg__C=1, sampling=RandomUnderSampler(), variance_threshold__threshold=0.0006;, score=0.834 total time=  10.5s\n",
      "[CV 1/5] END logreg__C=1, sampling=RandomUnderSampler(), variance_threshold__threshold=0.006;, score=0.821 total time=   6.7s\n",
      "[CV 2/5] END logreg__C=1, sampling=RandomUnderSampler(), variance_threshold__threshold=0.006;, score=0.828 total time=   5.0s\n",
      "[CV 3/5] END logreg__C=1, sampling=RandomUnderSampler(), variance_threshold__threshold=0.006;, score=0.842 total time=   7.6s\n",
      "[CV 4/5] END logreg__C=1, sampling=RandomUnderSampler(), variance_threshold__threshold=0.006;, score=0.832 total time=   5.9s\n",
      "[CV 5/5] END logreg__C=1, sampling=RandomUnderSampler(), variance_threshold__threshold=0.006;, score=0.831 total time=   4.5s\n",
      "[CV 1/5] END logreg__C=10, sampling=None, variance_threshold__threshold=0.0006;, score=0.850 total time=  26.1s\n",
      "[CV 2/5] END logreg__C=10, sampling=None, variance_threshold__threshold=0.0006;, score=0.848 total time=  27.4s\n",
      "[CV 3/5] END logreg__C=10, sampling=None, variance_threshold__threshold=0.0006;, score=0.859 total time=  30.4s\n",
      "[CV 4/5] END logreg__C=10, sampling=None, variance_threshold__threshold=0.0006;, score=0.855 total time=  29.3s\n",
      "[CV 5/5] END logreg__C=10, sampling=None, variance_threshold__threshold=0.0006;, score=0.850 total time=  29.0s\n",
      "[CV 1/5] END logreg__C=10, sampling=None, variance_threshold__threshold=0.006;, score=0.846 total time=   9.2s\n",
      "[CV 2/5] END logreg__C=10, sampling=None, variance_threshold__threshold=0.006;, score=0.847 total time=   9.5s\n",
      "[CV 3/5] END logreg__C=10, sampling=None, variance_threshold__threshold=0.006;, score=0.860 total time=   6.3s\n",
      "[CV 4/5] END logreg__C=10, sampling=None, variance_threshold__threshold=0.006;, score=0.852 total time=  10.2s\n",
      "[CV 5/5] END logreg__C=10, sampling=None, variance_threshold__threshold=0.006;, score=0.848 total time=   9.0s\n",
      "[CV 1/5] END logreg__C=10, sampling=RandomUnderSampler(), variance_threshold__threshold=0.0006;, score=0.824 total time=  15.4s\n",
      "[CV 2/5] END logreg__C=10, sampling=RandomUnderSampler(), variance_threshold__threshold=0.0006;, score=0.827 total time=  16.4s\n",
      "[CV 3/5] END logreg__C=10, sampling=RandomUnderSampler(), variance_threshold__threshold=0.0006;, score=0.835 total time=  15.5s\n",
      "[CV 4/5] END logreg__C=10, sampling=RandomUnderSampler(), variance_threshold__threshold=0.0006;, score=0.836 total time=  16.6s\n",
      "[CV 5/5] END logreg__C=10, sampling=RandomUnderSampler(), variance_threshold__threshold=0.0006;, score=0.827 total time=  18.8s\n",
      "[CV 1/5] END logreg__C=10, sampling=RandomUnderSampler(), variance_threshold__threshold=0.006;, score=0.823 total time=   6.1s\n",
      "[CV 2/5] END logreg__C=10, sampling=RandomUnderSampler(), variance_threshold__threshold=0.006;, score=0.830 total time=   3.5s\n",
      "[CV 3/5] END logreg__C=10, sampling=RandomUnderSampler(), variance_threshold__threshold=0.006;, score=0.839 total time=   4.0s\n",
      "[CV 4/5] END logreg__C=10, sampling=RandomUnderSampler(), variance_threshold__threshold=0.006;, score=0.829 total time=   4.6s\n",
      "[CV 5/5] END logreg__C=10, sampling=RandomUnderSampler(), variance_threshold__threshold=0.006;, score=0.833 total time=   3.4s\n",
      "Accuracy on test set: 0.849\n"
     ]
    }
   ],
   "source": [
    "from imblearn.pipeline import Pipeline\n",
    "from imblearn.under_sampling import RandomUnderSampler\n",
    "from sklearn.feature_selection import VarianceThreshold\n",
    "from sklearn.linear_model import LogisticRegression\n",
    "\n",
    "# Define the pipeline steps\n",
    "steps = [\n",
    "    ('sampling', RandomUnderSampler()),  # optional step, to downsample the majority class\n",
    "    ('variance_threshold', VarianceThreshold(threshold=0.0006)),  # variance thresholding\n",
    "    ('logreg', LogisticRegression(solver='lbfgs', max_iter=100000, random_state=1)),  # logistic regression model\n",
    "]\n",
    "\n",
    "# Define the parameter grid for the pipeline\n",
    "param_grid = {\n",
    "    'sampling': [None, RandomUnderSampler()],  # with and without downsampling\n",
    "    'variance_threshold__threshold': [0.0004, 0.004],  # two different variance thresholds\n",
    "    'logreg__C': [0.1, 1, 10],  # three different values of C for logistic regression\n",
    "}\n",
    "\n",
    "# Define the pipeline object\n",
    "pipe = Pipeline(steps)\n",
    "\n",
    "# Run the pipeline with grid search to find the best parameters\n",
    "from sklearn.model_selection import GridSearchCV\n",
    "\n",
    "grid = GridSearchCV(pipe, param_grid, cv=5, verbose = 7)\n",
    "grid.fit(X_train, y_train)\n",
    "\n",
    "# Evaluate the best pipeline on the test set\n",
    "from sklearn.metrics import accuracy_score\n",
    "\n",
    "y_pred = grid.predict(X_test)\n",
    "accuracy = accuracy_score(y_test, y_pred)\n",
    "print(f\"Accuracy on test set: {accuracy:.3f}\")\n"
   ]
  },
  {
   "cell_type": "code",
   "execution_count": 56,
   "id": "8c977489-7c05-4da0-b81c-62a8b3cb998f",
   "metadata": {},
   "outputs": [
    {
     "name": "stdout",
     "output_type": "stream",
     "text": [
      "Best parameters: {'logreg__C': 0.1, 'sampling': None, 'variance_threshold__threshold': 0.0006}\n"
     ]
    }
   ],
   "source": [
    "# Get the best pipeline and its parameters\n",
    "best_pipe = grid.best_estimator_\n",
    "best_params = grid.best_params_\n",
    "\n",
    "# Print the best parameters\n",
    "print(f\"Best parameters: {best_params}\")"
   ]
  },
  {
   "cell_type": "markdown",
   "id": "284a5ef4-44c9-4d7e-91c4-a950a8da82aa",
   "metadata": {},
   "source": [
    "### Random Forest Pipe"
   ]
  },
  {
   "cell_type": "code",
   "execution_count": 71,
   "id": "684e99e1-0550-466c-9eee-17804dc539af",
   "metadata": {},
   "outputs": [
    {
     "name": "stdout",
     "output_type": "stream",
     "text": [
      "Fitting 5 folds for each of 64 candidates, totalling 320 fits\n",
      "[CV 1/5] END random_forest__max_depth=8, random_forest__n_estimators=100, sampling=None, variance_threshold__threshold=0.0006;, score=0.827 total time=   1.7s\n",
      "[CV 2/5] END random_forest__max_depth=8, random_forest__n_estimators=100, sampling=None, variance_threshold__threshold=0.0006;, score=0.827 total time=   1.6s\n",
      "[CV 3/5] END random_forest__max_depth=8, random_forest__n_estimators=100, sampling=None, variance_threshold__threshold=0.0006;, score=0.832 total time=   1.6s\n",
      "[CV 4/5] END random_forest__max_depth=8, random_forest__n_estimators=100, sampling=None, variance_threshold__threshold=0.0006;, score=0.834 total time=   1.6s\n",
      "[CV 5/5] END random_forest__max_depth=8, random_forest__n_estimators=100, sampling=None, variance_threshold__threshold=0.0006;, score=0.827 total time=   1.6s\n",
      "[CV 1/5] END random_forest__max_depth=8, random_forest__n_estimators=100, sampling=None, variance_threshold__threshold=0.006;, score=0.831 total time=   1.5s\n",
      "[CV 2/5] END random_forest__max_depth=8, random_forest__n_estimators=100, sampling=None, variance_threshold__threshold=0.006;, score=0.832 total time=   1.5s\n",
      "[CV 3/5] END random_forest__max_depth=8, random_forest__n_estimators=100, sampling=None, variance_threshold__threshold=0.006;, score=0.838 total time=   1.5s\n",
      "[CV 4/5] END random_forest__max_depth=8, random_forest__n_estimators=100, sampling=None, variance_threshold__threshold=0.006;, score=0.836 total time=   1.5s\n",
      "[CV 5/5] END random_forest__max_depth=8, random_forest__n_estimators=100, sampling=None, variance_threshold__threshold=0.006;, score=0.830 total time=   1.5s\n",
      "[CV 1/5] END random_forest__max_depth=8, random_forest__n_estimators=100, sampling=RandomUnderSampler(), variance_threshold__threshold=0.0006;, score=0.828 total time=   1.2s\n",
      "[CV 2/5] END random_forest__max_depth=8, random_forest__n_estimators=100, sampling=RandomUnderSampler(), variance_threshold__threshold=0.0006;, score=0.829 total time=   1.2s\n",
      "[CV 3/5] END random_forest__max_depth=8, random_forest__n_estimators=100, sampling=RandomUnderSampler(), variance_threshold__threshold=0.0006;, score=0.835 total time=   1.2s\n",
      "[CV 4/5] END random_forest__max_depth=8, random_forest__n_estimators=100, sampling=RandomUnderSampler(), variance_threshold__threshold=0.0006;, score=0.846 total time=   1.2s\n",
      "[CV 5/5] END random_forest__max_depth=8, random_forest__n_estimators=100, sampling=RandomUnderSampler(), variance_threshold__threshold=0.0006;, score=0.837 total time=   1.2s\n",
      "[CV 1/5] END random_forest__max_depth=8, random_forest__n_estimators=100, sampling=RandomUnderSampler(), variance_threshold__threshold=0.006;, score=0.831 total time=   1.0s\n",
      "[CV 2/5] END random_forest__max_depth=8, random_forest__n_estimators=100, sampling=RandomUnderSampler(), variance_threshold__threshold=0.006;, score=0.832 total time=   1.1s\n",
      "[CV 3/5] END random_forest__max_depth=8, random_forest__n_estimators=100, sampling=RandomUnderSampler(), variance_threshold__threshold=0.006;, score=0.835 total time=   1.1s\n",
      "[CV 4/5] END random_forest__max_depth=8, random_forest__n_estimators=100, sampling=RandomUnderSampler(), variance_threshold__threshold=0.006;, score=0.841 total time=   1.0s\n",
      "[CV 5/5] END random_forest__max_depth=8, random_forest__n_estimators=100, sampling=RandomUnderSampler(), variance_threshold__threshold=0.006;, score=0.833 total time=   1.0s\n",
      "[CV 1/5] END random_forest__max_depth=8, random_forest__n_estimators=150, sampling=None, variance_threshold__threshold=0.0006;, score=0.827 total time=   2.3s\n",
      "[CV 2/5] END random_forest__max_depth=8, random_forest__n_estimators=150, sampling=None, variance_threshold__threshold=0.0006;, score=0.827 total time=   2.4s\n",
      "[CV 3/5] END random_forest__max_depth=8, random_forest__n_estimators=150, sampling=None, variance_threshold__threshold=0.0006;, score=0.833 total time=   2.3s\n",
      "[CV 4/5] END random_forest__max_depth=8, random_forest__n_estimators=150, sampling=None, variance_threshold__threshold=0.0006;, score=0.834 total time=   2.3s\n",
      "[CV 5/5] END random_forest__max_depth=8, random_forest__n_estimators=150, sampling=None, variance_threshold__threshold=0.0006;, score=0.828 total time=   2.3s\n",
      "[CV 1/5] END random_forest__max_depth=8, random_forest__n_estimators=150, sampling=None, variance_threshold__threshold=0.006;, score=0.831 total time=   2.2s\n",
      "[CV 2/5] END random_forest__max_depth=8, random_forest__n_estimators=150, sampling=None, variance_threshold__threshold=0.006;, score=0.831 total time=   2.1s\n",
      "[CV 3/5] END random_forest__max_depth=8, random_forest__n_estimators=150, sampling=None, variance_threshold__threshold=0.006;, score=0.837 total time=   2.1s\n",
      "[CV 4/5] END random_forest__max_depth=8, random_forest__n_estimators=150, sampling=None, variance_threshold__threshold=0.006;, score=0.835 total time=   2.2s\n",
      "[CV 5/5] END random_forest__max_depth=8, random_forest__n_estimators=150, sampling=None, variance_threshold__threshold=0.006;, score=0.829 total time=   2.1s\n",
      "[CV 1/5] END random_forest__max_depth=8, random_forest__n_estimators=150, sampling=RandomUnderSampler(), variance_threshold__threshold=0.0006;, score=0.830 total time=   1.6s\n",
      "[CV 2/5] END random_forest__max_depth=8, random_forest__n_estimators=150, sampling=RandomUnderSampler(), variance_threshold__threshold=0.0006;, score=0.830 total time=   1.6s\n",
      "[CV 3/5] END random_forest__max_depth=8, random_forest__n_estimators=150, sampling=RandomUnderSampler(), variance_threshold__threshold=0.0006;, score=0.837 total time=   1.6s\n",
      "[CV 4/5] END random_forest__max_depth=8, random_forest__n_estimators=150, sampling=RandomUnderSampler(), variance_threshold__threshold=0.0006;, score=0.845 total time=   1.7s\n",
      "[CV 5/5] END random_forest__max_depth=8, random_forest__n_estimators=150, sampling=RandomUnderSampler(), variance_threshold__threshold=0.0006;, score=0.834 total time=   1.6s\n",
      "[CV 1/5] END random_forest__max_depth=8, random_forest__n_estimators=150, sampling=RandomUnderSampler(), variance_threshold__threshold=0.006;, score=0.831 total time=   1.5s\n",
      "[CV 2/5] END random_forest__max_depth=8, random_forest__n_estimators=150, sampling=RandomUnderSampler(), variance_threshold__threshold=0.006;, score=0.831 total time=   1.5s\n",
      "[CV 3/5] END random_forest__max_depth=8, random_forest__n_estimators=150, sampling=RandomUnderSampler(), variance_threshold__threshold=0.006;, score=0.842 total time=   1.4s\n",
      "[CV 4/5] END random_forest__max_depth=8, random_forest__n_estimators=150, sampling=RandomUnderSampler(), variance_threshold__threshold=0.006;, score=0.846 total time=   1.4s\n",
      "[CV 5/5] END random_forest__max_depth=8, random_forest__n_estimators=150, sampling=RandomUnderSampler(), variance_threshold__threshold=0.006;, score=0.835 total time=   1.4s\n",
      "[CV 1/5] END random_forest__max_depth=8, random_forest__n_estimators=200, sampling=None, variance_threshold__threshold=0.0006;, score=0.827 total time=   3.0s\n",
      "[CV 2/5] END random_forest__max_depth=8, random_forest__n_estimators=200, sampling=None, variance_threshold__threshold=0.0006;, score=0.827 total time=   3.0s\n",
      "[CV 3/5] END random_forest__max_depth=8, random_forest__n_estimators=200, sampling=None, variance_threshold__threshold=0.0006;, score=0.833 total time=   3.1s\n",
      "[CV 4/5] END random_forest__max_depth=8, random_forest__n_estimators=200, sampling=None, variance_threshold__threshold=0.0006;, score=0.831 total time=   3.1s\n",
      "[CV 5/5] END random_forest__max_depth=8, random_forest__n_estimators=200, sampling=None, variance_threshold__threshold=0.0006;, score=0.826 total time=   3.0s\n",
      "[CV 1/5] END random_forest__max_depth=8, random_forest__n_estimators=200, sampling=None, variance_threshold__threshold=0.006;, score=0.831 total time=   2.8s\n",
      "[CV 2/5] END random_forest__max_depth=8, random_forest__n_estimators=200, sampling=None, variance_threshold__threshold=0.006;, score=0.831 total time=   2.7s\n",
      "[CV 3/5] END random_forest__max_depth=8, random_forest__n_estimators=200, sampling=None, variance_threshold__threshold=0.006;, score=0.836 total time=   2.8s\n",
      "[CV 4/5] END random_forest__max_depth=8, random_forest__n_estimators=200, sampling=None, variance_threshold__threshold=0.006;, score=0.838 total time=   2.7s\n",
      "[CV 5/5] END random_forest__max_depth=8, random_forest__n_estimators=200, sampling=None, variance_threshold__threshold=0.006;, score=0.831 total time=   2.7s\n",
      "[CV 1/5] END random_forest__max_depth=8, random_forest__n_estimators=200, sampling=RandomUnderSampler(), variance_threshold__threshold=0.0006;, score=0.832 total time=   2.1s\n",
      "[CV 2/5] END random_forest__max_depth=8, random_forest__n_estimators=200, sampling=RandomUnderSampler(), variance_threshold__threshold=0.0006;, score=0.828 total time=   2.1s\n",
      "[CV 3/5] END random_forest__max_depth=8, random_forest__n_estimators=200, sampling=RandomUnderSampler(), variance_threshold__threshold=0.0006;, score=0.834 total time=   2.1s\n",
      "[CV 4/5] END random_forest__max_depth=8, random_forest__n_estimators=200, sampling=RandomUnderSampler(), variance_threshold__threshold=0.0006;, score=0.843 total time=   2.0s\n",
      "[CV 5/5] END random_forest__max_depth=8, random_forest__n_estimators=200, sampling=RandomUnderSampler(), variance_threshold__threshold=0.0006;, score=0.833 total time=   2.1s\n",
      "[CV 1/5] END random_forest__max_depth=8, random_forest__n_estimators=200, sampling=RandomUnderSampler(), variance_threshold__threshold=0.006;, score=0.829 total time=   1.8s\n",
      "[CV 2/5] END random_forest__max_depth=8, random_forest__n_estimators=200, sampling=RandomUnderSampler(), variance_threshold__threshold=0.006;, score=0.827 total time=   1.9s\n",
      "[CV 3/5] END random_forest__max_depth=8, random_forest__n_estimators=200, sampling=RandomUnderSampler(), variance_threshold__threshold=0.006;, score=0.839 total time=   1.8s\n",
      "[CV 4/5] END random_forest__max_depth=8, random_forest__n_estimators=200, sampling=RandomUnderSampler(), variance_threshold__threshold=0.006;, score=0.844 total time=   1.8s\n",
      "[CV 5/5] END random_forest__max_depth=8, random_forest__n_estimators=200, sampling=RandomUnderSampler(), variance_threshold__threshold=0.006;, score=0.833 total time=   1.8s\n",
      "[CV 1/5] END random_forest__max_depth=8, random_forest__n_estimators=250, sampling=None, variance_threshold__threshold=0.0006;, score=0.827 total time=   3.8s\n",
      "[CV 2/5] END random_forest__max_depth=8, random_forest__n_estimators=250, sampling=None, variance_threshold__threshold=0.0006;, score=0.827 total time=   3.8s\n",
      "[CV 3/5] END random_forest__max_depth=8, random_forest__n_estimators=250, sampling=None, variance_threshold__threshold=0.0006;, score=0.832 total time=   3.7s\n",
      "[CV 4/5] END random_forest__max_depth=8, random_forest__n_estimators=250, sampling=None, variance_threshold__threshold=0.0006;, score=0.833 total time=   3.7s\n",
      "[CV 5/5] END random_forest__max_depth=8, random_forest__n_estimators=250, sampling=None, variance_threshold__threshold=0.0006;, score=0.827 total time=   3.7s\n",
      "[CV 1/5] END random_forest__max_depth=8, random_forest__n_estimators=250, sampling=None, variance_threshold__threshold=0.006;, score=0.830 total time=   3.4s\n",
      "[CV 2/5] END random_forest__max_depth=8, random_forest__n_estimators=250, sampling=None, variance_threshold__threshold=0.006;, score=0.831 total time=   3.4s\n",
      "[CV 3/5] END random_forest__max_depth=8, random_forest__n_estimators=250, sampling=None, variance_threshold__threshold=0.006;, score=0.836 total time=   3.4s\n",
      "[CV 4/5] END random_forest__max_depth=8, random_forest__n_estimators=250, sampling=None, variance_threshold__threshold=0.006;, score=0.837 total time=   3.4s\n",
      "[CV 5/5] END random_forest__max_depth=8, random_forest__n_estimators=250, sampling=None, variance_threshold__threshold=0.006;, score=0.830 total time=   3.4s\n",
      "[CV 1/5] END random_forest__max_depth=8, random_forest__n_estimators=250, sampling=RandomUnderSampler(), variance_threshold__threshold=0.0006;, score=0.830 total time=   2.5s\n",
      "[CV 2/5] END random_forest__max_depth=8, random_forest__n_estimators=250, sampling=RandomUnderSampler(), variance_threshold__threshold=0.0006;, score=0.829 total time=   2.6s\n",
      "[CV 3/5] END random_forest__max_depth=8, random_forest__n_estimators=250, sampling=RandomUnderSampler(), variance_threshold__threshold=0.0006;, score=0.837 total time=   2.5s\n",
      "[CV 4/5] END random_forest__max_depth=8, random_forest__n_estimators=250, sampling=RandomUnderSampler(), variance_threshold__threshold=0.0006;, score=0.844 total time=   2.5s\n",
      "[CV 5/5] END random_forest__max_depth=8, random_forest__n_estimators=250, sampling=RandomUnderSampler(), variance_threshold__threshold=0.0006;, score=0.834 total time=   2.6s\n",
      "[CV 1/5] END random_forest__max_depth=8, random_forest__n_estimators=250, sampling=RandomUnderSampler(), variance_threshold__threshold=0.006;, score=0.828 total time=   2.2s\n",
      "[CV 2/5] END random_forest__max_depth=8, random_forest__n_estimators=250, sampling=RandomUnderSampler(), variance_threshold__threshold=0.006;, score=0.827 total time=   2.2s\n",
      "[CV 3/5] END random_forest__max_depth=8, random_forest__n_estimators=250, sampling=RandomUnderSampler(), variance_threshold__threshold=0.006;, score=0.838 total time=   2.3s\n",
      "[CV 4/5] END random_forest__max_depth=8, random_forest__n_estimators=250, sampling=RandomUnderSampler(), variance_threshold__threshold=0.006;, score=0.845 total time=   2.2s\n",
      "[CV 5/5] END random_forest__max_depth=8, random_forest__n_estimators=250, sampling=RandomUnderSampler(), variance_threshold__threshold=0.006;, score=0.831 total time=   2.3s\n",
      "[CV 1/5] END random_forest__max_depth=9, random_forest__n_estimators=100, sampling=None, variance_threshold__threshold=0.0006;, score=0.829 total time=   1.8s\n",
      "[CV 2/5] END random_forest__max_depth=9, random_forest__n_estimators=100, sampling=None, variance_threshold__threshold=0.0006;, score=0.829 total time=   1.8s\n",
      "[CV 3/5] END random_forest__max_depth=9, random_forest__n_estimators=100, sampling=None, variance_threshold__threshold=0.0006;, score=0.835 total time=   1.8s\n",
      "[CV 4/5] END random_forest__max_depth=9, random_forest__n_estimators=100, sampling=None, variance_threshold__threshold=0.0006;, score=0.835 total time=   1.8s\n",
      "[CV 5/5] END random_forest__max_depth=9, random_forest__n_estimators=100, sampling=None, variance_threshold__threshold=0.0006;, score=0.828 total time=   1.8s\n",
      "[CV 1/5] END random_forest__max_depth=9, random_forest__n_estimators=100, sampling=None, variance_threshold__threshold=0.006;, score=0.833 total time=   1.6s\n",
      "[CV 2/5] END random_forest__max_depth=9, random_forest__n_estimators=100, sampling=None, variance_threshold__threshold=0.006;, score=0.832 total time=   1.6s\n",
      "[CV 3/5] END random_forest__max_depth=9, random_forest__n_estimators=100, sampling=None, variance_threshold__threshold=0.006;, score=0.839 total time=   1.6s\n",
      "[CV 4/5] END random_forest__max_depth=9, random_forest__n_estimators=100, sampling=None, variance_threshold__threshold=0.006;, score=0.838 total time=   1.6s\n",
      "[CV 5/5] END random_forest__max_depth=9, random_forest__n_estimators=100, sampling=None, variance_threshold__threshold=0.006;, score=0.831 total time=   1.6s\n",
      "[CV 1/5] END random_forest__max_depth=9, random_forest__n_estimators=100, sampling=RandomUnderSampler(), variance_threshold__threshold=0.0006;, score=0.830 total time=   1.3s\n",
      "[CV 2/5] END random_forest__max_depth=9, random_forest__n_estimators=100, sampling=RandomUnderSampler(), variance_threshold__threshold=0.0006;, score=0.826 total time=   1.3s\n",
      "[CV 3/5] END random_forest__max_depth=9, random_forest__n_estimators=100, sampling=RandomUnderSampler(), variance_threshold__threshold=0.0006;, score=0.836 total time=   1.3s\n",
      "[CV 4/5] END random_forest__max_depth=9, random_forest__n_estimators=100, sampling=RandomUnderSampler(), variance_threshold__threshold=0.0006;, score=0.845 total time=   1.3s\n",
      "[CV 5/5] END random_forest__max_depth=9, random_forest__n_estimators=100, sampling=RandomUnderSampler(), variance_threshold__threshold=0.0006;, score=0.832 total time=   1.3s\n",
      "[CV 1/5] END random_forest__max_depth=9, random_forest__n_estimators=100, sampling=RandomUnderSampler(), variance_threshold__threshold=0.006;, score=0.831 total time=   1.1s\n",
      "[CV 2/5] END random_forest__max_depth=9, random_forest__n_estimators=100, sampling=RandomUnderSampler(), variance_threshold__threshold=0.006;, score=0.830 total time=   1.1s\n",
      "[CV 3/5] END random_forest__max_depth=9, random_forest__n_estimators=100, sampling=RandomUnderSampler(), variance_threshold__threshold=0.006;, score=0.836 total time=   1.1s\n",
      "[CV 4/5] END random_forest__max_depth=9, random_forest__n_estimators=100, sampling=RandomUnderSampler(), variance_threshold__threshold=0.006;, score=0.842 total time=   1.2s\n",
      "[CV 5/5] END random_forest__max_depth=9, random_forest__n_estimators=100, sampling=RandomUnderSampler(), variance_threshold__threshold=0.006;, score=0.834 total time=   1.1s\n",
      "[CV 1/5] END random_forest__max_depth=9, random_forest__n_estimators=150, sampling=None, variance_threshold__threshold=0.0006;, score=0.830 total time=   2.6s\n",
      "[CV 2/5] END random_forest__max_depth=9, random_forest__n_estimators=150, sampling=None, variance_threshold__threshold=0.0006;, score=0.829 total time=   2.6s\n",
      "[CV 3/5] END random_forest__max_depth=9, random_forest__n_estimators=150, sampling=None, variance_threshold__threshold=0.0006;, score=0.837 total time=   2.6s\n",
      "[CV 4/5] END random_forest__max_depth=9, random_forest__n_estimators=150, sampling=None, variance_threshold__threshold=0.0006;, score=0.835 total time=   2.6s\n",
      "[CV 5/5] END random_forest__max_depth=9, random_forest__n_estimators=150, sampling=None, variance_threshold__threshold=0.0006;, score=0.829 total time=   2.6s\n",
      "[CV 1/5] END random_forest__max_depth=9, random_forest__n_estimators=150, sampling=None, variance_threshold__threshold=0.006;, score=0.833 total time=   2.4s\n",
      "[CV 2/5] END random_forest__max_depth=9, random_forest__n_estimators=150, sampling=None, variance_threshold__threshold=0.006;, score=0.833 total time=   2.3s\n",
      "[CV 3/5] END random_forest__max_depth=9, random_forest__n_estimators=150, sampling=None, variance_threshold__threshold=0.006;, score=0.836 total time=   2.3s\n",
      "[CV 4/5] END random_forest__max_depth=9, random_forest__n_estimators=150, sampling=None, variance_threshold__threshold=0.006;, score=0.839 total time=   2.3s\n",
      "[CV 5/5] END random_forest__max_depth=9, random_forest__n_estimators=150, sampling=None, variance_threshold__threshold=0.006;, score=0.832 total time=   2.3s\n",
      "[CV 1/5] END random_forest__max_depth=9, random_forest__n_estimators=150, sampling=RandomUnderSampler(), variance_threshold__threshold=0.0006;, score=0.829 total time=   1.8s\n",
      "[CV 2/5] END random_forest__max_depth=9, random_forest__n_estimators=150, sampling=RandomUnderSampler(), variance_threshold__threshold=0.0006;, score=0.830 total time=   1.8s\n",
      "[CV 3/5] END random_forest__max_depth=9, random_forest__n_estimators=150, sampling=RandomUnderSampler(), variance_threshold__threshold=0.0006;, score=0.838 total time=   1.8s\n",
      "[CV 4/5] END random_forest__max_depth=9, random_forest__n_estimators=150, sampling=RandomUnderSampler(), variance_threshold__threshold=0.0006;, score=0.846 total time=   1.8s\n",
      "[CV 5/5] END random_forest__max_depth=9, random_forest__n_estimators=150, sampling=RandomUnderSampler(), variance_threshold__threshold=0.0006;, score=0.835 total time=   1.8s\n",
      "[CV 1/5] END random_forest__max_depth=9, random_forest__n_estimators=150, sampling=RandomUnderSampler(), variance_threshold__threshold=0.006;, score=0.828 total time=   1.6s\n",
      "[CV 2/5] END random_forest__max_depth=9, random_forest__n_estimators=150, sampling=RandomUnderSampler(), variance_threshold__threshold=0.006;, score=0.826 total time=   1.5s\n",
      "[CV 3/5] END random_forest__max_depth=9, random_forest__n_estimators=150, sampling=RandomUnderSampler(), variance_threshold__threshold=0.006;, score=0.837 total time=   1.6s\n",
      "[CV 4/5] END random_forest__max_depth=9, random_forest__n_estimators=150, sampling=RandomUnderSampler(), variance_threshold__threshold=0.006;, score=0.847 total time=   1.6s\n",
      "[CV 5/5] END random_forest__max_depth=9, random_forest__n_estimators=150, sampling=RandomUnderSampler(), variance_threshold__threshold=0.006;, score=0.836 total time=   1.6s\n",
      "[CV 1/5] END random_forest__max_depth=9, random_forest__n_estimators=200, sampling=None, variance_threshold__threshold=0.0006;, score=0.828 total time=   3.4s\n",
      "[CV 2/5] END random_forest__max_depth=9, random_forest__n_estimators=200, sampling=None, variance_threshold__threshold=0.0006;, score=0.829 total time=   3.4s\n",
      "[CV 3/5] END random_forest__max_depth=9, random_forest__n_estimators=200, sampling=None, variance_threshold__threshold=0.0006;, score=0.836 total time=   3.4s\n",
      "[CV 4/5] END random_forest__max_depth=9, random_forest__n_estimators=200, sampling=None, variance_threshold__threshold=0.0006;, score=0.835 total time=   3.4s\n",
      "[CV 5/5] END random_forest__max_depth=9, random_forest__n_estimators=200, sampling=None, variance_threshold__threshold=0.0006;, score=0.830 total time=   3.4s\n",
      "[CV 1/5] END random_forest__max_depth=9, random_forest__n_estimators=200, sampling=None, variance_threshold__threshold=0.006;, score=0.834 total time=   3.1s\n",
      "[CV 2/5] END random_forest__max_depth=9, random_forest__n_estimators=200, sampling=None, variance_threshold__threshold=0.006;, score=0.833 total time=   3.1s\n",
      "[CV 3/5] END random_forest__max_depth=9, random_forest__n_estimators=200, sampling=None, variance_threshold__threshold=0.006;, score=0.839 total time=   3.0s\n",
      "[CV 4/5] END random_forest__max_depth=9, random_forest__n_estimators=200, sampling=None, variance_threshold__threshold=0.006;, score=0.838 total time=   3.0s\n",
      "[CV 5/5] END random_forest__max_depth=9, random_forest__n_estimators=200, sampling=None, variance_threshold__threshold=0.006;, score=0.833 total time=   3.0s\n",
      "[CV 1/5] END random_forest__max_depth=9, random_forest__n_estimators=200, sampling=RandomUnderSampler(), variance_threshold__threshold=0.0006;, score=0.829 total time=   2.3s\n",
      "[CV 2/5] END random_forest__max_depth=9, random_forest__n_estimators=200, sampling=RandomUnderSampler(), variance_threshold__threshold=0.0006;, score=0.832 total time=   2.3s\n",
      "[CV 3/5] END random_forest__max_depth=9, random_forest__n_estimators=200, sampling=RandomUnderSampler(), variance_threshold__threshold=0.0006;, score=0.838 total time=   2.3s\n",
      "[CV 4/5] END random_forest__max_depth=9, random_forest__n_estimators=200, sampling=RandomUnderSampler(), variance_threshold__threshold=0.0006;, score=0.845 total time=   2.3s\n",
      "[CV 5/5] END random_forest__max_depth=9, random_forest__n_estimators=200, sampling=RandomUnderSampler(), variance_threshold__threshold=0.0006;, score=0.835 total time=   2.3s\n",
      "[CV 1/5] END random_forest__max_depth=9, random_forest__n_estimators=200, sampling=RandomUnderSampler(), variance_threshold__threshold=0.006;, score=0.830 total time=   2.0s\n",
      "[CV 2/5] END random_forest__max_depth=9, random_forest__n_estimators=200, sampling=RandomUnderSampler(), variance_threshold__threshold=0.006;, score=0.827 total time=   2.0s\n",
      "[CV 3/5] END random_forest__max_depth=9, random_forest__n_estimators=200, sampling=RandomUnderSampler(), variance_threshold__threshold=0.006;, score=0.837 total time=   2.0s\n",
      "[CV 4/5] END random_forest__max_depth=9, random_forest__n_estimators=200, sampling=RandomUnderSampler(), variance_threshold__threshold=0.006;, score=0.848 total time=   2.0s\n",
      "[CV 5/5] END random_forest__max_depth=9, random_forest__n_estimators=200, sampling=RandomUnderSampler(), variance_threshold__threshold=0.006;, score=0.836 total time=   2.0s\n",
      "[CV 1/5] END random_forest__max_depth=9, random_forest__n_estimators=250, sampling=None, variance_threshold__threshold=0.0006;, score=0.830 total time=   4.2s\n",
      "[CV 2/5] END random_forest__max_depth=9, random_forest__n_estimators=250, sampling=None, variance_threshold__threshold=0.0006;, score=0.831 total time=   4.2s\n",
      "[CV 3/5] END random_forest__max_depth=9, random_forest__n_estimators=250, sampling=None, variance_threshold__threshold=0.0006;, score=0.835 total time=   4.2s\n",
      "[CV 4/5] END random_forest__max_depth=9, random_forest__n_estimators=250, sampling=None, variance_threshold__threshold=0.0006;, score=0.836 total time=   4.2s\n",
      "[CV 5/5] END random_forest__max_depth=9, random_forest__n_estimators=250, sampling=None, variance_threshold__threshold=0.0006;, score=0.830 total time=   4.2s\n",
      "[CV 1/5] END random_forest__max_depth=9, random_forest__n_estimators=250, sampling=None, variance_threshold__threshold=0.006;, score=0.833 total time=   3.8s\n",
      "[CV 2/5] END random_forest__max_depth=9, random_forest__n_estimators=250, sampling=None, variance_threshold__threshold=0.006;, score=0.834 total time=   3.7s\n",
      "[CV 3/5] END random_forest__max_depth=9, random_forest__n_estimators=250, sampling=None, variance_threshold__threshold=0.006;, score=0.838 total time=   3.8s\n",
      "[CV 4/5] END random_forest__max_depth=9, random_forest__n_estimators=250, sampling=None, variance_threshold__threshold=0.006;, score=0.838 total time=   3.8s\n",
      "[CV 5/5] END random_forest__max_depth=9, random_forest__n_estimators=250, sampling=None, variance_threshold__threshold=0.006;, score=0.832 total time=   3.8s\n",
      "[CV 1/5] END random_forest__max_depth=9, random_forest__n_estimators=250, sampling=RandomUnderSampler(), variance_threshold__threshold=0.0006;, score=0.829 total time=   2.8s\n",
      "[CV 2/5] END random_forest__max_depth=9, random_forest__n_estimators=250, sampling=RandomUnderSampler(), variance_threshold__threshold=0.0006;, score=0.832 total time=   2.9s\n",
      "[CV 3/5] END random_forest__max_depth=9, random_forest__n_estimators=250, sampling=RandomUnderSampler(), variance_threshold__threshold=0.0006;, score=0.837 total time=   2.9s\n",
      "[CV 4/5] END random_forest__max_depth=9, random_forest__n_estimators=250, sampling=RandomUnderSampler(), variance_threshold__threshold=0.0006;, score=0.846 total time=   2.8s\n",
      "[CV 5/5] END random_forest__max_depth=9, random_forest__n_estimators=250, sampling=RandomUnderSampler(), variance_threshold__threshold=0.0006;, score=0.835 total time=   2.8s\n",
      "[CV 1/5] END random_forest__max_depth=9, random_forest__n_estimators=250, sampling=RandomUnderSampler(), variance_threshold__threshold=0.006;, score=0.832 total time=   2.5s\n",
      "[CV 2/5] END random_forest__max_depth=9, random_forest__n_estimators=250, sampling=RandomUnderSampler(), variance_threshold__threshold=0.006;, score=0.827 total time=   2.4s\n",
      "[CV 3/5] END random_forest__max_depth=9, random_forest__n_estimators=250, sampling=RandomUnderSampler(), variance_threshold__threshold=0.006;, score=0.838 total time=   2.4s\n",
      "[CV 4/5] END random_forest__max_depth=9, random_forest__n_estimators=250, sampling=RandomUnderSampler(), variance_threshold__threshold=0.006;, score=0.844 total time=   2.5s\n",
      "[CV 5/5] END random_forest__max_depth=9, random_forest__n_estimators=250, sampling=RandomUnderSampler(), variance_threshold__threshold=0.006;, score=0.835 total time=   2.5s\n",
      "[CV 1/5] END random_forest__max_depth=10, random_forest__n_estimators=100, sampling=None, variance_threshold__threshold=0.0006;, score=0.832 total time=   2.0s\n",
      "[CV 2/5] END random_forest__max_depth=10, random_forest__n_estimators=100, sampling=None, variance_threshold__threshold=0.0006;, score=0.832 total time=   2.0s\n",
      "[CV 3/5] END random_forest__max_depth=10, random_forest__n_estimators=100, sampling=None, variance_threshold__threshold=0.0006;, score=0.835 total time=   2.0s\n",
      "[CV 4/5] END random_forest__max_depth=10, random_forest__n_estimators=100, sampling=None, variance_threshold__threshold=0.0006;, score=0.836 total time=   2.0s\n",
      "[CV 5/5] END random_forest__max_depth=10, random_forest__n_estimators=100, sampling=None, variance_threshold__threshold=0.0006;, score=0.831 total time=   2.0s\n",
      "[CV 1/5] END random_forest__max_depth=10, random_forest__n_estimators=100, sampling=None, variance_threshold__threshold=0.006;, score=0.837 total time=   1.8s\n",
      "[CV 2/5] END random_forest__max_depth=10, random_forest__n_estimators=100, sampling=None, variance_threshold__threshold=0.006;, score=0.835 total time=   1.8s\n",
      "[CV 3/5] END random_forest__max_depth=10, random_forest__n_estimators=100, sampling=None, variance_threshold__threshold=0.006;, score=0.841 total time=   1.8s\n",
      "[CV 4/5] END random_forest__max_depth=10, random_forest__n_estimators=100, sampling=None, variance_threshold__threshold=0.006;, score=0.839 total time=   1.8s\n",
      "[CV 5/5] END random_forest__max_depth=10, random_forest__n_estimators=100, sampling=None, variance_threshold__threshold=0.006;, score=0.834 total time=   1.8s\n",
      "[CV 1/5] END random_forest__max_depth=10, random_forest__n_estimators=100, sampling=RandomUnderSampler(), variance_threshold__threshold=0.0006;, score=0.830 total time=   1.4s\n",
      "[CV 2/5] END random_forest__max_depth=10, random_forest__n_estimators=100, sampling=RandomUnderSampler(), variance_threshold__threshold=0.0006;, score=0.830 total time=   1.4s\n",
      "[CV 3/5] END random_forest__max_depth=10, random_forest__n_estimators=100, sampling=RandomUnderSampler(), variance_threshold__threshold=0.0006;, score=0.839 total time=   1.4s\n",
      "[CV 4/5] END random_forest__max_depth=10, random_forest__n_estimators=100, sampling=RandomUnderSampler(), variance_threshold__threshold=0.0006;, score=0.843 total time=   1.4s\n",
      "[CV 5/5] END random_forest__max_depth=10, random_forest__n_estimators=100, sampling=RandomUnderSampler(), variance_threshold__threshold=0.0006;, score=0.836 total time=   1.4s\n",
      "[CV 1/5] END random_forest__max_depth=10, random_forest__n_estimators=100, sampling=RandomUnderSampler(), variance_threshold__threshold=0.006;, score=0.827 total time=   1.2s\n",
      "[CV 2/5] END random_forest__max_depth=10, random_forest__n_estimators=100, sampling=RandomUnderSampler(), variance_threshold__threshold=0.006;, score=0.824 total time=   1.3s\n",
      "[CV 3/5] END random_forest__max_depth=10, random_forest__n_estimators=100, sampling=RandomUnderSampler(), variance_threshold__threshold=0.006;, score=0.836 total time=   1.2s\n",
      "[CV 4/5] END random_forest__max_depth=10, random_forest__n_estimators=100, sampling=RandomUnderSampler(), variance_threshold__threshold=0.006;, score=0.843 total time=   1.2s\n",
      "[CV 5/5] END random_forest__max_depth=10, random_forest__n_estimators=100, sampling=RandomUnderSampler(), variance_threshold__threshold=0.006;, score=0.832 total time=   1.3s\n",
      "[CV 1/5] END random_forest__max_depth=10, random_forest__n_estimators=150, sampling=None, variance_threshold__threshold=0.0006;, score=0.831 total time=   2.9s\n",
      "[CV 2/5] END random_forest__max_depth=10, random_forest__n_estimators=150, sampling=None, variance_threshold__threshold=0.0006;, score=0.832 total time=   2.9s\n",
      "[CV 3/5] END random_forest__max_depth=10, random_forest__n_estimators=150, sampling=None, variance_threshold__threshold=0.0006;, score=0.837 total time=   2.9s\n",
      "[CV 4/5] END random_forest__max_depth=10, random_forest__n_estimators=150, sampling=None, variance_threshold__threshold=0.0006;, score=0.837 total time=   2.9s\n",
      "[CV 5/5] END random_forest__max_depth=10, random_forest__n_estimators=150, sampling=None, variance_threshold__threshold=0.0006;, score=0.830 total time=   3.0s\n",
      "[CV 1/5] END random_forest__max_depth=10, random_forest__n_estimators=150, sampling=None, variance_threshold__threshold=0.006;, score=0.837 total time=   2.6s\n",
      "[CV 2/5] END random_forest__max_depth=10, random_forest__n_estimators=150, sampling=None, variance_threshold__threshold=0.006;, score=0.836 total time=   2.6s\n",
      "[CV 3/5] END random_forest__max_depth=10, random_forest__n_estimators=150, sampling=None, variance_threshold__threshold=0.006;, score=0.839 total time=   2.6s\n",
      "[CV 4/5] END random_forest__max_depth=10, random_forest__n_estimators=150, sampling=None, variance_threshold__threshold=0.006;, score=0.840 total time=   2.6s\n",
      "[CV 5/5] END random_forest__max_depth=10, random_forest__n_estimators=150, sampling=None, variance_threshold__threshold=0.006;, score=0.835 total time=   2.6s\n",
      "[CV 1/5] END random_forest__max_depth=10, random_forest__n_estimators=150, sampling=RandomUnderSampler(), variance_threshold__threshold=0.0006;, score=0.828 total time=   2.0s\n",
      "[CV 2/5] END random_forest__max_depth=10, random_forest__n_estimators=150, sampling=RandomUnderSampler(), variance_threshold__threshold=0.0006;, score=0.829 total time=   1.9s\n",
      "[CV 3/5] END random_forest__max_depth=10, random_forest__n_estimators=150, sampling=RandomUnderSampler(), variance_threshold__threshold=0.0006;, score=0.839 total time=   1.9s\n",
      "[CV 4/5] END random_forest__max_depth=10, random_forest__n_estimators=150, sampling=RandomUnderSampler(), variance_threshold__threshold=0.0006;, score=0.844 total time=   1.9s\n",
      "[CV 5/5] END random_forest__max_depth=10, random_forest__n_estimators=150, sampling=RandomUnderSampler(), variance_threshold__threshold=0.0006;, score=0.834 total time=   2.0s\n",
      "[CV 1/5] END random_forest__max_depth=10, random_forest__n_estimators=150, sampling=RandomUnderSampler(), variance_threshold__threshold=0.006;, score=0.830 total time=   1.7s\n",
      "[CV 2/5] END random_forest__max_depth=10, random_forest__n_estimators=150, sampling=RandomUnderSampler(), variance_threshold__threshold=0.006;, score=0.829 total time=   1.7s\n",
      "[CV 3/5] END random_forest__max_depth=10, random_forest__n_estimators=150, sampling=RandomUnderSampler(), variance_threshold__threshold=0.006;, score=0.840 total time=   1.7s\n",
      "[CV 4/5] END random_forest__max_depth=10, random_forest__n_estimators=150, sampling=RandomUnderSampler(), variance_threshold__threshold=0.006;, score=0.844 total time=   1.8s\n",
      "[CV 5/5] END random_forest__max_depth=10, random_forest__n_estimators=150, sampling=RandomUnderSampler(), variance_threshold__threshold=0.006;, score=0.833 total time=   1.7s\n",
      "[CV 1/5] END random_forest__max_depth=10, random_forest__n_estimators=200, sampling=None, variance_threshold__threshold=0.0006;, score=0.833 total time=   3.8s\n",
      "[CV 2/5] END random_forest__max_depth=10, random_forest__n_estimators=200, sampling=None, variance_threshold__threshold=0.0006;, score=0.831 total time=   3.8s\n",
      "[CV 3/5] END random_forest__max_depth=10, random_forest__n_estimators=200, sampling=None, variance_threshold__threshold=0.0006;, score=0.837 total time=   3.8s\n",
      "[CV 4/5] END random_forest__max_depth=10, random_forest__n_estimators=200, sampling=None, variance_threshold__threshold=0.0006;, score=0.837 total time=   3.8s\n",
      "[CV 5/5] END random_forest__max_depth=10, random_forest__n_estimators=200, sampling=None, variance_threshold__threshold=0.0006;, score=0.833 total time=   3.8s\n",
      "[CV 1/5] END random_forest__max_depth=10, random_forest__n_estimators=200, sampling=None, variance_threshold__threshold=0.006;, score=0.834 total time=   3.3s\n",
      "[CV 2/5] END random_forest__max_depth=10, random_forest__n_estimators=200, sampling=None, variance_threshold__threshold=0.006;, score=0.835 total time=   3.4s\n",
      "[CV 3/5] END random_forest__max_depth=10, random_forest__n_estimators=200, sampling=None, variance_threshold__threshold=0.006;, score=0.840 total time=   3.3s\n",
      "[CV 4/5] END random_forest__max_depth=10, random_forest__n_estimators=200, sampling=None, variance_threshold__threshold=0.006;, score=0.838 total time=   3.4s\n",
      "[CV 5/5] END random_forest__max_depth=10, random_forest__n_estimators=200, sampling=None, variance_threshold__threshold=0.006;, score=0.835 total time=   3.3s\n",
      "[CV 1/5] END random_forest__max_depth=10, random_forest__n_estimators=200, sampling=RandomUnderSampler(), variance_threshold__threshold=0.0006;, score=0.830 total time=   2.5s\n",
      "[CV 2/5] END random_forest__max_depth=10, random_forest__n_estimators=200, sampling=RandomUnderSampler(), variance_threshold__threshold=0.0006;, score=0.830 total time=   2.5s\n",
      "[CV 3/5] END random_forest__max_depth=10, random_forest__n_estimators=200, sampling=RandomUnderSampler(), variance_threshold__threshold=0.0006;, score=0.838 total time=   2.5s\n",
      "[CV 4/5] END random_forest__max_depth=10, random_forest__n_estimators=200, sampling=RandomUnderSampler(), variance_threshold__threshold=0.0006;, score=0.845 total time=   2.6s\n",
      "[CV 5/5] END random_forest__max_depth=10, random_forest__n_estimators=200, sampling=RandomUnderSampler(), variance_threshold__threshold=0.0006;, score=0.834 total time=   2.6s\n",
      "[CV 1/5] END random_forest__max_depth=10, random_forest__n_estimators=200, sampling=RandomUnderSampler(), variance_threshold__threshold=0.006;, score=0.830 total time=   2.2s\n",
      "[CV 2/5] END random_forest__max_depth=10, random_forest__n_estimators=200, sampling=RandomUnderSampler(), variance_threshold__threshold=0.006;, score=0.826 total time=   2.2s\n",
      "[CV 3/5] END random_forest__max_depth=10, random_forest__n_estimators=200, sampling=RandomUnderSampler(), variance_threshold__threshold=0.006;, score=0.836 total time=   2.2s\n",
      "[CV 4/5] END random_forest__max_depth=10, random_forest__n_estimators=200, sampling=RandomUnderSampler(), variance_threshold__threshold=0.006;, score=0.845 total time=   2.2s\n",
      "[CV 5/5] END random_forest__max_depth=10, random_forest__n_estimators=200, sampling=RandomUnderSampler(), variance_threshold__threshold=0.006;, score=0.836 total time=   2.2s\n",
      "[CV 1/5] END random_forest__max_depth=10, random_forest__n_estimators=250, sampling=None, variance_threshold__threshold=0.0006;, score=0.832 total time=   4.7s\n",
      "[CV 2/5] END random_forest__max_depth=10, random_forest__n_estimators=250, sampling=None, variance_threshold__threshold=0.0006;, score=0.831 total time=   4.7s\n",
      "[CV 3/5] END random_forest__max_depth=10, random_forest__n_estimators=250, sampling=None, variance_threshold__threshold=0.0006;, score=0.837 total time=   4.7s\n",
      "[CV 4/5] END random_forest__max_depth=10, random_forest__n_estimators=250, sampling=None, variance_threshold__threshold=0.0006;, score=0.838 total time=   4.7s\n",
      "[CV 5/5] END random_forest__max_depth=10, random_forest__n_estimators=250, sampling=None, variance_threshold__threshold=0.0006;, score=0.831 total time=   4.6s\n",
      "[CV 1/5] END random_forest__max_depth=10, random_forest__n_estimators=250, sampling=None, variance_threshold__threshold=0.006;, score=0.836 total time=   4.2s\n",
      "[CV 2/5] END random_forest__max_depth=10, random_forest__n_estimators=250, sampling=None, variance_threshold__threshold=0.006;, score=0.836 total time=   4.2s\n",
      "[CV 3/5] END random_forest__max_depth=10, random_forest__n_estimators=250, sampling=None, variance_threshold__threshold=0.006;, score=0.841 total time=   4.2s\n",
      "[CV 4/5] END random_forest__max_depth=10, random_forest__n_estimators=250, sampling=None, variance_threshold__threshold=0.006;, score=0.840 total time=   4.1s\n",
      "[CV 5/5] END random_forest__max_depth=10, random_forest__n_estimators=250, sampling=None, variance_threshold__threshold=0.006;, score=0.834 total time=   4.2s\n",
      "[CV 1/5] END random_forest__max_depth=10, random_forest__n_estimators=250, sampling=RandomUnderSampler(), variance_threshold__threshold=0.0006;, score=0.832 total time=   3.1s\n",
      "[CV 2/5] END random_forest__max_depth=10, random_forest__n_estimators=250, sampling=RandomUnderSampler(), variance_threshold__threshold=0.0006;, score=0.832 total time=   3.1s\n",
      "[CV 3/5] END random_forest__max_depth=10, random_forest__n_estimators=250, sampling=RandomUnderSampler(), variance_threshold__threshold=0.0006;, score=0.840 total time=   3.1s\n",
      "[CV 4/5] END random_forest__max_depth=10, random_forest__n_estimators=250, sampling=RandomUnderSampler(), variance_threshold__threshold=0.0006;, score=0.847 total time=   3.1s\n",
      "[CV 5/5] END random_forest__max_depth=10, random_forest__n_estimators=250, sampling=RandomUnderSampler(), variance_threshold__threshold=0.0006;, score=0.836 total time=   3.1s\n",
      "[CV 1/5] END random_forest__max_depth=10, random_forest__n_estimators=250, sampling=RandomUnderSampler(), variance_threshold__threshold=0.006;, score=0.829 total time=   2.7s\n",
      "[CV 2/5] END random_forest__max_depth=10, random_forest__n_estimators=250, sampling=RandomUnderSampler(), variance_threshold__threshold=0.006;, score=0.828 total time=   2.6s\n",
      "[CV 3/5] END random_forest__max_depth=10, random_forest__n_estimators=250, sampling=RandomUnderSampler(), variance_threshold__threshold=0.006;, score=0.837 total time=   2.8s\n",
      "[CV 4/5] END random_forest__max_depth=10, random_forest__n_estimators=250, sampling=RandomUnderSampler(), variance_threshold__threshold=0.006;, score=0.845 total time=   2.6s\n",
      "[CV 5/5] END random_forest__max_depth=10, random_forest__n_estimators=250, sampling=RandomUnderSampler(), variance_threshold__threshold=0.006;, score=0.835 total time=   2.6s\n",
      "[CV 1/5] END random_forest__max_depth=11, random_forest__n_estimators=100, sampling=None, variance_threshold__threshold=0.0006;, score=0.835 total time=   2.2s\n",
      "[CV 2/5] END random_forest__max_depth=11, random_forest__n_estimators=100, sampling=None, variance_threshold__threshold=0.0006;, score=0.834 total time=   2.2s\n",
      "[CV 3/5] END random_forest__max_depth=11, random_forest__n_estimators=100, sampling=None, variance_threshold__threshold=0.0006;, score=0.838 total time=   2.2s\n",
      "[CV 4/5] END random_forest__max_depth=11, random_forest__n_estimators=100, sampling=None, variance_threshold__threshold=0.0006;, score=0.839 total time=   2.1s\n",
      "[CV 5/5] END random_forest__max_depth=11, random_forest__n_estimators=100, sampling=None, variance_threshold__threshold=0.0006;, score=0.834 total time=   2.2s\n",
      "[CV 1/5] END random_forest__max_depth=11, random_forest__n_estimators=100, sampling=None, variance_threshold__threshold=0.006;, score=0.836 total time=   1.9s\n",
      "[CV 2/5] END random_forest__max_depth=11, random_forest__n_estimators=100, sampling=None, variance_threshold__threshold=0.006;, score=0.839 total time=   1.9s\n",
      "[CV 3/5] END random_forest__max_depth=11, random_forest__n_estimators=100, sampling=None, variance_threshold__threshold=0.006;, score=0.843 total time=   1.9s\n",
      "[CV 4/5] END random_forest__max_depth=11, random_forest__n_estimators=100, sampling=None, variance_threshold__threshold=0.006;, score=0.842 total time=   1.9s\n",
      "[CV 5/5] END random_forest__max_depth=11, random_forest__n_estimators=100, sampling=None, variance_threshold__threshold=0.006;, score=0.836 total time=   1.9s\n",
      "[CV 1/5] END random_forest__max_depth=11, random_forest__n_estimators=100, sampling=RandomUnderSampler(), variance_threshold__threshold=0.0006;, score=0.833 total time=   1.5s\n",
      "[CV 2/5] END random_forest__max_depth=11, random_forest__n_estimators=100, sampling=RandomUnderSampler(), variance_threshold__threshold=0.0006;, score=0.829 total time=   1.5s\n",
      "[CV 3/5] END random_forest__max_depth=11, random_forest__n_estimators=100, sampling=RandomUnderSampler(), variance_threshold__threshold=0.0006;, score=0.838 total time=   1.6s\n",
      "[CV 4/5] END random_forest__max_depth=11, random_forest__n_estimators=100, sampling=RandomUnderSampler(), variance_threshold__threshold=0.0006;, score=0.843 total time=   1.5s\n",
      "[CV 5/5] END random_forest__max_depth=11, random_forest__n_estimators=100, sampling=RandomUnderSampler(), variance_threshold__threshold=0.0006;, score=0.836 total time=   1.5s\n",
      "[CV 1/5] END random_forest__max_depth=11, random_forest__n_estimators=100, sampling=RandomUnderSampler(), variance_threshold__threshold=0.006;, score=0.827 total time=   1.3s\n",
      "[CV 2/5] END random_forest__max_depth=11, random_forest__n_estimators=100, sampling=RandomUnderSampler(), variance_threshold__threshold=0.006;, score=0.830 total time=   1.3s\n",
      "[CV 3/5] END random_forest__max_depth=11, random_forest__n_estimators=100, sampling=RandomUnderSampler(), variance_threshold__threshold=0.006;, score=0.834 total time=   1.3s\n",
      "[CV 4/5] END random_forest__max_depth=11, random_forest__n_estimators=100, sampling=RandomUnderSampler(), variance_threshold__threshold=0.006;, score=0.841 total time=   1.3s\n",
      "[CV 5/5] END random_forest__max_depth=11, random_forest__n_estimators=100, sampling=RandomUnderSampler(), variance_threshold__threshold=0.006;, score=0.833 total time=   1.3s\n",
      "[CV 1/5] END random_forest__max_depth=11, random_forest__n_estimators=150, sampling=None, variance_threshold__threshold=0.0006;, score=0.834 total time=   3.2s\n",
      "[CV 2/5] END random_forest__max_depth=11, random_forest__n_estimators=150, sampling=None, variance_threshold__threshold=0.0006;, score=0.834 total time=   3.2s\n",
      "[CV 3/5] END random_forest__max_depth=11, random_forest__n_estimators=150, sampling=None, variance_threshold__threshold=0.0006;, score=0.838 total time=   3.2s\n",
      "[CV 4/5] END random_forest__max_depth=11, random_forest__n_estimators=150, sampling=None, variance_threshold__threshold=0.0006;, score=0.838 total time=   3.2s\n",
      "[CV 5/5] END random_forest__max_depth=11, random_forest__n_estimators=150, sampling=None, variance_threshold__threshold=0.0006;, score=0.834 total time=   3.2s\n",
      "[CV 1/5] END random_forest__max_depth=11, random_forest__n_estimators=150, sampling=None, variance_threshold__threshold=0.006;, score=0.839 total time=   2.8s\n",
      "[CV 2/5] END random_forest__max_depth=11, random_forest__n_estimators=150, sampling=None, variance_threshold__threshold=0.006;, score=0.839 total time=   2.8s\n",
      "[CV 3/5] END random_forest__max_depth=11, random_forest__n_estimators=150, sampling=None, variance_threshold__threshold=0.006;, score=0.842 total time=   2.9s\n",
      "[CV 4/5] END random_forest__max_depth=11, random_forest__n_estimators=150, sampling=None, variance_threshold__threshold=0.006;, score=0.842 total time=   2.8s\n",
      "[CV 5/5] END random_forest__max_depth=11, random_forest__n_estimators=150, sampling=None, variance_threshold__threshold=0.006;, score=0.835 total time=   2.8s\n",
      "[CV 1/5] END random_forest__max_depth=11, random_forest__n_estimators=150, sampling=RandomUnderSampler(), variance_threshold__threshold=0.0006;, score=0.827 total time=   2.1s\n",
      "[CV 2/5] END random_forest__max_depth=11, random_forest__n_estimators=150, sampling=RandomUnderSampler(), variance_threshold__threshold=0.0006;, score=0.828 total time=   2.2s\n",
      "[CV 3/5] END random_forest__max_depth=11, random_forest__n_estimators=150, sampling=RandomUnderSampler(), variance_threshold__threshold=0.0006;, score=0.839 total time=   2.2s\n",
      "[CV 4/5] END random_forest__max_depth=11, random_forest__n_estimators=150, sampling=RandomUnderSampler(), variance_threshold__threshold=0.0006;, score=0.843 total time=   2.2s\n",
      "[CV 5/5] END random_forest__max_depth=11, random_forest__n_estimators=150, sampling=RandomUnderSampler(), variance_threshold__threshold=0.0006;, score=0.832 total time=   2.1s\n",
      "[CV 1/5] END random_forest__max_depth=11, random_forest__n_estimators=150, sampling=RandomUnderSampler(), variance_threshold__threshold=0.006;, score=0.832 total time=   1.8s\n",
      "[CV 2/5] END random_forest__max_depth=11, random_forest__n_estimators=150, sampling=RandomUnderSampler(), variance_threshold__threshold=0.006;, score=0.831 total time=   1.8s\n",
      "[CV 3/5] END random_forest__max_depth=11, random_forest__n_estimators=150, sampling=RandomUnderSampler(), variance_threshold__threshold=0.006;, score=0.837 total time=   1.8s\n",
      "[CV 4/5] END random_forest__max_depth=11, random_forest__n_estimators=150, sampling=RandomUnderSampler(), variance_threshold__threshold=0.006;, score=0.845 total time=   1.8s\n",
      "[CV 5/5] END random_forest__max_depth=11, random_forest__n_estimators=150, sampling=RandomUnderSampler(), variance_threshold__threshold=0.006;, score=0.836 total time=   1.8s\n",
      "[CV 1/5] END random_forest__max_depth=11, random_forest__n_estimators=200, sampling=None, variance_threshold__threshold=0.0006;, score=0.834 total time=   4.1s\n",
      "[CV 2/5] END random_forest__max_depth=11, random_forest__n_estimators=200, sampling=None, variance_threshold__threshold=0.0006;, score=0.835 total time=   4.2s\n",
      "[CV 3/5] END random_forest__max_depth=11, random_forest__n_estimators=200, sampling=None, variance_threshold__threshold=0.0006;, score=0.840 total time=   4.2s\n",
      "[CV 4/5] END random_forest__max_depth=11, random_forest__n_estimators=200, sampling=None, variance_threshold__threshold=0.0006;, score=0.838 total time=   4.2s\n",
      "[CV 5/5] END random_forest__max_depth=11, random_forest__n_estimators=200, sampling=None, variance_threshold__threshold=0.0006;, score=0.833 total time=   4.2s\n",
      "[CV 1/5] END random_forest__max_depth=11, random_forest__n_estimators=200, sampling=None, variance_threshold__threshold=0.006;, score=0.838 total time=   3.7s\n",
      "[CV 2/5] END random_forest__max_depth=11, random_forest__n_estimators=200, sampling=None, variance_threshold__threshold=0.006;, score=0.838 total time=   3.7s\n",
      "[CV 3/5] END random_forest__max_depth=11, random_forest__n_estimators=200, sampling=None, variance_threshold__threshold=0.006;, score=0.843 total time=   3.7s\n",
      "[CV 4/5] END random_forest__max_depth=11, random_forest__n_estimators=200, sampling=None, variance_threshold__threshold=0.006;, score=0.842 total time=   3.7s\n",
      "[CV 5/5] END random_forest__max_depth=11, random_forest__n_estimators=200, sampling=None, variance_threshold__threshold=0.006;, score=0.837 total time=   3.8s\n",
      "[CV 1/5] END random_forest__max_depth=11, random_forest__n_estimators=200, sampling=RandomUnderSampler(), variance_threshold__threshold=0.0006;, score=0.827 total time=   2.8s\n",
      "[CV 2/5] END random_forest__max_depth=11, random_forest__n_estimators=200, sampling=RandomUnderSampler(), variance_threshold__threshold=0.0006;, score=0.828 total time=   2.8s\n",
      "[CV 3/5] END random_forest__max_depth=11, random_forest__n_estimators=200, sampling=RandomUnderSampler(), variance_threshold__threshold=0.0006;, score=0.842 total time=   2.8s\n",
      "[CV 4/5] END random_forest__max_depth=11, random_forest__n_estimators=200, sampling=RandomUnderSampler(), variance_threshold__threshold=0.0006;, score=0.847 total time=   2.8s\n",
      "[CV 5/5] END random_forest__max_depth=11, random_forest__n_estimators=200, sampling=RandomUnderSampler(), variance_threshold__threshold=0.0006;, score=0.837 total time=   2.8s\n",
      "[CV 1/5] END random_forest__max_depth=11, random_forest__n_estimators=200, sampling=RandomUnderSampler(), variance_threshold__threshold=0.006;, score=0.827 total time=   2.3s\n",
      "[CV 2/5] END random_forest__max_depth=11, random_forest__n_estimators=200, sampling=RandomUnderSampler(), variance_threshold__threshold=0.006;, score=0.827 total time=   2.4s\n",
      "[CV 3/5] END random_forest__max_depth=11, random_forest__n_estimators=200, sampling=RandomUnderSampler(), variance_threshold__threshold=0.006;, score=0.835 total time=   2.3s\n",
      "[CV 4/5] END random_forest__max_depth=11, random_forest__n_estimators=200, sampling=RandomUnderSampler(), variance_threshold__threshold=0.006;, score=0.841 total time=   2.3s\n",
      "[CV 5/5] END random_forest__max_depth=11, random_forest__n_estimators=200, sampling=RandomUnderSampler(), variance_threshold__threshold=0.006;, score=0.832 total time=   2.3s\n",
      "[CV 1/5] END random_forest__max_depth=11, random_forest__n_estimators=250, sampling=None, variance_threshold__threshold=0.0006;, score=0.835 total time=   5.2s\n",
      "[CV 2/5] END random_forest__max_depth=11, random_forest__n_estimators=250, sampling=None, variance_threshold__threshold=0.0006;, score=0.834 total time=   5.1s\n",
      "[CV 3/5] END random_forest__max_depth=11, random_forest__n_estimators=250, sampling=None, variance_threshold__threshold=0.0006;, score=0.839 total time=   5.1s\n",
      "[CV 4/5] END random_forest__max_depth=11, random_forest__n_estimators=250, sampling=None, variance_threshold__threshold=0.0006;, score=0.839 total time=   5.2s\n",
      "[CV 5/5] END random_forest__max_depth=11, random_forest__n_estimators=250, sampling=None, variance_threshold__threshold=0.0006;, score=0.835 total time=   5.2s\n",
      "[CV 1/5] END random_forest__max_depth=11, random_forest__n_estimators=250, sampling=None, variance_threshold__threshold=0.006;, score=0.841 total time=   4.5s\n",
      "[CV 2/5] END random_forest__max_depth=11, random_forest__n_estimators=250, sampling=None, variance_threshold__threshold=0.006;, score=0.839 total time=   4.5s\n",
      "[CV 3/5] END random_forest__max_depth=11, random_forest__n_estimators=250, sampling=None, variance_threshold__threshold=0.006;, score=0.843 total time=   4.6s\n",
      "[CV 4/5] END random_forest__max_depth=11, random_forest__n_estimators=250, sampling=None, variance_threshold__threshold=0.006;, score=0.842 total time=   4.5s\n",
      "[CV 5/5] END random_forest__max_depth=11, random_forest__n_estimators=250, sampling=None, variance_threshold__threshold=0.006;, score=0.837 total time=   4.5s\n",
      "[CV 1/5] END random_forest__max_depth=11, random_forest__n_estimators=250, sampling=RandomUnderSampler(), variance_threshold__threshold=0.0006;, score=0.828 total time=   3.4s\n",
      "[CV 2/5] END random_forest__max_depth=11, random_forest__n_estimators=250, sampling=RandomUnderSampler(), variance_threshold__threshold=0.0006;, score=0.826 total time=   3.4s\n",
      "[CV 3/5] END random_forest__max_depth=11, random_forest__n_estimators=250, sampling=RandomUnderSampler(), variance_threshold__threshold=0.0006;, score=0.840 total time=   3.4s\n",
      "[CV 4/5] END random_forest__max_depth=11, random_forest__n_estimators=250, sampling=RandomUnderSampler(), variance_threshold__threshold=0.0006;, score=0.847 total time=   3.4s\n",
      "[CV 5/5] END random_forest__max_depth=11, random_forest__n_estimators=250, sampling=RandomUnderSampler(), variance_threshold__threshold=0.0006;, score=0.836 total time=   3.3s\n",
      "[CV 1/5] END random_forest__max_depth=11, random_forest__n_estimators=250, sampling=RandomUnderSampler(), variance_threshold__threshold=0.006;, score=0.827 total time=   3.0s\n",
      "[CV 2/5] END random_forest__max_depth=11, random_forest__n_estimators=250, sampling=RandomUnderSampler(), variance_threshold__threshold=0.006;, score=0.828 total time=   2.9s\n",
      "[CV 3/5] END random_forest__max_depth=11, random_forest__n_estimators=250, sampling=RandomUnderSampler(), variance_threshold__threshold=0.006;, score=0.839 total time=   2.9s\n",
      "[CV 4/5] END random_forest__max_depth=11, random_forest__n_estimators=250, sampling=RandomUnderSampler(), variance_threshold__threshold=0.006;, score=0.844 total time=   2.8s\n",
      "[CV 5/5] END random_forest__max_depth=11, random_forest__n_estimators=250, sampling=RandomUnderSampler(), variance_threshold__threshold=0.006;, score=0.833 total time=   2.9s\n",
      "Best parameters:  {'random_forest__max_depth': 11, 'random_forest__n_estimators': 250, 'sampling': None, 'variance_threshold__threshold': 0.006}\n",
      "Best accuracy score:  0.8402126496507029\n",
      "Accuracy on test set: 0.839\n"
     ]
    }
   ],
   "source": [
    "# Define the pipeline steps\n",
    "steps = [\n",
    "    ('sampling', RandomUnderSampler()),  # optional step, to downsample the majority class\n",
    "    ('variance_threshold', VarianceThreshold()),  # variance thresholding\n",
    "    ('random_forest', RandomForestClassifier())  # random forest model\n",
    "]\n",
    "\n",
    "# Define the parameter grid for the pipeline\n",
    "param_grid = {\n",
    "    'sampling': [None, RandomUnderSampler()],  # with and without downsampling\n",
    "    'variance_threshold__threshold': [0.0004, 0.004],  # two different variance thresholds\n",
    "    'random_forest__max_depth': [8, 9, 10, 11],  # four different max_depth values for random forest\n",
    "    'random_forest__n_estimators': [100, 150, 200, 250],  # four different n_estimators values for random forest\n",
    "}\n",
    "\n",
    "# Define the pipeline object\n",
    "pipeline = Pipeline(steps=steps)\n",
    "\n",
    "# Use GridSearchCV to find the best hyperparameters\n",
    "grid_search = GridSearchCV(\n",
    "    pipeline, param_grid=param_grid, cv=5, scoring='accuracy', verbose=7\n",
    ")\n",
    "\n",
    "# Fit the pipeline to the training data\n",
    "grid_search.fit(X_train, y_train)\n",
    "\n",
    "# Print the best parameters and score\n",
    "print(\"Best parameters: \", grid_search.best_params_)\n",
    "print(\"Best accuracy score: \", grid_search.best_score_)\n",
    "\n",
    "# Evaluate the best pipeline on the test set\n",
    "y_pred = grid_search.predict(X_test)\n",
    "accuracy = accuracy_score(y_test, y_pred)\n",
    "print(f\"Accuracy on test set: {accuracy:.3f}\")\n"
   ]
  },
  {
   "cell_type": "code",
   "execution_count": null,
   "id": "a7b836c1-501f-42c3-ba0d-453740ee0752",
   "metadata": {},
   "outputs": [
    {
     "name": "stdout",
     "output_type": "stream",
     "text": [
      "Best pipeline parameters:\n",
      "\trandom_forest__max_depth: 11\n",
      "\trandom_forest__n_estimators: 250\n",
      "\tsampling: None\n",
      "\tvariance_threshold__threshold: 0.006\n"
     ]
    }
   ],
   "source": [
    "# Get the best pipeline and its parameters\n",
    "best_pipeline = grid_search.best_estimator_\n",
    "best_params = best_pipeline.get_params()\n",
    "\n",
    "# Print the best parameters\n",
    "print(\"Best pipeline parameters:\")\n",
    "for param_name in sorted(param_grid.keys()):\n",
    "    print(f\"\\t{param_name}: {best_params[param_name]}\")"
   ]
  },
  {
   "cell_type": "markdown",
   "id": "ef2f0cb4-4aa3-4a43-b5f4-8c4fb94758d6",
   "metadata": {},
   "source": [
    "### XGBoost Pipe"
   ]
  },
  {
   "cell_type": "code",
   "execution_count": 77,
   "id": "17d6681a-811d-4ff3-8664-624f977efc61",
   "metadata": {},
   "outputs": [
    {
     "name": "stdout",
     "output_type": "stream",
     "text": [
      "Fitting 5 folds for each of 54 candidates, totalling 270 fits\n",
      "[CV 1/5] END classifier__learning_rate=0.1, classifier__max_depth=9, classifier__n_estimators=150, undersample__sampling_strategy=auto, variance_threshold__threshold=0.006;, score=0.827 total time= 1.1min\n",
      "[CV 4/5] END classifier__learning_rate=0.1, classifier__max_depth=9, classifier__n_estimators=150, undersample__sampling_strategy=auto, variance_threshold__threshold=0.006;, score=0.840 total time= 1.5min\n",
      "[CV 2/5] END classifier__learning_rate=0.1, classifier__max_depth=9, classifier__n_estimators=250, undersample__sampling_strategy=auto, variance_threshold__threshold=0.006;, score=0.817 total time= 2.4min\n",
      "[CV 5/5] END classifier__learning_rate=0.1, classifier__max_depth=9, classifier__n_estimators=250, undersample__sampling_strategy=auto, variance_threshold__threshold=0.006;, score=0.829 total time= 2.4min\n"
     ]
    },
    {
     "name": "stderr",
     "output_type": "stream",
     "text": [
      "/Users/ccalderon/opt/anaconda3/lib/python3.9/site-packages/joblib/externals/loky/process_executor.py:702: UserWarning: A worker stopped while some jobs were given to the executor. This can be caused by a too short worker timeout or by a memory leak.\n",
      "  warnings.warn(\n"
     ]
    },
    {
     "name": "stdout",
     "output_type": "stream",
     "text": [
      "[CV 3/5] END classifier__learning_rate=0.1, classifier__max_depth=9, classifier__n_estimators=350, undersample__sampling_strategy=auto, variance_threshold__threshold=0.006;, score=0.840 total time= 3.3min\n",
      "[CV 1/5] END classifier__learning_rate=0.1, classifier__max_depth=11, classifier__n_estimators=150, undersample__sampling_strategy=auto, variance_threshold__threshold=0.0006;, score=0.827 total time= 3.1min\n",
      "[CV 4/5] END classifier__learning_rate=0.1, classifier__max_depth=11, classifier__n_estimators=150, undersample__sampling_strategy=auto, variance_threshold__threshold=0.006;, score=0.836 total time= 1.9min\n",
      "[CV 3/5] END classifier__learning_rate=0.1, classifier__max_depth=11, classifier__n_estimators=250, undersample__sampling_strategy=auto, variance_threshold__threshold=0.006;, score=0.832 total time= 3.0min\n",
      "[CV 5/5] END classifier__learning_rate=0.1, classifier__max_depth=11, classifier__n_estimators=250, undersample__sampling_strategy=auto, variance_threshold__threshold=0.006;, score=0.831 total time= 3.0min\n",
      "[CV 3/5] END classifier__learning_rate=0.1, classifier__max_depth=11, classifier__n_estimators=350, undersample__sampling_strategy=auto, variance_threshold__threshold=0.006;, score=0.832 total time= 4.2min\n",
      "[CV 1/5] END classifier__learning_rate=0.1, classifier__max_depth=9, classifier__n_estimators=150, undersample__sampling_strategy=auto, variance_threshold__threshold=0.0006;, score=0.830 total time= 2.3min\n",
      "[CV 3/5] END classifier__learning_rate=0.1, classifier__max_depth=9, classifier__n_estimators=250, undersample__sampling_strategy=auto, variance_threshold__threshold=0.0006;, score=0.839 total time= 4.1min\n",
      "[CV 3/5] END classifier__learning_rate=0.1, classifier__max_depth=9, classifier__n_estimators=350, undersample__sampling_strategy=auto, variance_threshold__threshold=0.0006;, score=0.837 total time= 5.7min\n",
      "[CV 4/5] END classifier__learning_rate=0.1, classifier__max_depth=11, classifier__n_estimators=150, undersample__sampling_strategy=auto, variance_threshold__threshold=0.0006;, score=0.839 total time= 3.2min\n",
      "[CV 5/5] END classifier__learning_rate=0.1, classifier__max_depth=11, classifier__n_estimators=250, undersample__sampling_strategy=auto, variance_threshold__threshold=0.0006;, score=0.838 total time= 5.3min\n",
      "[CV 5/5] END classifier__learning_rate=0.1, classifier__max_depth=11, classifier__n_estimators=350, undersample__sampling_strategy=auto, variance_threshold__threshold=0.0006;, score=0.834 total time= 7.2min\n",
      "[CV 1/5] END classifier__learning_rate=0.1, classifier__max_depth=16, classifier__n_estimators=150, undersample__sampling_strategy=auto, variance_threshold__threshold=0.006;, score=0.821 total time= 2.6min\n",
      "[CV 2/5] END classifier__learning_rate=0.1, classifier__max_depth=9, classifier__n_estimators=150, undersample__sampling_strategy=auto, variance_threshold__threshold=0.006;, score=0.824 total time= 1.1min\n",
      "[CV 5/5] END classifier__learning_rate=0.1, classifier__max_depth=9, classifier__n_estimators=150, undersample__sampling_strategy=auto, variance_threshold__threshold=0.006;, score=0.833 total time= 1.5min\n",
      "[CV 3/5] END classifier__learning_rate=0.1, classifier__max_depth=9, classifier__n_estimators=250, undersample__sampling_strategy=auto, variance_threshold__threshold=0.006;, score=0.838 total time= 2.4min\n",
      "[CV 1/5] END classifier__learning_rate=0.1, classifier__max_depth=9, classifier__n_estimators=350, undersample__sampling_strategy=auto, variance_threshold__threshold=0.0006;, score=0.829 total time= 5.8min\n",
      "[CV 2/5] END classifier__learning_rate=0.1, classifier__max_depth=11, classifier__n_estimators=150, undersample__sampling_strategy=auto, variance_threshold__threshold=0.0006;, score=0.825 total time= 3.1min\n",
      "[CV 5/5] END classifier__learning_rate=0.1, classifier__max_depth=11, classifier__n_estimators=150, undersample__sampling_strategy=auto, variance_threshold__threshold=0.006;, score=0.834 total time= 1.8min\n",
      "[CV 2/5] END classifier__learning_rate=0.1, classifier__max_depth=11, classifier__n_estimators=250, undersample__sampling_strategy=auto, variance_threshold__threshold=0.006;, score=0.823 total time= 3.0min\n",
      "[CV 1/5] END classifier__learning_rate=0.1, classifier__max_depth=11, classifier__n_estimators=350, undersample__sampling_strategy=auto, variance_threshold__threshold=0.0006;, score=0.824 total time= 7.3min\n",
      "[CV 1/5] END classifier__learning_rate=0.1, classifier__max_depth=16, classifier__n_estimators=150, undersample__sampling_strategy=auto, variance_threshold__threshold=0.0006;, score=0.826 total time= 4.5min\n",
      "[CV 5/5] END classifier__learning_rate=0.1, classifier__max_depth=16, classifier__n_estimators=150, undersample__sampling_strategy=auto, variance_threshold__threshold=0.006;, score=0.825 total time= 2.6min\n",
      "[CV 3/5] END classifier__learning_rate=0.1, classifier__max_depth=16, classifier__n_estimators=250, undersample__sampling_strategy=auto, variance_threshold__threshold=0.006;, score=0.831 total time= 4.3min\n",
      "[CV 3/5] END classifier__learning_rate=0.1, classifier__max_depth=9, classifier__n_estimators=150, undersample__sampling_strategy=auto, variance_threshold__threshold=0.0006;, score=0.842 total time= 2.3min\n",
      "[CV 2/5] END classifier__learning_rate=0.1, classifier__max_depth=9, classifier__n_estimators=250, undersample__sampling_strategy=auto, variance_threshold__threshold=0.0006;, score=0.829 total time= 4.1min\n",
      "[CV 4/5] END classifier__learning_rate=0.1, classifier__max_depth=9, classifier__n_estimators=350, undersample__sampling_strategy=auto, variance_threshold__threshold=0.0006;, score=0.836 total time= 5.7min\n",
      "[CV 5/5] END classifier__learning_rate=0.1, classifier__max_depth=11, classifier__n_estimators=150, undersample__sampling_strategy=auto, variance_threshold__threshold=0.0006;, score=0.831 total time= 3.1min\n",
      "[CV 4/5] END classifier__learning_rate=0.1, classifier__max_depth=11, classifier__n_estimators=250, undersample__sampling_strategy=auto, variance_threshold__threshold=0.0006;, score=0.839 total time= 5.3min\n",
      "[CV 1/5] END classifier__learning_rate=0.1, classifier__max_depth=11, classifier__n_estimators=350, undersample__sampling_strategy=auto, variance_threshold__threshold=0.006;, score=0.825 total time= 4.2min\n",
      "[CV 4/5] END classifier__learning_rate=0.1, classifier__max_depth=11, classifier__n_estimators=350, undersample__sampling_strategy=auto, variance_threshold__threshold=0.006;, score=0.833 total time= 4.1min\n",
      "[CV 2/5] END classifier__learning_rate=0.1, classifier__max_depth=16, classifier__n_estimators=150, undersample__sampling_strategy=auto, variance_threshold__threshold=0.006;, score=0.822 total time= 2.6min\n",
      "[CV 4/5] END classifier__learning_rate=0.1, classifier__max_depth=16, classifier__n_estimators=250, undersample__sampling_strategy=auto, variance_threshold__threshold=0.0006;, score=0.833 total time= 7.3min\n",
      "[CV 1/5] END classifier__learning_rate=0.1, classifier__max_depth=16, classifier__n_estimators=350, undersample__sampling_strategy=auto, variance_threshold__threshold=0.0006;, score=0.822 total time=10.0min\n",
      "[CV 2/5] END classifier__learning_rate=0.2, classifier__max_depth=9, classifier__n_estimators=150, undersample__sampling_strategy=auto, variance_threshold__threshold=0.0006;, score=0.823 total time= 2.4min\n",
      "[CV 3/5] END classifier__learning_rate=0.2, classifier__max_depth=9, classifier__n_estimators=150, undersample__sampling_strategy=auto, variance_threshold__threshold=0.006;, score=0.832 total time= 1.4min\n",
      "[CV 5/5] END classifier__learning_rate=0.2, classifier__max_depth=9, classifier__n_estimators=250, undersample__sampling_strategy=auto, variance_threshold__threshold=0.0006;, score=0.831 total time= 4.0min\n",
      "[CV 1/5] END classifier__learning_rate=0.2, classifier__max_depth=9, classifier__n_estimators=350, undersample__sampling_strategy=auto, variance_threshold__threshold=0.006;, score=0.822 total time= 3.2min\n",
      "[CV 2/5] END classifier__learning_rate=0.1, classifier__max_depth=9, classifier__n_estimators=150, undersample__sampling_strategy=auto, variance_threshold__threshold=0.0006;, score=0.829 total time= 2.3min\n",
      "[CV 5/5] END classifier__learning_rate=0.1, classifier__max_depth=9, classifier__n_estimators=250, undersample__sampling_strategy=auto, variance_threshold__threshold=0.0006;, score=0.836 total time= 4.1min\n",
      "[CV 5/5] END classifier__learning_rate=0.1, classifier__max_depth=9, classifier__n_estimators=350, undersample__sampling_strategy=auto, variance_threshold__threshold=0.0006;, score=0.838 total time= 5.8min\n",
      "[CV 1/5] END classifier__learning_rate=0.1, classifier__max_depth=11, classifier__n_estimators=150, undersample__sampling_strategy=auto, variance_threshold__threshold=0.006;, score=0.824 total time= 1.8min\n",
      "[CV 1/5] END classifier__learning_rate=0.1, classifier__max_depth=11, classifier__n_estimators=250, undersample__sampling_strategy=auto, variance_threshold__threshold=0.0006;, score=0.823 total time= 5.3min\n",
      "[CV 2/5] END classifier__learning_rate=0.1, classifier__max_depth=11, classifier__n_estimators=350, undersample__sampling_strategy=auto, variance_threshold__threshold=0.0006;, score=0.828 total time= 7.3min\n",
      "[CV 3/5] END classifier__learning_rate=0.1, classifier__max_depth=16, classifier__n_estimators=150, undersample__sampling_strategy=auto, variance_threshold__threshold=0.0006;, score=0.833 total time= 4.4min\n",
      "[CV 2/5] END classifier__learning_rate=0.1, classifier__max_depth=16, classifier__n_estimators=250, undersample__sampling_strategy=auto, variance_threshold__threshold=0.0006;, score=0.823 total time= 7.3min\n",
      "[CV 3/5] END classifier__learning_rate=0.1, classifier__max_depth=16, classifier__n_estimators=350, undersample__sampling_strategy=auto, variance_threshold__threshold=0.0006;, score=0.830 total time=10.0min\n",
      "[CV 4/5] END classifier__learning_rate=0.2, classifier__max_depth=9, classifier__n_estimators=150, undersample__sampling_strategy=auto, variance_threshold__threshold=0.0006;, score=0.838 total time= 2.4min\n",
      "[CV 1/5] END classifier__learning_rate=0.2, classifier__max_depth=9, classifier__n_estimators=250, undersample__sampling_strategy=auto, variance_threshold__threshold=0.0006;, score=0.816 total time= 4.0min\n",
      "[CV 1/5] END classifier__learning_rate=0.2, classifier__max_depth=9, classifier__n_estimators=350, undersample__sampling_strategy=auto, variance_threshold__threshold=0.0006;, score=0.823 total time= 5.6min\n",
      "[CV 3/5] END classifier__learning_rate=0.1, classifier__max_depth=9, classifier__n_estimators=150, undersample__sampling_strategy=auto, variance_threshold__threshold=0.006;, score=0.840 total time= 1.1min\n",
      "[CV 1/5] END classifier__learning_rate=0.1, classifier__max_depth=9, classifier__n_estimators=250, undersample__sampling_strategy=auto, variance_threshold__threshold=0.0006;, score=0.824 total time= 4.2min\n",
      "[CV 2/5] END classifier__learning_rate=0.1, classifier__max_depth=9, classifier__n_estimators=350, undersample__sampling_strategy=auto, variance_threshold__threshold=0.0006;, score=0.825 total time= 5.7min\n",
      "[CV 3/5] END classifier__learning_rate=0.1, classifier__max_depth=11, classifier__n_estimators=150, undersample__sampling_strategy=auto, variance_threshold__threshold=0.0006;, score=0.841 total time= 3.1min\n",
      "[CV 2/5] END classifier__learning_rate=0.1, classifier__max_depth=11, classifier__n_estimators=250, undersample__sampling_strategy=auto, variance_threshold__threshold=0.0006;, score=0.827 total time= 5.3min\n",
      "[CV 3/5] END classifier__learning_rate=0.1, classifier__max_depth=11, classifier__n_estimators=350, undersample__sampling_strategy=auto, variance_threshold__threshold=0.0006;, score=0.836 total time= 7.3min\n",
      "[CV 4/5] END classifier__learning_rate=0.1, classifier__max_depth=16, classifier__n_estimators=150, undersample__sampling_strategy=auto, variance_threshold__threshold=0.0006;, score=0.835 total time= 4.4min\n",
      "[CV 3/5] END classifier__learning_rate=0.1, classifier__max_depth=16, classifier__n_estimators=250, undersample__sampling_strategy=auto, variance_threshold__threshold=0.0006;, score=0.834 total time= 7.3min\n",
      "[CV 4/5] END classifier__learning_rate=0.1, classifier__max_depth=16, classifier__n_estimators=350, undersample__sampling_strategy=auto, variance_threshold__threshold=0.0006;, score=0.828 total time=10.0min\n",
      "[CV 5/5] END classifier__learning_rate=0.2, classifier__max_depth=9, classifier__n_estimators=150, undersample__sampling_strategy=auto, variance_threshold__threshold=0.0006;, score=0.832 total time= 2.4min\n",
      "[CV 3/5] END classifier__learning_rate=0.2, classifier__max_depth=9, classifier__n_estimators=250, undersample__sampling_strategy=auto, variance_threshold__threshold=0.0006;, score=0.835 total time= 4.0min\n",
      "[CV 3/5] END classifier__learning_rate=0.2, classifier__max_depth=9, classifier__n_estimators=350, undersample__sampling_strategy=auto, variance_threshold__threshold=0.0006;, score=0.829 total time= 5.6min\n",
      "[CV 4/5] END classifier__learning_rate=0.1, classifier__max_depth=9, classifier__n_estimators=150, undersample__sampling_strategy=auto, variance_threshold__threshold=0.0006;, score=0.844 total time= 2.3min\n",
      "[CV 1/5] END classifier__learning_rate=0.1, classifier__max_depth=9, classifier__n_estimators=250, undersample__sampling_strategy=auto, variance_threshold__threshold=0.006;, score=0.823 total time= 2.3min\n",
      "[CV 4/5] END classifier__learning_rate=0.1, classifier__max_depth=9, classifier__n_estimators=250, undersample__sampling_strategy=auto, variance_threshold__threshold=0.006;, score=0.835 total time= 2.4min\n",
      "[CV 2/5] END classifier__learning_rate=0.1, classifier__max_depth=9, classifier__n_estimators=350, undersample__sampling_strategy=auto, variance_threshold__threshold=0.006;, score=0.825 total time= 3.3min\n",
      "[CV 5/5] END classifier__learning_rate=0.1, classifier__max_depth=9, classifier__n_estimators=350, undersample__sampling_strategy=auto, variance_threshold__threshold=0.006;, score=0.832 total time= 3.4min\n",
      "[CV 3/5] END classifier__learning_rate=0.1, classifier__max_depth=11, classifier__n_estimators=150, undersample__sampling_strategy=auto, variance_threshold__threshold=0.006;, score=0.833 total time= 1.9min\n",
      "[CV 1/5] END classifier__learning_rate=0.1, classifier__max_depth=11, classifier__n_estimators=250, undersample__sampling_strategy=auto, variance_threshold__threshold=0.006;, score=0.822 total time= 3.0min\n",
      "[CV 4/5] END classifier__learning_rate=0.1, classifier__max_depth=11, classifier__n_estimators=250, undersample__sampling_strategy=auto, variance_threshold__threshold=0.006;, score=0.833 total time= 3.0min\n",
      "[CV 2/5] END classifier__learning_rate=0.1, classifier__max_depth=11, classifier__n_estimators=350, undersample__sampling_strategy=auto, variance_threshold__threshold=0.006;, score=0.825 total time= 4.2min\n",
      "[CV 5/5] END classifier__learning_rate=0.1, classifier__max_depth=11, classifier__n_estimators=350, undersample__sampling_strategy=auto, variance_threshold__threshold=0.006;, score=0.829 total time= 4.1min\n",
      "[CV 3/5] END classifier__learning_rate=0.1, classifier__max_depth=16, classifier__n_estimators=150, undersample__sampling_strategy=auto, variance_threshold__threshold=0.006;, score=0.834 total time= 2.6min\n",
      "[CV 1/5] END classifier__learning_rate=0.1, classifier__max_depth=16, classifier__n_estimators=250, undersample__sampling_strategy=auto, variance_threshold__threshold=0.006;, score=0.821 total time= 4.2min\n",
      "[CV 4/5] END classifier__learning_rate=0.1, classifier__max_depth=16, classifier__n_estimators=250, undersample__sampling_strategy=auto, variance_threshold__threshold=0.006;, score=0.827 total time= 4.2min\n",
      "[CV 2/5] END classifier__learning_rate=0.1, classifier__max_depth=16, classifier__n_estimators=350, undersample__sampling_strategy=auto, variance_threshold__threshold=0.006;, score=0.820 total time= 5.9min\n",
      "[CV 5/5] END classifier__learning_rate=0.1, classifier__max_depth=16, classifier__n_estimators=350, undersample__sampling_strategy=auto, variance_threshold__threshold=0.006;, score=0.824 total time= 5.9min\n",
      "[CV 3/5] END classifier__learning_rate=0.2, classifier__max_depth=9, classifier__n_estimators=250, undersample__sampling_strategy=auto, variance_threshold__threshold=0.006;, score=0.833 total time= 2.3min\n",
      "[CV 4/5] END classifier__learning_rate=0.2, classifier__max_depth=9, classifier__n_estimators=350, undersample__sampling_strategy=auto, variance_threshold__threshold=0.0006;, score=0.832 total time= 5.5min\n",
      "[CV 4/5] END classifier__learning_rate=0.1, classifier__max_depth=16, classifier__n_estimators=150, undersample__sampling_strategy=auto, variance_threshold__threshold=0.006;, score=0.831 total time= 2.6min\n",
      "[CV 2/5] END classifier__learning_rate=0.1, classifier__max_depth=16, classifier__n_estimators=250, undersample__sampling_strategy=auto, variance_threshold__threshold=0.006;, score=0.814 total time= 4.2min\n",
      "[CV 5/5] END classifier__learning_rate=0.1, classifier__max_depth=16, classifier__n_estimators=250, undersample__sampling_strategy=auto, variance_threshold__threshold=0.006;, score=0.828 total time= 4.2min\n",
      "[CV 3/5] END classifier__learning_rate=0.1, classifier__max_depth=16, classifier__n_estimators=350, undersample__sampling_strategy=auto, variance_threshold__threshold=0.006;, score=0.826 total time= 5.8min\n",
      "[CV 1/5] END classifier__learning_rate=0.2, classifier__max_depth=9, classifier__n_estimators=150, undersample__sampling_strategy=auto, variance_threshold__threshold=0.0006;, score=0.826 total time= 2.4min\n",
      "[CV 2/5] END classifier__learning_rate=0.2, classifier__max_depth=9, classifier__n_estimators=150, undersample__sampling_strategy=auto, variance_threshold__threshold=0.006;, score=0.827 total time= 1.4min\n",
      "[CV 4/5] END classifier__learning_rate=0.2, classifier__max_depth=9, classifier__n_estimators=250, undersample__sampling_strategy=auto, variance_threshold__threshold=0.0006;, score=0.831 total time= 4.0min\n",
      "[CV 5/5] END classifier__learning_rate=0.2, classifier__max_depth=9, classifier__n_estimators=350, undersample__sampling_strategy=auto, variance_threshold__threshold=0.0006;, score=0.825 total time= 5.6min\n",
      "[CV 1/5] END classifier__learning_rate=0.2, classifier__max_depth=11, classifier__n_estimators=150, undersample__sampling_strategy=auto, variance_threshold__threshold=0.006;, score=0.820 total time= 1.7min\n",
      "[CV 3/5] END classifier__learning_rate=0.2, classifier__max_depth=11, classifier__n_estimators=150, undersample__sampling_strategy=auto, variance_threshold__threshold=0.006;, score=0.827 total time= 1.7min\n",
      "[CV 2/5] END classifier__learning_rate=0.1, classifier__max_depth=16, classifier__n_estimators=150, undersample__sampling_strategy=auto, variance_threshold__threshold=0.0006;, score=0.825 total time= 4.5min\n",
      "[CV 1/5] END classifier__learning_rate=0.1, classifier__max_depth=16, classifier__n_estimators=250, undersample__sampling_strategy=auto, variance_threshold__threshold=0.0006;, score=0.826 total time= 7.4min\n",
      "[CV 2/5] END classifier__learning_rate=0.1, classifier__max_depth=16, classifier__n_estimators=350, undersample__sampling_strategy=auto, variance_threshold__threshold=0.0006;, score=0.822 total time=10.1min\n",
      "[CV 3/5] END classifier__learning_rate=0.2, classifier__max_depth=9, classifier__n_estimators=150, undersample__sampling_strategy=auto, variance_threshold__threshold=0.0006;, score=0.841 total time= 2.4min\n",
      "[CV 5/5] END classifier__learning_rate=0.2, classifier__max_depth=9, classifier__n_estimators=150, undersample__sampling_strategy=auto, variance_threshold__threshold=0.006;, score=0.825 total time= 1.4min\n",
      "[CV 2/5] END classifier__learning_rate=0.2, classifier__max_depth=9, classifier__n_estimators=250, undersample__sampling_strategy=auto, variance_threshold__threshold=0.006;, score=0.816 total time= 2.3min\n",
      "[CV 5/5] END classifier__learning_rate=0.2, classifier__max_depth=9, classifier__n_estimators=250, undersample__sampling_strategy=auto, variance_threshold__threshold=0.006;, score=0.824 total time= 2.3min\n",
      "[CV 3/5] END classifier__learning_rate=0.2, classifier__max_depth=9, classifier__n_estimators=350, undersample__sampling_strategy=auto, variance_threshold__threshold=0.006;, score=0.829 total time= 3.2min\n",
      "[CV 1/5] END classifier__learning_rate=0.2, classifier__max_depth=11, classifier__n_estimators=150, undersample__sampling_strategy=auto, variance_threshold__threshold=0.0006;, score=0.822 total time= 2.9min\n",
      "[CV 5/5] END classifier__learning_rate=0.2, classifier__max_depth=11, classifier__n_estimators=150, undersample__sampling_strategy=auto, variance_threshold__threshold=0.006;, score=0.828 total time= 1.7min\n",
      "[CV 3/5] END classifier__learning_rate=0.2, classifier__max_depth=11, classifier__n_estimators=250, undersample__sampling_strategy=auto, variance_threshold__threshold=0.006;, score=0.826 total time= 2.8min\n",
      "[CV 5/5] END classifier__learning_rate=0.1, classifier__max_depth=16, classifier__n_estimators=350, undersample__sampling_strategy=auto, variance_threshold__threshold=0.0006;, score=0.825 total time=10.0min\n",
      "[CV 1/5] END classifier__learning_rate=0.2, classifier__max_depth=9, classifier__n_estimators=150, undersample__sampling_strategy=auto, variance_threshold__threshold=0.006;, score=0.819 total time= 1.4min\n",
      "[CV 4/5] END classifier__learning_rate=0.2, classifier__max_depth=9, classifier__n_estimators=150, undersample__sampling_strategy=auto, variance_threshold__threshold=0.006;, score=0.837 total time= 1.4min\n",
      "[CV 1/5] END classifier__learning_rate=0.2, classifier__max_depth=9, classifier__n_estimators=250, undersample__sampling_strategy=auto, variance_threshold__threshold=0.006;, score=0.816 total time= 2.3min\n",
      "[CV 4/5] END classifier__learning_rate=0.2, classifier__max_depth=9, classifier__n_estimators=250, undersample__sampling_strategy=auto, variance_threshold__threshold=0.006;, score=0.830 total time= 2.3min\n",
      "[CV 2/5] END classifier__learning_rate=0.2, classifier__max_depth=9, classifier__n_estimators=350, undersample__sampling_strategy=auto, variance_threshold__threshold=0.006;, score=0.816 total time= 3.2min\n",
      "[CV 5/5] END classifier__learning_rate=0.2, classifier__max_depth=9, classifier__n_estimators=350, undersample__sampling_strategy=auto, variance_threshold__threshold=0.006;, score=0.824 total time= 3.2min\n",
      "[CV 4/5] END classifier__learning_rate=0.2, classifier__max_depth=11, classifier__n_estimators=150, undersample__sampling_strategy=auto, variance_threshold__threshold=0.006;, score=0.828 total time= 1.7min\n",
      "[CV 2/5] END classifier__learning_rate=0.2, classifier__max_depth=11, classifier__n_estimators=250, undersample__sampling_strategy=auto, variance_threshold__threshold=0.006;, score=0.816 total time= 2.8min\n",
      "[CV 5/5] END classifier__learning_rate=0.2, classifier__max_depth=11, classifier__n_estimators=250, undersample__sampling_strategy=auto, variance_threshold__threshold=0.006;, score=0.821 total time= 2.8min\n",
      "[CV 1/5] END classifier__learning_rate=0.2, classifier__max_depth=11, classifier__n_estimators=250, undersample__sampling_strategy=auto, variance_threshold__threshold=0.006;, score=0.821 total time= 2.8min\n",
      "[CV 4/5] END classifier__learning_rate=0.2, classifier__max_depth=11, classifier__n_estimators=250, undersample__sampling_strategy=auto, variance_threshold__threshold=0.006;, score=0.829 total time= 2.8min\n",
      "[CV 2/5] END classifier__learning_rate=0.2, classifier__max_depth=11, classifier__n_estimators=350, undersample__sampling_strategy=auto, variance_threshold__threshold=0.006;, score=0.821 total time= 3.9min\n",
      "[CV 5/5] END classifier__learning_rate=0.1, classifier__max_depth=9, classifier__n_estimators=150, undersample__sampling_strategy=auto, variance_threshold__threshold=0.0006;, score=0.835 total time= 2.3min\n",
      "[CV 4/5] END classifier__learning_rate=0.1, classifier__max_depth=9, classifier__n_estimators=250, undersample__sampling_strategy=auto, variance_threshold__threshold=0.0006;, score=0.839 total time= 4.1min\n",
      "[CV 1/5] END classifier__learning_rate=0.1, classifier__max_depth=9, classifier__n_estimators=350, undersample__sampling_strategy=auto, variance_threshold__threshold=0.006;, score=0.822 total time= 3.2min\n",
      "[CV 4/5] END classifier__learning_rate=0.1, classifier__max_depth=9, classifier__n_estimators=350, undersample__sampling_strategy=auto, variance_threshold__threshold=0.006;, score=0.834 total time= 3.4min\n",
      "[CV 2/5] END classifier__learning_rate=0.1, classifier__max_depth=11, classifier__n_estimators=150, undersample__sampling_strategy=auto, variance_threshold__threshold=0.006;, score=0.828 total time= 1.8min\n",
      "[CV 3/5] END classifier__learning_rate=0.1, classifier__max_depth=11, classifier__n_estimators=250, undersample__sampling_strategy=auto, variance_threshold__threshold=0.0006;, score=0.836 total time= 5.3min\n",
      "[CV 4/5] END classifier__learning_rate=0.1, classifier__max_depth=11, classifier__n_estimators=350, undersample__sampling_strategy=auto, variance_threshold__threshold=0.0006;, score=0.839 total time= 7.3min\n",
      "[CV 5/5] END classifier__learning_rate=0.1, classifier__max_depth=16, classifier__n_estimators=150, undersample__sampling_strategy=auto, variance_threshold__threshold=0.0006;, score=0.832 total time= 4.5min\n",
      "[CV 5/5] END classifier__learning_rate=0.1, classifier__max_depth=16, classifier__n_estimators=250, undersample__sampling_strategy=auto, variance_threshold__threshold=0.0006;, score=0.831 total time= 7.2min\n",
      "[CV 1/5] END classifier__learning_rate=0.1, classifier__max_depth=16, classifier__n_estimators=350, undersample__sampling_strategy=auto, variance_threshold__threshold=0.006;, score=0.816 total time= 5.8min\n",
      "[CV 4/5] END classifier__learning_rate=0.1, classifier__max_depth=16, classifier__n_estimators=350, undersample__sampling_strategy=auto, variance_threshold__threshold=0.006;, score=0.827 total time= 5.9min\n",
      "[CV 2/5] END classifier__learning_rate=0.2, classifier__max_depth=9, classifier__n_estimators=250, undersample__sampling_strategy=auto, variance_threshold__threshold=0.0006;, score=0.826 total time= 4.0min\n",
      "[CV 2/5] END classifier__learning_rate=0.2, classifier__max_depth=9, classifier__n_estimators=350, undersample__sampling_strategy=auto, variance_threshold__threshold=0.0006;, score=0.822 total time= 5.5min\n",
      "[CV 3/5] END classifier__learning_rate=0.2, classifier__max_depth=11, classifier__n_estimators=150, undersample__sampling_strategy=auto, variance_threshold__threshold=0.0006;, score=0.833 total time= 2.9min\n",
      "[CV 1/5] END classifier__learning_rate=0.2, classifier__max_depth=11, classifier__n_estimators=250, undersample__sampling_strategy=auto, variance_threshold__threshold=0.0006;, score=0.819 total time= 4.8min\n",
      "[CV 2/5] END classifier__learning_rate=0.2, classifier__max_depth=11, classifier__n_estimators=350, undersample__sampling_strategy=auto, variance_threshold__threshold=0.0006;, score=0.818 total time= 6.8min\n",
      "[CV 3/5] END classifier__learning_rate=0.2, classifier__max_depth=16, classifier__n_estimators=150, undersample__sampling_strategy=auto, variance_threshold__threshold=0.0006;, score=0.827 total time= 4.2min\n",
      "[CV 4/5] END classifier__learning_rate=0.2, classifier__max_depth=9, classifier__n_estimators=350, undersample__sampling_strategy=auto, variance_threshold__threshold=0.006;, score=0.824 total time= 3.2min\n",
      "[CV 2/5] END classifier__learning_rate=0.2, classifier__max_depth=11, classifier__n_estimators=150, undersample__sampling_strategy=auto, variance_threshold__threshold=0.006;, score=0.820 total time= 1.7min\n",
      "[CV 4/5] END classifier__learning_rate=0.2, classifier__max_depth=11, classifier__n_estimators=250, undersample__sampling_strategy=auto, variance_threshold__threshold=0.0006;, score=0.830 total time= 4.8min\n",
      "[CV 5/5] END classifier__learning_rate=0.2, classifier__max_depth=11, classifier__n_estimators=350, undersample__sampling_strategy=auto, variance_threshold__threshold=0.0006;, score=0.825 total time= 6.7min\n",
      "[CV 1/5] END classifier__learning_rate=0.2, classifier__max_depth=16, classifier__n_estimators=150, undersample__sampling_strategy=auto, variance_threshold__threshold=0.006;, score=0.821 total time= 2.5min\n",
      "[CV 3/5] END classifier__learning_rate=0.2, classifier__max_depth=16, classifier__n_estimators=150, undersample__sampling_strategy=auto, variance_threshold__threshold=0.006;, score=0.828 total time= 2.5min\n",
      "[CV 1/5] END classifier__learning_rate=0.2, classifier__max_depth=16, classifier__n_estimators=250, undersample__sampling_strategy=auto, variance_threshold__threshold=0.006;, score=0.814 total time= 4.1min\n",
      "[CV 3/5] END classifier__learning_rate=0.2, classifier__max_depth=11, classifier__n_estimators=350, undersample__sampling_strategy=auto, variance_threshold__threshold=0.006;, score=0.827 total time= 3.9min\n",
      "[CV 1/5] END classifier__learning_rate=0.2, classifier__max_depth=16, classifier__n_estimators=150, undersample__sampling_strategy=auto, variance_threshold__threshold=0.0006;, score=0.824 total time= 4.3min\n",
      "[CV 5/5] END classifier__learning_rate=0.2, classifier__max_depth=16, classifier__n_estimators=150, undersample__sampling_strategy=auto, variance_threshold__threshold=0.006;, score=0.819 total time= 2.5min\n",
      "[CV 3/5] END classifier__learning_rate=0.2, classifier__max_depth=16, classifier__n_estimators=250, undersample__sampling_strategy=auto, variance_threshold__threshold=0.006;, score=0.828 total time= 4.1min\n",
      "[CV 5/5] END classifier__learning_rate=0.2, classifier__max_depth=11, classifier__n_estimators=150, undersample__sampling_strategy=auto, variance_threshold__threshold=0.0006;, score=0.827 total time= 2.9min\n",
      "[CV 5/5] END classifier__learning_rate=0.2, classifier__max_depth=11, classifier__n_estimators=250, undersample__sampling_strategy=auto, variance_threshold__threshold=0.0006;, score=0.831 total time= 4.9min\n",
      "[CV 1/5] END classifier__learning_rate=0.2, classifier__max_depth=11, classifier__n_estimators=350, undersample__sampling_strategy=auto, variance_threshold__threshold=0.006;, score=0.820 total time= 3.8min\n",
      "[CV 4/5] END classifier__learning_rate=0.2, classifier__max_depth=11, classifier__n_estimators=350, undersample__sampling_strategy=auto, variance_threshold__threshold=0.006;, score=0.827 total time= 3.9min\n",
      "[CV 2/5] END classifier__learning_rate=0.2, classifier__max_depth=16, classifier__n_estimators=150, undersample__sampling_strategy=auto, variance_threshold__threshold=0.006;, score=0.815 total time= 2.5min\n",
      "[CV 2/5] END classifier__learning_rate=0.2, classifier__max_depth=16, classifier__n_estimators=250, undersample__sampling_strategy=auto, variance_threshold__threshold=0.0006;, score=0.825 total time= 7.1min\n",
      "[CV 1/5] END classifier__learning_rate=0.2, classifier__max_depth=11, classifier__n_estimators=350, undersample__sampling_strategy=auto, variance_threshold__threshold=0.0006;, score=0.815 total time= 6.7min\n",
      "[CV 2/5] END classifier__learning_rate=0.2, classifier__max_depth=16, classifier__n_estimators=150, undersample__sampling_strategy=auto, variance_threshold__threshold=0.0006;, score=0.816 total time= 4.2min\n",
      "[CV 1/5] END classifier__learning_rate=0.2, classifier__max_depth=16, classifier__n_estimators=250, undersample__sampling_strategy=auto, variance_threshold__threshold=0.0006;, score=0.822 total time= 7.0min\n",
      "[CV 2/5] END classifier__learning_rate=0.2, classifier__max_depth=16, classifier__n_estimators=350, undersample__sampling_strategy=auto, variance_threshold__threshold=0.0006;, score=0.823 total time= 9.9min\n",
      "[CV 3/5] END classifier__learning_rate=0.3, classifier__max_depth=9, classifier__n_estimators=150, undersample__sampling_strategy=auto, variance_threshold__threshold=0.0006;, score=0.832 total time= 2.4min\n",
      "[CV 4/5] END classifier__learning_rate=0.2, classifier__max_depth=11, classifier__n_estimators=150, undersample__sampling_strategy=auto, variance_threshold__threshold=0.0006;, score=0.833 total time= 2.9min\n",
      "[CV 3/5] END classifier__learning_rate=0.2, classifier__max_depth=11, classifier__n_estimators=250, undersample__sampling_strategy=auto, variance_threshold__threshold=0.0006;, score=0.830 total time= 4.8min\n",
      "[CV 4/5] END classifier__learning_rate=0.2, classifier__max_depth=11, classifier__n_estimators=350, undersample__sampling_strategy=auto, variance_threshold__threshold=0.0006;, score=0.831 total time= 6.7min\n",
      "[CV 5/5] END classifier__learning_rate=0.2, classifier__max_depth=16, classifier__n_estimators=150, undersample__sampling_strategy=auto, variance_threshold__threshold=0.0006;, score=0.822 total time= 4.3min\n",
      "[CV 5/5] END classifier__learning_rate=0.2, classifier__max_depth=16, classifier__n_estimators=250, undersample__sampling_strategy=auto, variance_threshold__threshold=0.0006;, score=0.830 total time= 7.1min\n",
      "[CV 5/5] END classifier__learning_rate=0.2, classifier__max_depth=16, classifier__n_estimators=350, undersample__sampling_strategy=auto, variance_threshold__threshold=0.0006;, score=0.822 total time= 9.8min\n",
      "[CV 1/5] END classifier__learning_rate=0.3, classifier__max_depth=9, classifier__n_estimators=150, undersample__sampling_strategy=auto, variance_threshold__threshold=0.006;, score=0.817 total time= 1.4min\n",
      "[CV 5/5] END classifier__learning_rate=0.3, classifier__max_depth=9, classifier__n_estimators=150, undersample__sampling_strategy=auto, variance_threshold__threshold=0.006;, score=0.822 total time= 1.4min\n",
      "[CV 2/5] END classifier__learning_rate=0.3, classifier__max_depth=9, classifier__n_estimators=250, undersample__sampling_strategy=auto, variance_threshold__threshold=0.006;, score=0.815 total time= 2.3min\n",
      "[CV 5/5] END classifier__learning_rate=0.2, classifier__max_depth=11, classifier__n_estimators=350, undersample__sampling_strategy=auto, variance_threshold__threshold=0.006;, score=0.822 total time= 3.9min\n",
      "[CV 4/5] END classifier__learning_rate=0.2, classifier__max_depth=16, classifier__n_estimators=150, undersample__sampling_strategy=auto, variance_threshold__threshold=0.006;, score=0.829 total time= 2.5min\n",
      "[CV 2/5] END classifier__learning_rate=0.2, classifier__max_depth=16, classifier__n_estimators=250, undersample__sampling_strategy=auto, variance_threshold__threshold=0.006;, score=0.817 total time= 4.1min\n",
      "[CV 5/5] END classifier__learning_rate=0.2, classifier__max_depth=16, classifier__n_estimators=250, undersample__sampling_strategy=auto, variance_threshold__threshold=0.006;, score=0.821 total time= 4.1min\n",
      "[CV 3/5] END classifier__learning_rate=0.2, classifier__max_depth=16, classifier__n_estimators=350, undersample__sampling_strategy=auto, variance_threshold__threshold=0.006;, score=0.827 total time= 5.7min\n",
      "[CV 1/5] END classifier__learning_rate=0.3, classifier__max_depth=9, classifier__n_estimators=150, undersample__sampling_strategy=auto, variance_threshold__threshold=0.0006;, score=0.822 total time= 2.4min\n",
      "[CV 2/5] END classifier__learning_rate=0.3, classifier__max_depth=9, classifier__n_estimators=150, undersample__sampling_strategy=auto, variance_threshold__threshold=0.006;, score=0.818 total time= 1.4min\n",
      "[CV 2/5] END classifier__learning_rate=0.3, classifier__max_depth=9, classifier__n_estimators=250, undersample__sampling_strategy=auto, variance_threshold__threshold=0.0006;, score=0.826 total time= 4.0min\n",
      "[CV 2/5] END classifier__learning_rate=0.2, classifier__max_depth=11, classifier__n_estimators=150, undersample__sampling_strategy=auto, variance_threshold__threshold=0.0006;, score=0.826 total time= 2.9min\n",
      "[CV 2/5] END classifier__learning_rate=0.2, classifier__max_depth=11, classifier__n_estimators=250, undersample__sampling_strategy=auto, variance_threshold__threshold=0.0006;, score=0.822 total time= 4.8min\n",
      "[CV 3/5] END classifier__learning_rate=0.2, classifier__max_depth=11, classifier__n_estimators=350, undersample__sampling_strategy=auto, variance_threshold__threshold=0.0006;, score=0.826 total time= 6.8min\n",
      "[CV 4/5] END classifier__learning_rate=0.2, classifier__max_depth=16, classifier__n_estimators=150, undersample__sampling_strategy=auto, variance_threshold__threshold=0.0006;, score=0.829 total time= 4.3min\n",
      "[CV 4/5] END classifier__learning_rate=0.2, classifier__max_depth=16, classifier__n_estimators=250, undersample__sampling_strategy=auto, variance_threshold__threshold=0.0006;, score=0.829 total time= 7.1min\n",
      "[CV 4/5] END classifier__learning_rate=0.2, classifier__max_depth=16, classifier__n_estimators=350, undersample__sampling_strategy=auto, variance_threshold__threshold=0.0006;, score=0.827 total time= 9.8min\n",
      "[CV 5/5] END classifier__learning_rate=0.3, classifier__max_depth=9, classifier__n_estimators=150, undersample__sampling_strategy=auto, variance_threshold__threshold=0.0006;, score=0.829 total time= 2.4min\n",
      "[CV 5/5] END classifier__learning_rate=0.3, classifier__max_depth=9, classifier__n_estimators=250, undersample__sampling_strategy=auto, variance_threshold__threshold=0.0006;, score=0.820 total time= 4.0min\n",
      "[CV 1/5] END classifier__learning_rate=0.2, classifier__max_depth=16, classifier__n_estimators=350, undersample__sampling_strategy=auto, variance_threshold__threshold=0.0006;, score=0.815 total time= 9.9min\n",
      "[CV 2/5] END classifier__learning_rate=0.3, classifier__max_depth=9, classifier__n_estimators=150, undersample__sampling_strategy=auto, variance_threshold__threshold=0.0006;, score=0.825 total time= 2.4min\n",
      "[CV 3/5] END classifier__learning_rate=0.3, classifier__max_depth=9, classifier__n_estimators=150, undersample__sampling_strategy=auto, variance_threshold__threshold=0.006;, score=0.830 total time= 1.4min\n",
      "[CV 4/5] END classifier__learning_rate=0.3, classifier__max_depth=9, classifier__n_estimators=250, undersample__sampling_strategy=auto, variance_threshold__threshold=0.0006;, score=0.825 total time= 4.0min\n",
      "[CV 5/5] END classifier__learning_rate=0.3, classifier__max_depth=9, classifier__n_estimators=350, undersample__sampling_strategy=auto, variance_threshold__threshold=0.0006;, score=0.819 total time= 5.6min\n",
      "[CV 1/5] END classifier__learning_rate=0.3, classifier__max_depth=11, classifier__n_estimators=150, undersample__sampling_strategy=auto, variance_threshold__threshold=0.006;, score=0.820 total time= 1.7min\n",
      "[CV 2/5] END classifier__learning_rate=0.3, classifier__max_depth=9, classifier__n_estimators=350, undersample__sampling_strategy=auto, variance_threshold__threshold=0.0006;, score=0.814 total time= 5.6min\n",
      "[CV 3/5] END classifier__learning_rate=0.3, classifier__max_depth=11, classifier__n_estimators=150, undersample__sampling_strategy=auto, variance_threshold__threshold=0.0006;, score=0.832 total time= 2.9min\n",
      "[CV 2/5] END classifier__learning_rate=0.3, classifier__max_depth=11, classifier__n_estimators=250, undersample__sampling_strategy=auto, variance_threshold__threshold=0.0006;, score=0.823 total time= 4.9min\n",
      "[CV 3/5] END classifier__learning_rate=0.2, classifier__max_depth=16, classifier__n_estimators=250, undersample__sampling_strategy=auto, variance_threshold__threshold=0.0006;, score=0.832 total time= 7.1min\n",
      "[CV 1/5] END classifier__learning_rate=0.2, classifier__max_depth=16, classifier__n_estimators=350, undersample__sampling_strategy=auto, variance_threshold__threshold=0.006;, score=0.820 total time= 5.6min\n",
      "[CV 4/5] END classifier__learning_rate=0.2, classifier__max_depth=16, classifier__n_estimators=350, undersample__sampling_strategy=auto, variance_threshold__threshold=0.006;, score=0.824 total time= 5.8min\n",
      "[CV 1/5] END classifier__learning_rate=0.3, classifier__max_depth=9, classifier__n_estimators=250, undersample__sampling_strategy=auto, variance_threshold__threshold=0.0006;, score=0.822 total time= 3.9min\n",
      "[CV 1/5] END classifier__learning_rate=0.3, classifier__max_depth=9, classifier__n_estimators=350, undersample__sampling_strategy=auto, variance_threshold__threshold=0.0006;, score=0.822 total time= 5.5min\n",
      "[CV 2/5] END classifier__learning_rate=0.3, classifier__max_depth=11, classifier__n_estimators=150, undersample__sampling_strategy=auto, variance_threshold__threshold=0.0006;, score=0.815 total time= 2.9min\n",
      "[CV 1/5] END classifier__learning_rate=0.3, classifier__max_depth=11, classifier__n_estimators=250, undersample__sampling_strategy=auto, variance_threshold__threshold=0.0006;, score=0.818 total time= 4.8min\n",
      "[CV 2/5] END classifier__learning_rate=0.3, classifier__max_depth=11, classifier__n_estimators=350, undersample__sampling_strategy=auto, variance_threshold__threshold=0.0006;, score=0.819 total time= 6.9min\n",
      "[CV 1/5] END classifier__learning_rate=0.3, classifier__max_depth=9, classifier__n_estimators=350, undersample__sampling_strategy=auto, variance_threshold__threshold=0.006;, score=0.814 total time= 3.2min\n",
      "[CV 4/5] END classifier__learning_rate=0.3, classifier__max_depth=9, classifier__n_estimators=350, undersample__sampling_strategy=auto, variance_threshold__threshold=0.006;, score=0.823 total time= 3.2min\n",
      "[CV 2/5] END classifier__learning_rate=0.3, classifier__max_depth=11, classifier__n_estimators=150, undersample__sampling_strategy=auto, variance_threshold__threshold=0.006;, score=0.816 total time= 1.7min\n",
      "[CV 4/5] END classifier__learning_rate=0.3, classifier__max_depth=11, classifier__n_estimators=250, undersample__sampling_strategy=auto, variance_threshold__threshold=0.0006;, score=0.825 total time= 4.8min\n",
      "[CV 5/5] END classifier__learning_rate=0.3, classifier__max_depth=11, classifier__n_estimators=350, undersample__sampling_strategy=auto, variance_threshold__threshold=0.0006;, score=0.820 total time= 6.8min\n",
      "[CV 1/5] END classifier__learning_rate=0.3, classifier__max_depth=16, classifier__n_estimators=150, undersample__sampling_strategy=auto, variance_threshold__threshold=0.006;, score=0.818 total time= 2.5min\n",
      "[CV 5/5] END classifier__learning_rate=0.3, classifier__max_depth=9, classifier__n_estimators=250, undersample__sampling_strategy=auto, variance_threshold__threshold=0.006;, score=0.822 total time= 2.3min\n",
      "[CV 3/5] END classifier__learning_rate=0.3, classifier__max_depth=9, classifier__n_estimators=350, undersample__sampling_strategy=auto, variance_threshold__threshold=0.006;, score=0.826 total time= 3.2min\n",
      "[CV 1/5] END classifier__learning_rate=0.3, classifier__max_depth=11, classifier__n_estimators=150, undersample__sampling_strategy=auto, variance_threshold__threshold=0.0006;, score=0.817 total time= 2.9min\n",
      "[CV 4/5] END classifier__learning_rate=0.3, classifier__max_depth=11, classifier__n_estimators=150, undersample__sampling_strategy=auto, variance_threshold__threshold=0.006;, score=0.833 total time= 1.7min\n",
      "[CV 2/5] END classifier__learning_rate=0.3, classifier__max_depth=11, classifier__n_estimators=250, undersample__sampling_strategy=auto, variance_threshold__threshold=0.006;, score=0.821 total time= 2.8min\n",
      "[CV 5/5] END classifier__learning_rate=0.3, classifier__max_depth=11, classifier__n_estimators=250, undersample__sampling_strategy=auto, variance_threshold__threshold=0.006;, score=0.819 total time= 2.8min\n",
      "[CV 3/5] END classifier__learning_rate=0.3, classifier__max_depth=11, classifier__n_estimators=350, undersample__sampling_strategy=auto, variance_threshold__threshold=0.006;, score=0.826 total time= 3.9min\n",
      "[CV 1/5] END classifier__learning_rate=0.3, classifier__max_depth=16, classifier__n_estimators=150, undersample__sampling_strategy=auto, variance_threshold__threshold=0.0006;, score=0.822 total time= 4.3min\n",
      "[CV 5/5] END classifier__learning_rate=0.3, classifier__max_depth=16, classifier__n_estimators=150, undersample__sampling_strategy=auto, variance_threshold__threshold=0.006;, score=0.821 total time= 2.5min\n",
      "[CV 3/5] END classifier__learning_rate=0.3, classifier__max_depth=16, classifier__n_estimators=250, undersample__sampling_strategy=auto, variance_threshold__threshold=0.006;, score=0.831 total time= 4.1min\n",
      "[CV 3/5] END classifier__learning_rate=0.2, classifier__max_depth=16, classifier__n_estimators=350, undersample__sampling_strategy=auto, variance_threshold__threshold=0.0006;, score=0.826 total time= 9.8min\n",
      "[CV 4/5] END classifier__learning_rate=0.3, classifier__max_depth=9, classifier__n_estimators=150, undersample__sampling_strategy=auto, variance_threshold__threshold=0.0006;, score=0.834 total time= 2.4min\n",
      "[CV 3/5] END classifier__learning_rate=0.3, classifier__max_depth=9, classifier__n_estimators=250, undersample__sampling_strategy=auto, variance_threshold__threshold=0.0006;, score=0.825 total time= 4.0min\n",
      "[CV 4/5] END classifier__learning_rate=0.3, classifier__max_depth=9, classifier__n_estimators=350, undersample__sampling_strategy=auto, variance_threshold__threshold=0.0006;, score=0.827 total time= 5.6min\n",
      "[CV 5/5] END classifier__learning_rate=0.3, classifier__max_depth=11, classifier__n_estimators=150, undersample__sampling_strategy=auto, variance_threshold__threshold=0.0006;, score=0.825 total time= 3.0min\n",
      "[CV 5/5] END classifier__learning_rate=0.3, classifier__max_depth=11, classifier__n_estimators=250, undersample__sampling_strategy=auto, variance_threshold__threshold=0.0006;, score=0.818 total time= 4.9min\n",
      "[CV 1/5] END classifier__learning_rate=0.3, classifier__max_depth=11, classifier__n_estimators=350, undersample__sampling_strategy=auto, variance_threshold__threshold=0.006;, score=0.818 total time= 3.9min\n",
      "[CV 4/5] END classifier__learning_rate=0.3, classifier__max_depth=11, classifier__n_estimators=350, undersample__sampling_strategy=auto, variance_threshold__threshold=0.006;, score=0.821 total time= 3.9min\n",
      "[CV 2/5] END classifier__learning_rate=0.3, classifier__max_depth=16, classifier__n_estimators=150, undersample__sampling_strategy=auto, variance_threshold__threshold=0.006;, score=0.811 total time= 2.5min\n",
      "[CV 2/5] END classifier__learning_rate=0.3, classifier__max_depth=16, classifier__n_estimators=250, undersample__sampling_strategy=auto, variance_threshold__threshold=0.0006;, score=0.821 total time= 7.2min\n",
      "[CV 3/5] END classifier__learning_rate=0.3, classifier__max_depth=11, classifier__n_estimators=150, undersample__sampling_strategy=auto, variance_threshold__threshold=0.006;, score=0.828 total time= 1.7min\n",
      "[CV 1/5] END classifier__learning_rate=0.3, classifier__max_depth=11, classifier__n_estimators=250, undersample__sampling_strategy=auto, variance_threshold__threshold=0.006;, score=0.815 total time= 2.8min\n",
      "[CV 4/5] END classifier__learning_rate=0.3, classifier__max_depth=11, classifier__n_estimators=250, undersample__sampling_strategy=auto, variance_threshold__threshold=0.006;, score=0.816 total time= 2.8min\n",
      "[CV 2/5] END classifier__learning_rate=0.3, classifier__max_depth=11, classifier__n_estimators=350, undersample__sampling_strategy=auto, variance_threshold__threshold=0.006;, score=0.812 total time= 3.9min\n",
      "[CV 5/5] END classifier__learning_rate=0.3, classifier__max_depth=11, classifier__n_estimators=350, undersample__sampling_strategy=auto, variance_threshold__threshold=0.006;, score=0.818 total time= 3.9min\n",
      "[CV 3/5] END classifier__learning_rate=0.3, classifier__max_depth=16, classifier__n_estimators=150, undersample__sampling_strategy=auto, variance_threshold__threshold=0.006;, score=0.829 total time= 2.5min\n",
      "[CV 1/5] END classifier__learning_rate=0.3, classifier__max_depth=16, classifier__n_estimators=250, undersample__sampling_strategy=auto, variance_threshold__threshold=0.006;, score=0.810 total time= 4.1min\n",
      "[CV 4/5] END classifier__learning_rate=0.3, classifier__max_depth=16, classifier__n_estimators=250, undersample__sampling_strategy=auto, variance_threshold__threshold=0.006;, score=0.826 total time= 4.1min\n",
      "[CV 4/5] END classifier__learning_rate=0.3, classifier__max_depth=16, classifier__n_estimators=150, undersample__sampling_strategy=auto, variance_threshold__threshold=0.006;, score=0.826 total time= 2.5min\n",
      "[CV 2/5] END classifier__learning_rate=0.3, classifier__max_depth=16, classifier__n_estimators=250, undersample__sampling_strategy=auto, variance_threshold__threshold=0.006;, score=0.812 total time= 4.1min\n",
      "[CV 5/5] END classifier__learning_rate=0.3, classifier__max_depth=16, classifier__n_estimators=250, undersample__sampling_strategy=auto, variance_threshold__threshold=0.006;, score=0.817 total time= 4.1min\n",
      "[CV 3/5] END classifier__learning_rate=0.3, classifier__max_depth=16, classifier__n_estimators=350, undersample__sampling_strategy=auto, variance_threshold__threshold=0.006;, score=0.818 total time= 5.7min\n",
      "Best parameters:  {'classifier__learning_rate': 0.1, 'classifier__max_depth': 9, 'classifier__n_estimators': 150, 'undersample__sampling_strategy': 'auto', 'variance_threshold__threshold': 0.0006}\n",
      "Best accuracy:  0.8358314301026759\n",
      "Accuracy on test set: 0.849\n"
     ]
    }
   ],
   "source": [
    "\n",
    "# Define the pipeline steps\n",
    "steps = [\n",
    "    ('undersample', RandomUnderSampler()),\n",
    "    ('variance_threshold', VarianceThreshold()),\n",
    "    ('classifier', XGBClassifier())\n",
    "]\n",
    "\n",
    "# Define the parameter grid for the pipeline\n",
    "param_grid = {\n",
    "    'undersample__sampling_strategy': ['auto'],\n",
    "    'variance_threshold__threshold': [0.0004, 0.004],\n",
    "    'classifier__max_depth': [9, 11, 16],\n",
    "    'classifier__n_estimators': [150, 250, 350],\n",
    "    'classifier__learning_rate': [0.1, 0.2, 0.3]\n",
    "}\n",
    "\n",
    "# Define the pipeline object\n",
    "pipeline = Pipeline(steps=steps)\n",
    "\n",
    "# Use GridSearchCV to find the best hyperparameters\n",
    "grid_search = GridSearchCV(\n",
    "    pipeline, param_grid=param_grid, cv=5, n_jobs=-1, verbose = 7\n",
    ")\n",
    "\n",
    "# Fit the pipeline to the training data\n",
    "grid_search.fit(X_train, y_train)\n",
    "\n",
    "# Print the best parameters and score\n",
    "print(\"Best parameters: \", grid_search.best_params_)\n",
    "print(\"Best accuracy: \", grid_search.best_score_)\n",
    "\n",
    "# Evaluate the best pipeline on the test set\n",
    "from sklearn.metrics import accuracy_score\n",
    "\n",
    "y_pred = grid.predict(X_test)\n",
    "accuracy = accuracy_score(y_test, y_pred)\n",
    "print(f\"Accuracy on test set: {accuracy:.3f}\")"
   ]
  },
  {
   "cell_type": "code",
   "execution_count": 78,
   "id": "88703e26-1498-4b2a-9e11-bab04bd1bd1e",
   "metadata": {},
   "outputs": [
    {
     "name": "stdout",
     "output_type": "stream",
     "text": [
      "Best parameters:  {'classifier__learning_rate': 0.1, 'classifier__max_depth': 9, 'classifier__n_estimators': 150, 'undersample__sampling_strategy': 'auto', 'variance_threshold__threshold': 0.0006}\n",
      "[CV 1/5] END classifier__learning_rate=0.3, classifier__max_depth=16, classifier__n_estimators=350, undersample__sampling_strategy=auto, variance_threshold__threshold=0.0006;, score=0.815 total time= 9.9min\n",
      "[CV 4/5] END classifier__learning_rate=0.3, classifier__max_depth=9, classifier__n_estimators=150, undersample__sampling_strategy=auto, variance_threshold__threshold=0.006;, score=0.826 total time= 1.4min\n",
      "[CV 1/5] END classifier__learning_rate=0.3, classifier__max_depth=9, classifier__n_estimators=250, undersample__sampling_strategy=auto, variance_threshold__threshold=0.006;, score=0.813 total time= 2.3min\n",
      "[CV 4/5] END classifier__learning_rate=0.3, classifier__max_depth=9, classifier__n_estimators=250, undersample__sampling_strategy=auto, variance_threshold__threshold=0.006;, score=0.823 total time= 2.3min\n",
      "[CV 2/5] END classifier__learning_rate=0.3, classifier__max_depth=9, classifier__n_estimators=350, undersample__sampling_strategy=auto, variance_threshold__threshold=0.006;, score=0.817 total time= 3.2min\n",
      "[CV 5/5] END classifier__learning_rate=0.3, classifier__max_depth=9, classifier__n_estimators=350, undersample__sampling_strategy=auto, variance_threshold__threshold=0.006;, score=0.819 total time= 3.2min\n",
      "[CV 5/5] END classifier__learning_rate=0.3, classifier__max_depth=11, classifier__n_estimators=150, undersample__sampling_strategy=auto, variance_threshold__threshold=0.006;, score=0.823 total time= 1.7min\n",
      "[CV 3/5] END classifier__learning_rate=0.3, classifier__max_depth=11, classifier__n_estimators=250, undersample__sampling_strategy=auto, variance_threshold__threshold=0.006;, score=0.826 total time= 2.8min\n",
      "[CV 1/5] END classifier__learning_rate=0.3, classifier__max_depth=11, classifier__n_estimators=350, undersample__sampling_strategy=auto, variance_threshold__threshold=0.0006;, score=0.817 total time= 6.8min\n",
      "[CV 2/5] END classifier__learning_rate=0.3, classifier__max_depth=16, classifier__n_estimators=150, undersample__sampling_strategy=auto, variance_threshold__threshold=0.0006;, score=0.822 total time= 4.3min\n",
      "[CV 1/5] END classifier__learning_rate=0.3, classifier__max_depth=16, classifier__n_estimators=250, undersample__sampling_strategy=auto, variance_threshold__threshold=0.0006;, score=0.815 total time= 7.1min\n",
      "[CV 2/5] END classifier__learning_rate=0.3, classifier__max_depth=16, classifier__n_estimators=350, undersample__sampling_strategy=auto, variance_threshold__threshold=0.0006;, score=0.815 total time= 9.8min\n",
      "[CV 3/5] END classifier__learning_rate=0.3, classifier__max_depth=16, classifier__n_estimators=350, undersample__sampling_strategy=auto, variance_threshold__threshold=0.0006;, score=0.822 total time= 9.6min\n",
      "[CV 3/5] END classifier__learning_rate=0.3, classifier__max_depth=16, classifier__n_estimators=150, undersample__sampling_strategy=auto, variance_threshold__threshold=0.0006;, score=0.830 total time= 4.3min\n",
      "[CV 3/5] END classifier__learning_rate=0.3, classifier__max_depth=16, classifier__n_estimators=250, undersample__sampling_strategy=auto, variance_threshold__threshold=0.0006;, score=0.829 total time= 7.1min\n",
      "[CV 4/5] END classifier__learning_rate=0.3, classifier__max_depth=16, classifier__n_estimators=350, undersample__sampling_strategy=auto, variance_threshold__threshold=0.0006;, score=0.823 total time= 9.6min\n",
      "[CV 3/5] END classifier__learning_rate=0.3, classifier__max_depth=11, classifier__n_estimators=350, undersample__sampling_strategy=auto, variance_threshold__threshold=0.0006;, score=0.826 total time= 6.8min\n",
      "[CV 4/5] END classifier__learning_rate=0.3, classifier__max_depth=16, classifier__n_estimators=150, undersample__sampling_strategy=auto, variance_threshold__threshold=0.0006;, score=0.828 total time= 4.3min\n",
      "[CV 4/5] END classifier__learning_rate=0.3, classifier__max_depth=16, classifier__n_estimators=250, undersample__sampling_strategy=auto, variance_threshold__threshold=0.0006;, score=0.830 total time= 7.2min\n",
      "[CV 5/5] END classifier__learning_rate=0.3, classifier__max_depth=16, classifier__n_estimators=350, undersample__sampling_strategy=auto, variance_threshold__threshold=0.0006;, score=0.825 total time= 9.5min\n",
      "[CV 4/5] END classifier__learning_rate=0.2, classifier__max_depth=16, classifier__n_estimators=250, undersample__sampling_strategy=auto, variance_threshold__threshold=0.006;, score=0.827 total time= 4.1min\n",
      "[CV 2/5] END classifier__learning_rate=0.2, classifier__max_depth=16, classifier__n_estimators=350, undersample__sampling_strategy=auto, variance_threshold__threshold=0.006;, score=0.814 total time= 5.6min\n",
      "[CV 5/5] END classifier__learning_rate=0.2, classifier__max_depth=16, classifier__n_estimators=350, undersample__sampling_strategy=auto, variance_threshold__threshold=0.006;, score=0.821 total time= 5.8min\n",
      "[CV 3/5] END classifier__learning_rate=0.3, classifier__max_depth=9, classifier__n_estimators=250, undersample__sampling_strategy=auto, variance_threshold__threshold=0.006;, score=0.827 total time= 2.3min\n",
      "[CV 3/5] END classifier__learning_rate=0.3, classifier__max_depth=9, classifier__n_estimators=350, undersample__sampling_strategy=auto, variance_threshold__threshold=0.0006;, score=0.829 total time= 5.5min\n",
      "[CV 4/5] END classifier__learning_rate=0.3, classifier__max_depth=11, classifier__n_estimators=150, undersample__sampling_strategy=auto, variance_threshold__threshold=0.0006;, score=0.828 total time= 2.9min\n",
      "[CV 3/5] END classifier__learning_rate=0.3, classifier__max_depth=11, classifier__n_estimators=250, undersample__sampling_strategy=auto, variance_threshold__threshold=0.0006;, score=0.827 total time= 4.9min\n",
      "[CV 4/5] END classifier__learning_rate=0.3, classifier__max_depth=11, classifier__n_estimators=350, undersample__sampling_strategy=auto, variance_threshold__threshold=0.0006;, score=0.826 total time= 6.8min\n",
      "[CV 5/5] END classifier__learning_rate=0.3, classifier__max_depth=16, classifier__n_estimators=150, undersample__sampling_strategy=auto, variance_threshold__threshold=0.0006;, score=0.823 total time= 4.3min\n",
      "[CV 5/5] END classifier__learning_rate=0.3, classifier__max_depth=16, classifier__n_estimators=250, undersample__sampling_strategy=auto, variance_threshold__threshold=0.0006;, score=0.822 total time= 7.1min\n",
      "[CV 1/5] END classifier__learning_rate=0.3, classifier__max_depth=16, classifier__n_estimators=350, undersample__sampling_strategy=auto, variance_threshold__threshold=0.006;, score=0.814 total time= 5.7min\n",
      "[CV 4/5] END classifier__learning_rate=0.3, classifier__max_depth=16, classifier__n_estimators=350, undersample__sampling_strategy=auto, variance_threshold__threshold=0.006;, score=0.824 total time= 4.6min\n",
      "[CV 2/5] END classifier__learning_rate=0.3, classifier__max_depth=16, classifier__n_estimators=350, undersample__sampling_strategy=auto, variance_threshold__threshold=0.006;, score=0.813 total time= 5.7min\n",
      "[CV 5/5] END classifier__learning_rate=0.3, classifier__max_depth=16, classifier__n_estimators=350, undersample__sampling_strategy=auto, variance_threshold__threshold=0.006;, score=0.817 total time= 3.6min\n"
     ]
    }
   ],
   "source": [
    "# Get the best pipeline and its parameters\n",
    "best_pipeline = grid_search.best_estimator_\n",
    "best_params = grid_search.best_params_\n",
    "\n",
    "# Print the best parameters\n",
    "print(\"Best parameters: \", best_params)"
   ]
  },
  {
   "cell_type": "code",
   "execution_count": 79,
   "id": "c43faa4f-9723-4281-b2d0-ebb555a22add",
   "metadata": {},
   "outputs": [
    {
     "data": {
      "text/plain": [
       "Pipeline(steps=[('undersample', RandomUnderSampler()),\n",
       "                ('variance_threshold', VarianceThreshold(threshold=0.0006)),\n",
       "                ('classifier',\n",
       "                 XGBClassifier(base_score=None, booster=None, callbacks=None,\n",
       "                               colsample_bylevel=None, colsample_bynode=None,\n",
       "                               colsample_bytree=None,\n",
       "                               early_stopping_rounds=None,\n",
       "                               enable_categorical=False, eval_metric=None,\n",
       "                               feature_types=None, gamma=None,...=None,\n",
       "                               grow_policy=None, importance_type=None,\n",
       "                               interaction_constraints=None, learning_rate=0.1,\n",
       "                               max_bin=None, max_cat_threshold=None,\n",
       "                               max_cat_to_onehot=None, max_delta_step=None,\n",
       "                               max_depth=9, max_leaves=None,\n",
       "                               min_child_weight=None, missing=nan,\n",
       "                               monotone_constraints=None, n_estimators=150,\n",
       "                               n_jobs=None, num_parallel_tree=None,\n",
       "                               predictor=None, random_state=None, ...))])"
      ]
     },
     "execution_count": 79,
     "metadata": {},
     "output_type": "execute_result"
    }
   ],
   "source": [
    "grid_search.best_estimator_"
   ]
  },
  {
   "cell_type": "markdown",
   "id": "af667873-c8a0-4cc8-8d2f-5004f90214d1",
   "metadata": {},
   "source": [
    "**Preliminar Conclusions**\n",
    "\n",
    "Downsampling\n",
    "Best Variance Threshold 0.004\n",
    "\n",
    "\n",
    "- About the data included, more data, better predictions, two bigger groups of data: triage data and past medical history data.\n",
    "- The models perform quite similar, however machine learning techniques offer nicely optimization options.\n",
    "- I wonder how the model would perform if I group the chief complains and past medical history columns into groups, this might reduce the computational expense and might be useful to apply the model in real scenarios.\n",
    "- Other possibility could be come back to the cleaning data and try to keep the data about laboratories and vitals history to see if the model improve the performance."
   ]
  },
  {
   "cell_type": "markdown",
   "id": "6c198542",
   "metadata": {},
   "source": [
    "END"
   ]
  }
 ],
 "metadata": {
  "kernelspec": {
   "display_name": "Python 3 (ipykernel)",
   "language": "python",
   "name": "python3"
  },
  "language_info": {
   "codemirror_mode": {
    "name": "ipython",
    "version": 3
   },
   "file_extension": ".py",
   "mimetype": "text/x-python",
   "name": "python",
   "nbconvert_exporter": "python",
   "pygments_lexer": "ipython3",
   "version": "3.9.13"
  }
 },
 "nbformat": 4,
 "nbformat_minor": 5
}
